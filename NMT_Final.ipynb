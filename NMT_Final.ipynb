{
 "cells": [
  {
   "cell_type": "markdown",
   "metadata": {
    "id": "nN_r5cojV8kL"
   },
   "source": [
    "**6156 NMT Group Project**\n",
    "\n",
    "Josh Fisher, Yifei Dong, Zhenrong Lao\n",
    "\n",
    "\n"
   ]
  },
  {
   "cell_type": "code",
   "execution_count": 1,
   "metadata": {
    "id": "9yW0ujqhUYGh"
   },
   "outputs": [],
   "source": [
    "#import necessary modules\n",
    "import tensorflow as tf\n",
    "import pandas as pd\n",
    "import numpy as np\n",
    "import string\n",
    "import re\n",
    "import itertools\n",
    "from matplotlib import pyplot as plt\n",
    "from nltk.tokenize import word_tokenize\n",
    "from nltk.tokenize import RegexpTokenizer"
   ]
  },
  {
   "cell_type": "code",
   "execution_count": null,
   "metadata": {},
   "outputs": [],
   "source": []
  },
  {
   "cell_type": "code",
   "execution_count": 3,
   "metadata": {
    "id": "XIysh0A8UYGl"
   },
   "outputs": [],
   "source": [
    "# loading dataset\n",
    "df_german = pd.read_csv('C:/Users/joshu/Documents/UNCC_Material/Spring_2021/Applied_Machine_Learning/Group_Project/German/news-commentary-v15.de-en.tsv', sep='\\t', error_bad_lines=False, header=None, warn_bad_lines=False)\n",
    "df_chinese = pd.read_csv('C:/Users/joshu/Documents/UNCC_Material/Spring_2021/Applied_Machine_Learning/Group_Project/Chinese/news-commentary-v15.en-zh.tsv', sep='\\t', error_bad_lines=False, header=None, warn_bad_lines=False)"
   ]
  },
  {
   "cell_type": "code",
   "execution_count": 4,
   "metadata": {
    "id": "74fyn_ZBUYGm"
   },
   "outputs": [],
   "source": [
    "pd.set_option('display.max_colwidth', None)"
   ]
  },
  {
   "cell_type": "code",
   "execution_count": 5,
   "metadata": {
    "colab": {
     "base_uri": "https://localhost:8080/",
     "height": 238
    },
    "id": "vwbqit4BUYGn",
    "outputId": "be051928-cb54-4fa4-a384-63693c7200b9"
   },
   "outputs": [
    {
     "data": {
      "text/html": [
       "<div>\n",
       "<style scoped>\n",
       "    .dataframe tbody tr th:only-of-type {\n",
       "        vertical-align: middle;\n",
       "    }\n",
       "\n",
       "    .dataframe tbody tr th {\n",
       "        vertical-align: top;\n",
       "    }\n",
       "\n",
       "    .dataframe thead th {\n",
       "        text-align: right;\n",
       "    }\n",
       "</style>\n",
       "<table border=\"1\" class=\"dataframe\">\n",
       "  <thead>\n",
       "    <tr style=\"text-align: right;\">\n",
       "      <th></th>\n",
       "      <th>German</th>\n",
       "      <th>English</th>\n",
       "    </tr>\n",
       "  </thead>\n",
       "  <tbody>\n",
       "    <tr>\n",
       "      <th>0</th>\n",
       "      <td>Steigt Gold auf 10.000 Dollar?</td>\n",
       "      <td>$10,000 Gold?</td>\n",
       "    </tr>\n",
       "    <tr>\n",
       "      <th>1</th>\n",
       "      <td>SAN FRANCISCO – Es war noch nie leicht, ein rationales Gespräch über den Wert von Gold zu führen.</td>\n",
       "      <td>SAN FRANCISCO – It has never been easy to have a rational conversation about the value of gold.</td>\n",
       "    </tr>\n",
       "    <tr>\n",
       "      <th>2</th>\n",
       "      <td>In letzter Zeit allerdings ist dies schwieriger denn je, ist doch der Goldpreis im letzten Jahrzehnt um über 300 Prozent angestiegen.</td>\n",
       "      <td>Lately, with gold prices up more than 300% over the last decade, it is harder than ever.</td>\n",
       "    </tr>\n",
       "    <tr>\n",
       "      <th>3</th>\n",
       "      <td>Erst letzten Dezember verfassten meine Kollegen Martin Feldstein und Nouriel Roubini Kommentare, in denen sie mutig die vorherrschende optimistische Marktstimmung hinterfragten und sehr überlegt auf die Risiken des Goldes hinwiesen.</td>\n",
       "      <td>Just last December, fellow economists Martin Feldstein and Nouriel Roubini each penned op-eds bravely questioning bullish market sentiment, sensibly pointing out gold’s risks.</td>\n",
       "    </tr>\n",
       "    <tr>\n",
       "      <th>4</th>\n",
       "      <td>Und es kam, wie es kommen musste.</td>\n",
       "      <td>Wouldn’t you know it?</td>\n",
       "    </tr>\n",
       "  </tbody>\n",
       "</table>\n",
       "</div>"
      ],
      "text/plain": [
       "                                                                                                                                                                                                                                     German  \\\n",
       "0                                                                                                                                                                                                            Steigt Gold auf 10.000 Dollar?   \n",
       "1                                                                                                                                         SAN FRANCISCO – Es war noch nie leicht, ein rationales Gespräch über den Wert von Gold zu führen.   \n",
       "2                                                                                                     In letzter Zeit allerdings ist dies schwieriger denn je, ist doch der Goldpreis im letzten Jahrzehnt um über 300 Prozent angestiegen.   \n",
       "3  Erst letzten Dezember verfassten meine Kollegen Martin Feldstein und Nouriel Roubini Kommentare, in denen sie mutig die vorherrschende optimistische Marktstimmung hinterfragten und sehr überlegt auf die Risiken des Goldes hinwiesen.   \n",
       "4                                                                                                                                                                                                         Und es kam, wie es kommen musste.   \n",
       "\n",
       "                                                                                                                                                                           English  \n",
       "0                                                                                                                                                                    $10,000 Gold?  \n",
       "1                                                                                  SAN FRANCISCO – It has never been easy to have a rational conversation about the value of gold.  \n",
       "2                                                                                         Lately, with gold prices up more than 300% over the last decade, it is harder than ever.  \n",
       "3  Just last December, fellow economists Martin Feldstein and Nouriel Roubini each penned op-eds bravely questioning bullish market sentiment, sensibly pointing out gold’s risks.  \n",
       "4                                                                                                                                                            Wouldn’t you know it?  "
      ]
     },
     "execution_count": 5,
     "metadata": {},
     "output_type": "execute_result"
    }
   ],
   "source": [
    "#fix column names\n",
    "df_german = df_german.rename(columns={0:'German', 1:'English'})\n",
    "df_german.head()"
   ]
  },
  {
   "cell_type": "code",
   "execution_count": 6,
   "metadata": {
    "colab": {
     "base_uri": "https://localhost:8080/",
     "height": 255
    },
    "id": "7VXOvHBQUYGo",
    "outputId": "3c843167-7f79-4640-824b-eac5eab08f1b"
   },
   "outputs": [
    {
     "data": {
      "text/html": [
       "<div>\n",
       "<style scoped>\n",
       "    .dataframe tbody tr th:only-of-type {\n",
       "        vertical-align: middle;\n",
       "    }\n",
       "\n",
       "    .dataframe tbody tr th {\n",
       "        vertical-align: top;\n",
       "    }\n",
       "\n",
       "    .dataframe thead th {\n",
       "        text-align: right;\n",
       "    }\n",
       "</style>\n",
       "<table border=\"1\" class=\"dataframe\">\n",
       "  <thead>\n",
       "    <tr style=\"text-align: right;\">\n",
       "      <th></th>\n",
       "      <th>English</th>\n",
       "      <th>Chinese</th>\n",
       "    </tr>\n",
       "  </thead>\n",
       "  <tbody>\n",
       "    <tr>\n",
       "      <th>0</th>\n",
       "      <td>1929 or 1989?</td>\n",
       "      <td>1929年还是1989年?</td>\n",
       "    </tr>\n",
       "    <tr>\n",
       "      <th>1</th>\n",
       "      <td>PARIS – As the economic crisis deepens and widens, the world has been searching for historical analogies to help us understand what has been happening.</td>\n",
       "      <td>巴黎-随着经济危机不断加深和蔓延，整个世界一直在寻找历史上的类似事件希望有助于我们了解目前正在发生的情况。</td>\n",
       "    </tr>\n",
       "    <tr>\n",
       "      <th>2</th>\n",
       "      <td>At the start of the crisis, many people likened it to 1982 or 1973, which was reassuring, because both dates refer to classical cyclical downturns.</td>\n",
       "      <td>一开始，很多人把这次危机比作1982年或1973年所发生的情况，这样得类比是令人宽心的，因为这两段时期意味着典型的周期性衰退。</td>\n",
       "    </tr>\n",
       "    <tr>\n",
       "      <th>3</th>\n",
       "      <td>Today, the mood is much grimmer, with references to 1929 and 1931 beginning to abound, even if some governments continue to behave as if the crisis was more classical than exceptional.</td>\n",
       "      <td>如今人们的心情却是沉重多了，许多人开始把这次危机与1929年和1931年相比，即使一些国家政府的表现仍然似乎把视目前的情况为是典型的而看见的衰退。</td>\n",
       "    </tr>\n",
       "    <tr>\n",
       "      <th>4</th>\n",
       "      <td>The tendency is either excessive restraint (Europe) or a diffusion of the effort (the United States).</td>\n",
       "      <td>目前的趋势是，要么是过度的克制（欧洲 ） ， 要么是努力的扩展（美国 ） 。</td>\n",
       "    </tr>\n",
       "  </tbody>\n",
       "</table>\n",
       "</div>"
      ],
      "text/plain": [
       "                                                                                                                                                                                    English  \\\n",
       "0                                                                                                                                                                             1929 or 1989?   \n",
       "1                                   PARIS – As the economic crisis deepens and widens, the world has been searching for historical analogies to help us understand what has been happening.   \n",
       "2                                       At the start of the crisis, many people likened it to 1982 or 1973, which was reassuring, because both dates refer to classical cyclical downturns.   \n",
       "3  Today, the mood is much grimmer, with references to 1929 and 1931 beginning to abound, even if some governments continue to behave as if the crisis was more classical than exceptional.   \n",
       "4                                                                                     The tendency is either excessive restraint (Europe) or a diffusion of the effort (the United States).   \n",
       "\n",
       "                                                                     Chinese  \n",
       "0                                                              1929年还是1989年?  \n",
       "1                      巴黎-随着经济危机不断加深和蔓延，整个世界一直在寻找历史上的类似事件希望有助于我们了解目前正在发生的情况。  \n",
       "2            一开始，很多人把这次危机比作1982年或1973年所发生的情况，这样得类比是令人宽心的，因为这两段时期意味着典型的周期性衰退。  \n",
       "3  如今人们的心情却是沉重多了，许多人开始把这次危机与1929年和1931年相比，即使一些国家政府的表现仍然似乎把视目前的情况为是典型的而看见的衰退。  \n",
       "4                                     目前的趋势是，要么是过度的克制（欧洲 ） ， 要么是努力的扩展（美国 ） 。  "
      ]
     },
     "execution_count": 6,
     "metadata": {},
     "output_type": "execute_result"
    }
   ],
   "source": [
    "#fix column names\n",
    "df_chinese = df_chinese.rename(columns={0:'English', 1:'Chinese'})\n",
    "df_chinese.head()"
   ]
  },
  {
   "cell_type": "markdown",
   "metadata": {
    "id": "XT_b9EegtlOf"
   },
   "source": [
    "# **Data Preprocessing**\n",
    "\n",
    "1. Remove missing values: self-explanatory. Removed rows where there were no text or one language text was missing\n",
    "\n",
    "2. Convert text to lowercase: reduce redundancy and noise from the text. Prevents the model from mistaking 'Word' as different from 'word'. Also helps to reduce the size of our vocabulary\n",
    "\n",
    "3. Remove special characters: special characters do not provide any value to understanding the text. They are not words and therefore do not require translation. Also helps to reduce size of vocabulary\n",
    "\n",
    "4. Tokenize the documents: split documents into tokens that we will use to build our vocab and later encode into integers for training. Model understands numbers not characters, so this is the first step in encoding process. \n",
    "\n",
    "5. Descriptive stats: get general idea of the corpus - shape of datasets, length of text, number of unique tokens"
   ]
  },
  {
   "cell_type": "code",
   "execution_count": 7,
   "metadata": {
    "colab": {
     "base_uri": "https://localhost:8080/"
    },
    "id": "eGBPCNDRUYGp",
    "outputId": "a76bc07c-201c-4a66-fdad-a95ee56f8736"
   },
   "outputs": [
    {
     "data": {
      "text/plain": [
       "German     9453\n",
       "English    9400\n",
       "dtype: int64"
      ]
     },
     "execution_count": 7,
     "metadata": {},
     "output_type": "execute_result"
    }
   ],
   "source": [
    "#Check number of missing values\n",
    "df_german.isnull().sum()"
   ]
  },
  {
   "cell_type": "code",
   "execution_count": 8,
   "metadata": {
    "colab": {
     "base_uri": "https://localhost:8080/"
    },
    "id": "5x330IuhUYGq",
    "outputId": "b86b6127-fa54-420a-9a57-253b84327cdd"
   },
   "outputs": [
    {
     "data": {
      "text/plain": [
       "English    8224\n",
       "Chinese    8168\n",
       "dtype: int64"
      ]
     },
     "execution_count": 8,
     "metadata": {},
     "output_type": "execute_result"
    }
   ],
   "source": [
    "#Check number of missing values\n",
    "df_chinese.isnull().sum()"
   ]
  },
  {
   "cell_type": "code",
   "execution_count": 9,
   "metadata": {
    "colab": {
     "base_uri": "https://localhost:8080/",
     "height": 419
    },
    "id": "HbTK5tSwUYGr",
    "outputId": "072dcd82-6cd1-455c-f02d-dc1403fca37c"
   },
   "outputs": [
    {
     "data": {
      "text/html": [
       "<div>\n",
       "<style scoped>\n",
       "    .dataframe tbody tr th:only-of-type {\n",
       "        vertical-align: middle;\n",
       "    }\n",
       "\n",
       "    .dataframe tbody tr th {\n",
       "        vertical-align: top;\n",
       "    }\n",
       "\n",
       "    .dataframe thead th {\n",
       "        text-align: right;\n",
       "    }\n",
       "</style>\n",
       "<table border=\"1\" class=\"dataframe\">\n",
       "  <thead>\n",
       "    <tr style=\"text-align: right;\">\n",
       "      <th></th>\n",
       "      <th>German</th>\n",
       "      <th>English</th>\n",
       "    </tr>\n",
       "  </thead>\n",
       "  <tbody>\n",
       "    <tr>\n",
       "      <th>46</th>\n",
       "      <td>NaN</td>\n",
       "      <td>NaN</td>\n",
       "    </tr>\n",
       "    <tr>\n",
       "      <th>77</th>\n",
       "      <td>NaN</td>\n",
       "      <td>NaN</td>\n",
       "    </tr>\n",
       "    <tr>\n",
       "      <th>117</th>\n",
       "      <td>Der Neoliberalismus füllte dieses Vakuum.</td>\n",
       "      <td>NaN</td>\n",
       "    </tr>\n",
       "    <tr>\n",
       "      <th>127</th>\n",
       "      <td>NaN</td>\n",
       "      <td>NaN</td>\n",
       "    </tr>\n",
       "    <tr>\n",
       "      <th>167</th>\n",
       "      <td>NaN</td>\n",
       "      <td>NaN</td>\n",
       "    </tr>\n",
       "    <tr>\n",
       "      <th>...</th>\n",
       "      <td>...</td>\n",
       "      <td>...</td>\n",
       "    </tr>\n",
       "    <tr>\n",
       "      <th>369595</th>\n",
       "      <td>NaN</td>\n",
       "      <td>NaN</td>\n",
       "    </tr>\n",
       "    <tr>\n",
       "      <th>369627</th>\n",
       "      <td>NaN</td>\n",
       "      <td>NaN</td>\n",
       "    </tr>\n",
       "    <tr>\n",
       "      <th>369658</th>\n",
       "      <td>NaN</td>\n",
       "      <td>NaN</td>\n",
       "    </tr>\n",
       "    <tr>\n",
       "      <th>369696</th>\n",
       "      <td>NaN</td>\n",
       "      <td>NaN</td>\n",
       "    </tr>\n",
       "    <tr>\n",
       "      <th>369728</th>\n",
       "      <td>NaN</td>\n",
       "      <td>NaN</td>\n",
       "    </tr>\n",
       "  </tbody>\n",
       "</table>\n",
       "<p>9742 rows × 2 columns</p>\n",
       "</div>"
      ],
      "text/plain": [
       "                                           German English\n",
       "46                                            NaN     NaN\n",
       "77                                            NaN     NaN\n",
       "117     Der Neoliberalismus füllte dieses Vakuum.     NaN\n",
       "127                                           NaN     NaN\n",
       "167                                           NaN     NaN\n",
       "...                                           ...     ...\n",
       "369595                                        NaN     NaN\n",
       "369627                                        NaN     NaN\n",
       "369658                                        NaN     NaN\n",
       "369696                                        NaN     NaN\n",
       "369728                                        NaN     NaN\n",
       "\n",
       "[9742 rows x 2 columns]"
      ]
     },
     "execution_count": 9,
     "metadata": {},
     "output_type": "execute_result"
    }
   ],
   "source": [
    "#Check id of missing values\n",
    "df_german[df_german.isnull().any(axis=1)]"
   ]
  },
  {
   "cell_type": "code",
   "execution_count": 10,
   "metadata": {
    "colab": {
     "base_uri": "https://localhost:8080/",
     "height": 419
    },
    "id": "mJ-CfMVpUYGs",
    "outputId": "ff3953e4-d6ba-48b4-8738-7fa41b7d204d"
   },
   "outputs": [
    {
     "data": {
      "text/html": [
       "<div>\n",
       "<style scoped>\n",
       "    .dataframe tbody tr th:only-of-type {\n",
       "        vertical-align: middle;\n",
       "    }\n",
       "\n",
       "    .dataframe tbody tr th {\n",
       "        vertical-align: top;\n",
       "    }\n",
       "\n",
       "    .dataframe thead th {\n",
       "        text-align: right;\n",
       "    }\n",
       "</style>\n",
       "<table border=\"1\" class=\"dataframe\">\n",
       "  <thead>\n",
       "    <tr style=\"text-align: right;\">\n",
       "      <th></th>\n",
       "      <th>English</th>\n",
       "      <th>Chinese</th>\n",
       "    </tr>\n",
       "  </thead>\n",
       "  <tbody>\n",
       "    <tr>\n",
       "      <th>30</th>\n",
       "      <td>NaN</td>\n",
       "      <td>NaN</td>\n",
       "    </tr>\n",
       "    <tr>\n",
       "      <th>65</th>\n",
       "      <td>NaN</td>\n",
       "      <td>NaN</td>\n",
       "    </tr>\n",
       "    <tr>\n",
       "      <th>97</th>\n",
       "      <td>NaN</td>\n",
       "      <td>NaN</td>\n",
       "    </tr>\n",
       "    <tr>\n",
       "      <th>136</th>\n",
       "      <td>NaN</td>\n",
       "      <td>NaN</td>\n",
       "    </tr>\n",
       "    <tr>\n",
       "      <th>172</th>\n",
       "      <td>NaN</td>\n",
       "      <td>NaN</td>\n",
       "    </tr>\n",
       "    <tr>\n",
       "      <th>...</th>\n",
       "      <td>...</td>\n",
       "      <td>...</td>\n",
       "    </tr>\n",
       "    <tr>\n",
       "      <th>320604</th>\n",
       "      <td>NaN</td>\n",
       "      <td>NaN</td>\n",
       "    </tr>\n",
       "    <tr>\n",
       "      <th>320637</th>\n",
       "      <td>NaN</td>\n",
       "      <td>NaN</td>\n",
       "    </tr>\n",
       "    <tr>\n",
       "      <th>320676</th>\n",
       "      <td>NaN</td>\n",
       "      <td>NaN</td>\n",
       "    </tr>\n",
       "    <tr>\n",
       "      <th>320682</th>\n",
       "      <td>Zuma is legendary for his ability to connect with ordinary people.</td>\n",
       "      <td>NaN</td>\n",
       "    </tr>\n",
       "    <tr>\n",
       "      <th>320712</th>\n",
       "      <td>NaN</td>\n",
       "      <td>NaN</td>\n",
       "    </tr>\n",
       "  </tbody>\n",
       "</table>\n",
       "<p>8445 rows × 2 columns</p>\n",
       "</div>"
      ],
      "text/plain": [
       "                                                                   English  \\\n",
       "30                                                                     NaN   \n",
       "65                                                                     NaN   \n",
       "97                                                                     NaN   \n",
       "136                                                                    NaN   \n",
       "172                                                                    NaN   \n",
       "...                                                                    ...   \n",
       "320604                                                                 NaN   \n",
       "320637                                                                 NaN   \n",
       "320676                                                                 NaN   \n",
       "320682  Zuma is legendary for his ability to connect with ordinary people.   \n",
       "320712                                                                 NaN   \n",
       "\n",
       "       Chinese  \n",
       "30         NaN  \n",
       "65         NaN  \n",
       "97         NaN  \n",
       "136        NaN  \n",
       "172        NaN  \n",
       "...        ...  \n",
       "320604     NaN  \n",
       "320637     NaN  \n",
       "320676     NaN  \n",
       "320682     NaN  \n",
       "320712     NaN  \n",
       "\n",
       "[8445 rows x 2 columns]"
      ]
     },
     "execution_count": 10,
     "metadata": {},
     "output_type": "execute_result"
    }
   ],
   "source": [
    "#Check id of missing values\n",
    "df_chinese[df_chinese.isnull().any(axis=1)]"
   ]
  },
  {
   "cell_type": "code",
   "execution_count": 11,
   "metadata": {
    "colab": {
     "base_uri": "https://localhost:8080/"
    },
    "id": "EuMNUHc5UYGt",
    "outputId": "3f8c941a-1e81-4c31-e867-adc93982b298"
   },
   "outputs": [
    {
     "data": {
      "text/plain": [
       "German     0\n",
       "English    0\n",
       "dtype: int64"
      ]
     },
     "execution_count": 11,
     "metadata": {},
     "output_type": "execute_result"
    }
   ],
   "source": [
    "#remove missing values\n",
    "df_german = df_german.dropna()\n",
    "df_german.isnull().sum()"
   ]
  },
  {
   "cell_type": "code",
   "execution_count": 12,
   "metadata": {
    "colab": {
     "base_uri": "https://localhost:8080/"
    },
    "id": "d95iZ9IlUYGu",
    "outputId": "b64f5ea5-1601-4daa-a55e-50dbb3b551c9"
   },
   "outputs": [
    {
     "data": {
      "text/plain": [
       "English    0\n",
       "Chinese    0\n",
       "dtype: int64"
      ]
     },
     "execution_count": 12,
     "metadata": {},
     "output_type": "execute_result"
    }
   ],
   "source": [
    "#remove missing values\n",
    "df_chinese = df_chinese.dropna()\n",
    "df_chinese.isnull().sum()"
   ]
  },
  {
   "cell_type": "code",
   "execution_count": 13,
   "metadata": {
    "id": "nSDrjZNLUYGv"
   },
   "outputs": [],
   "source": [
    "#convert everything to lower case to get rid of unhelpful parts of the data and reduce noise. Also preventing the model from idenyify capitalized words as different words. \n",
    "df_german['German'] = df_german['German'].apply(lambda x:x.lower())\n",
    "df_german['English'] = df_german['English'].apply(lambda x:x.lower())\n",
    "\n",
    "df_chinese['Chinese'] = df_chinese['Chinese'].apply(lambda x:x.lower())\n",
    "df_chinese['English'] = df_chinese['English'].apply(lambda x:x.lower())"
   ]
  },
  {
   "cell_type": "code",
   "execution_count": 14,
   "metadata": {
    "colab": {
     "base_uri": "https://localhost:8080/",
     "height": 255
    },
    "id": "sVzZ4ffSUYGw",
    "outputId": "3f15eece-2143-4527-cfc0-3361ac4fb39c"
   },
   "outputs": [
    {
     "data": {
      "text/html": [
       "<div>\n",
       "<style scoped>\n",
       "    .dataframe tbody tr th:only-of-type {\n",
       "        vertical-align: middle;\n",
       "    }\n",
       "\n",
       "    .dataframe tbody tr th {\n",
       "        vertical-align: top;\n",
       "    }\n",
       "\n",
       "    .dataframe thead th {\n",
       "        text-align: right;\n",
       "    }\n",
       "</style>\n",
       "<table border=\"1\" class=\"dataframe\">\n",
       "  <thead>\n",
       "    <tr style=\"text-align: right;\">\n",
       "      <th></th>\n",
       "      <th>English</th>\n",
       "      <th>Chinese</th>\n",
       "    </tr>\n",
       "  </thead>\n",
       "  <tbody>\n",
       "    <tr>\n",
       "      <th>0</th>\n",
       "      <td>1929 or 1989?</td>\n",
       "      <td>1929年还是1989年?</td>\n",
       "    </tr>\n",
       "    <tr>\n",
       "      <th>1</th>\n",
       "      <td>paris – as the economic crisis deepens and widens, the world has been searching for historical analogies to help us understand what has been happening.</td>\n",
       "      <td>巴黎-随着经济危机不断加深和蔓延，整个世界一直在寻找历史上的类似事件希望有助于我们了解目前正在发生的情况。</td>\n",
       "    </tr>\n",
       "    <tr>\n",
       "      <th>2</th>\n",
       "      <td>at the start of the crisis, many people likened it to 1982 or 1973, which was reassuring, because both dates refer to classical cyclical downturns.</td>\n",
       "      <td>一开始，很多人把这次危机比作1982年或1973年所发生的情况，这样得类比是令人宽心的，因为这两段时期意味着典型的周期性衰退。</td>\n",
       "    </tr>\n",
       "    <tr>\n",
       "      <th>3</th>\n",
       "      <td>today, the mood is much grimmer, with references to 1929 and 1931 beginning to abound, even if some governments continue to behave as if the crisis was more classical than exceptional.</td>\n",
       "      <td>如今人们的心情却是沉重多了，许多人开始把这次危机与1929年和1931年相比，即使一些国家政府的表现仍然似乎把视目前的情况为是典型的而看见的衰退。</td>\n",
       "    </tr>\n",
       "    <tr>\n",
       "      <th>4</th>\n",
       "      <td>the tendency is either excessive restraint (europe) or a diffusion of the effort (the united states).</td>\n",
       "      <td>目前的趋势是，要么是过度的克制（欧洲 ） ， 要么是努力的扩展（美国 ） 。</td>\n",
       "    </tr>\n",
       "  </tbody>\n",
       "</table>\n",
       "</div>"
      ],
      "text/plain": [
       "                                                                                                                                                                                    English  \\\n",
       "0                                                                                                                                                                             1929 or 1989?   \n",
       "1                                   paris – as the economic crisis deepens and widens, the world has been searching for historical analogies to help us understand what has been happening.   \n",
       "2                                       at the start of the crisis, many people likened it to 1982 or 1973, which was reassuring, because both dates refer to classical cyclical downturns.   \n",
       "3  today, the mood is much grimmer, with references to 1929 and 1931 beginning to abound, even if some governments continue to behave as if the crisis was more classical than exceptional.   \n",
       "4                                                                                     the tendency is either excessive restraint (europe) or a diffusion of the effort (the united states).   \n",
       "\n",
       "                                                                     Chinese  \n",
       "0                                                              1929年还是1989年?  \n",
       "1                      巴黎-随着经济危机不断加深和蔓延，整个世界一直在寻找历史上的类似事件希望有助于我们了解目前正在发生的情况。  \n",
       "2            一开始，很多人把这次危机比作1982年或1973年所发生的情况，这样得类比是令人宽心的，因为这两段时期意味着典型的周期性衰退。  \n",
       "3  如今人们的心情却是沉重多了，许多人开始把这次危机与1929年和1931年相比，即使一些国家政府的表现仍然似乎把视目前的情况为是典型的而看见的衰退。  \n",
       "4                                     目前的趋势是，要么是过度的克制（欧洲 ） ， 要么是努力的扩展（美国 ） 。  "
      ]
     },
     "execution_count": 14,
     "metadata": {},
     "output_type": "execute_result"
    }
   ],
   "source": [
    "df_chinese.head()"
   ]
  },
  {
   "cell_type": "code",
   "execution_count": 15,
   "metadata": {
    "colab": {
     "base_uri": "https://localhost:8080/",
     "height": 221
    },
    "id": "HIB5UntcUYGx",
    "outputId": "f755f7e2-c631-4195-f632-f5a71cbe80ad"
   },
   "outputs": [
    {
     "data": {
      "text/html": [
       "<div>\n",
       "<style scoped>\n",
       "    .dataframe tbody tr th:only-of-type {\n",
       "        vertical-align: middle;\n",
       "    }\n",
       "\n",
       "    .dataframe tbody tr th {\n",
       "        vertical-align: top;\n",
       "    }\n",
       "\n",
       "    .dataframe thead th {\n",
       "        text-align: right;\n",
       "    }\n",
       "</style>\n",
       "<table border=\"1\" class=\"dataframe\">\n",
       "  <thead>\n",
       "    <tr style=\"text-align: right;\">\n",
       "      <th></th>\n",
       "      <th>German</th>\n",
       "      <th>English</th>\n",
       "    </tr>\n",
       "  </thead>\n",
       "  <tbody>\n",
       "    <tr>\n",
       "      <th>0</th>\n",
       "      <td>steigt gold auf 10000 dollar</td>\n",
       "      <td>10000 gold</td>\n",
       "    </tr>\n",
       "    <tr>\n",
       "      <th>1</th>\n",
       "      <td>san francisco – es war noch nie leicht ein rationales gespräch über den wert von gold zu führen</td>\n",
       "      <td>san francisco – it has never been easy to have a rational conversation about the value of gold</td>\n",
       "    </tr>\n",
       "    <tr>\n",
       "      <th>2</th>\n",
       "      <td>in letzter zeit allerdings ist dies schwieriger denn je ist doch der goldpreis im letzten jahrzehnt um über 300 prozent angestiegen</td>\n",
       "      <td>lately with gold prices up more than 300 over the last decade it is harder than ever</td>\n",
       "    </tr>\n",
       "    <tr>\n",
       "      <th>3</th>\n",
       "      <td>erst letzten dezember verfassten meine kollegen martin feldstein und nouriel roubini kommentare in denen sie mutig die vorherrschende optimistische marktstimmung hinterfragten und sehr überlegt auf die risiken des goldes hinwiesen</td>\n",
       "      <td>just last december fellow economists martin feldstein and nouriel roubini each penned op-eds bravely questioning bullish market sentiment sensibly pointing out gold’s risks</td>\n",
       "    </tr>\n",
       "    <tr>\n",
       "      <th>4</th>\n",
       "      <td>und es kam wie es kommen musste</td>\n",
       "      <td>wouldn’t you know it</td>\n",
       "    </tr>\n",
       "  </tbody>\n",
       "</table>\n",
       "</div>"
      ],
      "text/plain": [
       "                                                                                                                                                                                                                                   German  \\\n",
       "0                                                                                                                                                                                                            steigt gold auf 10000 dollar   \n",
       "1                                                                                                                                         san francisco – es war noch nie leicht ein rationales gespräch über den wert von gold zu führen   \n",
       "2                                                                                                     in letzter zeit allerdings ist dies schwieriger denn je ist doch der goldpreis im letzten jahrzehnt um über 300 prozent angestiegen   \n",
       "3  erst letzten dezember verfassten meine kollegen martin feldstein und nouriel roubini kommentare in denen sie mutig die vorherrschende optimistische marktstimmung hinterfragten und sehr überlegt auf die risiken des goldes hinwiesen   \n",
       "4                                                                                                                                                                                                         und es kam wie es kommen musste   \n",
       "\n",
       "                                                                                                                                                                        English  \n",
       "0                                                                                                                                                                    10000 gold  \n",
       "1                                                                                san francisco – it has never been easy to have a rational conversation about the value of gold  \n",
       "2                                                                                          lately with gold prices up more than 300 over the last decade it is harder than ever  \n",
       "3  just last december fellow economists martin feldstein and nouriel roubini each penned op-eds bravely questioning bullish market sentiment sensibly pointing out gold’s risks  \n",
       "4                                                                                                                                                          wouldn’t you know it  "
      ]
     },
     "execution_count": 15,
     "metadata": {},
     "output_type": "execute_result"
    }
   ],
   "source": [
    "#remove special characters, because all the special characters for both languages are the same, removing it can help reduce noise. \n",
    "df_german['German'] = df_german['German'].map(lambda x: re.sub(r\"[$%-()\\\"#/@;:<>{}`+=~|.!?,]\", \"\", x))\n",
    "df_german['English'] = df_german['English'].map(lambda x: re.sub(r\"[$%-()\\\"#/@;:<>{}`+=~|.!?,]\", \"\", x))\n",
    "\n",
    "df_german.head()"
   ]
  },
  {
   "cell_type": "code",
   "execution_count": 16,
   "metadata": {
    "colab": {
     "base_uri": "https://localhost:8080/",
     "height": 255
    },
    "id": "7k64tui5UYGy",
    "outputId": "9356bf9a-f23c-402f-f9a8-6023b31cdc59"
   },
   "outputs": [
    {
     "data": {
      "text/html": [
       "<div>\n",
       "<style scoped>\n",
       "    .dataframe tbody tr th:only-of-type {\n",
       "        vertical-align: middle;\n",
       "    }\n",
       "\n",
       "    .dataframe tbody tr th {\n",
       "        vertical-align: top;\n",
       "    }\n",
       "\n",
       "    .dataframe thead th {\n",
       "        text-align: right;\n",
       "    }\n",
       "</style>\n",
       "<table border=\"1\" class=\"dataframe\">\n",
       "  <thead>\n",
       "    <tr style=\"text-align: right;\">\n",
       "      <th></th>\n",
       "      <th>English</th>\n",
       "      <th>Chinese</th>\n",
       "    </tr>\n",
       "  </thead>\n",
       "  <tbody>\n",
       "    <tr>\n",
       "      <th>0</th>\n",
       "      <td>1929 or 1989</td>\n",
       "      <td>1929年还是1989年</td>\n",
       "    </tr>\n",
       "    <tr>\n",
       "      <th>1</th>\n",
       "      <td>paris – as the economic crisis deepens and widens the world has been searching for historical analogies to help us understand what has been happening</td>\n",
       "      <td>巴黎-随着经济危机不断加深和蔓延，整个世界一直在寻找历史上的类似事件希望有助于我们了解目前正在发生的情况。</td>\n",
       "    </tr>\n",
       "    <tr>\n",
       "      <th>2</th>\n",
       "      <td>at the start of the crisis many people likened it to 1982 or 1973 which was reassuring because both dates refer to classical cyclical downturns</td>\n",
       "      <td>一开始，很多人把这次危机比作1982年或1973年所发生的情况，这样得类比是令人宽心的，因为这两段时期意味着典型的周期性衰退。</td>\n",
       "    </tr>\n",
       "    <tr>\n",
       "      <th>3</th>\n",
       "      <td>today the mood is much grimmer with references to 1929 and 1931 beginning to abound even if some governments continue to behave as if the crisis was more classical than exceptional</td>\n",
       "      <td>如今人们的心情却是沉重多了，许多人开始把这次危机与1929年和1931年相比，即使一些国家政府的表现仍然似乎把视目前的情况为是典型的而看见的衰退。</td>\n",
       "    </tr>\n",
       "    <tr>\n",
       "      <th>4</th>\n",
       "      <td>the tendency is either excessive restraint europe or a diffusion of the effort the united states</td>\n",
       "      <td>目前的趋势是，要么是过度的克制（欧洲 ） ， 要么是努力的扩展（美国 ） 。</td>\n",
       "    </tr>\n",
       "  </tbody>\n",
       "</table>\n",
       "</div>"
      ],
      "text/plain": [
       "                                                                                                                                                                                English  \\\n",
       "0                                                                                                                                                                          1929 or 1989   \n",
       "1                                 paris – as the economic crisis deepens and widens the world has been searching for historical analogies to help us understand what has been happening   \n",
       "2                                       at the start of the crisis many people likened it to 1982 or 1973 which was reassuring because both dates refer to classical cyclical downturns   \n",
       "3  today the mood is much grimmer with references to 1929 and 1931 beginning to abound even if some governments continue to behave as if the crisis was more classical than exceptional   \n",
       "4                                                                                      the tendency is either excessive restraint europe or a diffusion of the effort the united states   \n",
       "\n",
       "                                                                     Chinese  \n",
       "0                                                               1929年还是1989年  \n",
       "1                      巴黎-随着经济危机不断加深和蔓延，整个世界一直在寻找历史上的类似事件希望有助于我们了解目前正在发生的情况。  \n",
       "2            一开始，很多人把这次危机比作1982年或1973年所发生的情况，这样得类比是令人宽心的，因为这两段时期意味着典型的周期性衰退。  \n",
       "3  如今人们的心情却是沉重多了，许多人开始把这次危机与1929年和1931年相比，即使一些国家政府的表现仍然似乎把视目前的情况为是典型的而看见的衰退。  \n",
       "4                                     目前的趋势是，要么是过度的克制（欧洲 ） ， 要么是努力的扩展（美国 ） 。  "
      ]
     },
     "execution_count": 16,
     "metadata": {},
     "output_type": "execute_result"
    }
   ],
   "source": [
    "# remove some special regular expression, because all the expression characters for both languages are the same,removing it can help reduce noise. \n",
    "df_chinese['Chinese'] = df_chinese['Chinese'].map(lambda x: re.sub(r\"[$%-()\\\"#/@;:<>{}`+=~|.!?,]\", \"\", x))\n",
    "df_chinese['English'] = df_chinese['English'].map(lambda x: re.sub(r\"[$%-()\\\"#/@;:<>{}`+=~|.!?,]\", \"\", x))\n",
    "\n",
    "df_chinese.head()"
   ]
  },
  {
   "cell_type": "code",
   "execution_count": 17,
   "metadata": {
    "id": "3GbWs_ReUYG1"
   },
   "outputs": [],
   "source": [
    "# Tokenize documents in german-english pair dataset\n",
    "german_tokenizer = RegexpTokenizer(r'\\w+')\n",
    "df_german['tokenized_german'] = df_german['German'].apply(german_tokenizer.tokenize)\n",
    "df_german['tokenized_english'] = df_german['English'].apply(german_tokenizer.tokenize)"
   ]
  },
  {
   "cell_type": "code",
   "execution_count": 18,
   "metadata": {
    "colab": {
     "base_uri": "https://localhost:8080/",
     "height": 323
    },
    "id": "Eg-A7hFGUYG1",
    "outputId": "d2ae6c64-7c60-4bad-e0be-e240de46e82c"
   },
   "outputs": [
    {
     "data": {
      "text/html": [
       "<div>\n",
       "<style scoped>\n",
       "    .dataframe tbody tr th:only-of-type {\n",
       "        vertical-align: middle;\n",
       "    }\n",
       "\n",
       "    .dataframe tbody tr th {\n",
       "        vertical-align: top;\n",
       "    }\n",
       "\n",
       "    .dataframe thead th {\n",
       "        text-align: right;\n",
       "    }\n",
       "</style>\n",
       "<table border=\"1\" class=\"dataframe\">\n",
       "  <thead>\n",
       "    <tr style=\"text-align: right;\">\n",
       "      <th></th>\n",
       "      <th>German</th>\n",
       "      <th>English</th>\n",
       "      <th>tokenized_german</th>\n",
       "      <th>tokenized_english</th>\n",
       "    </tr>\n",
       "  </thead>\n",
       "  <tbody>\n",
       "    <tr>\n",
       "      <th>0</th>\n",
       "      <td>steigt gold auf 10000 dollar</td>\n",
       "      <td>10000 gold</td>\n",
       "      <td>[steigt, gold, auf, 10000, dollar]</td>\n",
       "      <td>[10000, gold]</td>\n",
       "    </tr>\n",
       "    <tr>\n",
       "      <th>1</th>\n",
       "      <td>san francisco – es war noch nie leicht ein rationales gespräch über den wert von gold zu führen</td>\n",
       "      <td>san francisco – it has never been easy to have a rational conversation about the value of gold</td>\n",
       "      <td>[san, francisco, es, war, noch, nie, leicht, ein, rationales, gespräch, über, den, wert, von, gold, zu, führen]</td>\n",
       "      <td>[san, francisco, it, has, never, been, easy, to, have, a, rational, conversation, about, the, value, of, gold]</td>\n",
       "    </tr>\n",
       "    <tr>\n",
       "      <th>2</th>\n",
       "      <td>in letzter zeit allerdings ist dies schwieriger denn je ist doch der goldpreis im letzten jahrzehnt um über 300 prozent angestiegen</td>\n",
       "      <td>lately with gold prices up more than 300 over the last decade it is harder than ever</td>\n",
       "      <td>[in, letzter, zeit, allerdings, ist, dies, schwieriger, denn, je, ist, doch, der, goldpreis, im, letzten, jahrzehnt, um, über, 300, prozent, angestiegen]</td>\n",
       "      <td>[lately, with, gold, prices, up, more, than, 300, over, the, last, decade, it, is, harder, than, ever]</td>\n",
       "    </tr>\n",
       "    <tr>\n",
       "      <th>3</th>\n",
       "      <td>erst letzten dezember verfassten meine kollegen martin feldstein und nouriel roubini kommentare in denen sie mutig die vorherrschende optimistische marktstimmung hinterfragten und sehr überlegt auf die risiken des goldes hinwiesen</td>\n",
       "      <td>just last december fellow economists martin feldstein and nouriel roubini each penned op-eds bravely questioning bullish market sentiment sensibly pointing out gold’s risks</td>\n",
       "      <td>[erst, letzten, dezember, verfassten, meine, kollegen, martin, feldstein, und, nouriel, roubini, kommentare, in, denen, sie, mutig, die, vorherrschende, optimistische, marktstimmung, hinterfragten, und, sehr, überlegt, auf, die, risiken, des, goldes, hinwiesen]</td>\n",
       "      <td>[just, last, december, fellow, economists, martin, feldstein, and, nouriel, roubini, each, penned, op, eds, bravely, questioning, bullish, market, sentiment, sensibly, pointing, out, gold, s, risks]</td>\n",
       "    </tr>\n",
       "    <tr>\n",
       "      <th>4</th>\n",
       "      <td>und es kam wie es kommen musste</td>\n",
       "      <td>wouldn’t you know it</td>\n",
       "      <td>[und, es, kam, wie, es, kommen, musste]</td>\n",
       "      <td>[wouldn, t, you, know, it]</td>\n",
       "    </tr>\n",
       "  </tbody>\n",
       "</table>\n",
       "</div>"
      ],
      "text/plain": [
       "                                                                                                                                                                                                                                   German  \\\n",
       "0                                                                                                                                                                                                            steigt gold auf 10000 dollar   \n",
       "1                                                                                                                                         san francisco – es war noch nie leicht ein rationales gespräch über den wert von gold zu führen   \n",
       "2                                                                                                     in letzter zeit allerdings ist dies schwieriger denn je ist doch der goldpreis im letzten jahrzehnt um über 300 prozent angestiegen   \n",
       "3  erst letzten dezember verfassten meine kollegen martin feldstein und nouriel roubini kommentare in denen sie mutig die vorherrschende optimistische marktstimmung hinterfragten und sehr überlegt auf die risiken des goldes hinwiesen   \n",
       "4                                                                                                                                                                                                         und es kam wie es kommen musste   \n",
       "\n",
       "                                                                                                                                                                        English  \\\n",
       "0                                                                                                                                                                    10000 gold   \n",
       "1                                                                                san francisco – it has never been easy to have a rational conversation about the value of gold   \n",
       "2                                                                                          lately with gold prices up more than 300 over the last decade it is harder than ever   \n",
       "3  just last december fellow economists martin feldstein and nouriel roubini each penned op-eds bravely questioning bullish market sentiment sensibly pointing out gold’s risks   \n",
       "4                                                                                                                                                          wouldn’t you know it   \n",
       "\n",
       "                                                                                                                                                                                                                                                        tokenized_german  \\\n",
       "0                                                                                                                                                                                                                                     [steigt, gold, auf, 10000, dollar]   \n",
       "1                                                                                                                                                        [san, francisco, es, war, noch, nie, leicht, ein, rationales, gespräch, über, den, wert, von, gold, zu, führen]   \n",
       "2                                                                                                              [in, letzter, zeit, allerdings, ist, dies, schwieriger, denn, je, ist, doch, der, goldpreis, im, letzten, jahrzehnt, um, über, 300, prozent, angestiegen]   \n",
       "3  [erst, letzten, dezember, verfassten, meine, kollegen, martin, feldstein, und, nouriel, roubini, kommentare, in, denen, sie, mutig, die, vorherrschende, optimistische, marktstimmung, hinterfragten, und, sehr, überlegt, auf, die, risiken, des, goldes, hinwiesen]   \n",
       "4                                                                                                                                                                                                                                [und, es, kam, wie, es, kommen, musste]   \n",
       "\n",
       "                                                                                                                                                                                        tokenized_english  \n",
       "0                                                                                                                                                                                           [10000, gold]  \n",
       "1                                                                                          [san, francisco, it, has, never, been, easy, to, have, a, rational, conversation, about, the, value, of, gold]  \n",
       "2                                                                                                  [lately, with, gold, prices, up, more, than, 300, over, the, last, decade, it, is, harder, than, ever]  \n",
       "3  [just, last, december, fellow, economists, martin, feldstein, and, nouriel, roubini, each, penned, op, eds, bravely, questioning, bullish, market, sentiment, sensibly, pointing, out, gold, s, risks]  \n",
       "4                                                                                                                                                                              [wouldn, t, you, know, it]  "
      ]
     },
     "execution_count": 18,
     "metadata": {},
     "output_type": "execute_result"
    }
   ],
   "source": [
    "df_german.head()"
   ]
  },
  {
   "cell_type": "code",
   "execution_count": 19,
   "metadata": {
    "id": "OSMvUUMKUYG2"
   },
   "outputs": [],
   "source": [
    "#chinese characters aren't separated by spaces so need to do additional regexp\n",
    "chinese_tokenizer = RegexpTokenizer(u'[\\u2E00-\\u9fff]|[0-9]+|[a-zA-Z]+|[%s]'% re.escape(string.punctuation))\n",
    "\n",
    "df_chinese['tokenized_english'] = df_chinese['English'].apply(chinese_tokenizer.tokenize)\n",
    "df_chinese['tokenized_chinese'] = df_chinese['Chinese'].apply(chinese_tokenizer.tokenize)"
   ]
  },
  {
   "cell_type": "code",
   "execution_count": 20,
   "metadata": {
    "colab": {
     "base_uri": "https://localhost:8080/",
     "height": 357
    },
    "id": "wCjUxKzsUYG3",
    "outputId": "77212783-b65f-427b-eb3f-3c0c00fe7a4e"
   },
   "outputs": [
    {
     "data": {
      "text/html": [
       "<div>\n",
       "<style scoped>\n",
       "    .dataframe tbody tr th:only-of-type {\n",
       "        vertical-align: middle;\n",
       "    }\n",
       "\n",
       "    .dataframe tbody tr th {\n",
       "        vertical-align: top;\n",
       "    }\n",
       "\n",
       "    .dataframe thead th {\n",
       "        text-align: right;\n",
       "    }\n",
       "</style>\n",
       "<table border=\"1\" class=\"dataframe\">\n",
       "  <thead>\n",
       "    <tr style=\"text-align: right;\">\n",
       "      <th></th>\n",
       "      <th>English</th>\n",
       "      <th>Chinese</th>\n",
       "      <th>tokenized_english</th>\n",
       "      <th>tokenized_chinese</th>\n",
       "    </tr>\n",
       "  </thead>\n",
       "  <tbody>\n",
       "    <tr>\n",
       "      <th>0</th>\n",
       "      <td>1929 or 1989</td>\n",
       "      <td>1929年还是1989年</td>\n",
       "      <td>[1929, or, 1989]</td>\n",
       "      <td>[1929, 年, 还, 是, 1989, 年]</td>\n",
       "    </tr>\n",
       "    <tr>\n",
       "      <th>1</th>\n",
       "      <td>paris – as the economic crisis deepens and widens the world has been searching for historical analogies to help us understand what has been happening</td>\n",
       "      <td>巴黎-随着经济危机不断加深和蔓延，整个世界一直在寻找历史上的类似事件希望有助于我们了解目前正在发生的情况。</td>\n",
       "      <td>[paris, as, the, economic, crisis, deepens, and, widens, the, world, has, been, searching, for, historical, analogies, to, help, us, understand, what, has, been, happening]</td>\n",
       "      <td>[巴, 黎, -, 随, 着, 经, 济, 危, 机, 不, 断, 加, 深, 和, 蔓, 延, 整, 个, 世, 界, 一, 直, 在, 寻, 找, 历, 史, 上, 的, 类, 似, 事, 件, 希, 望, 有, 助, 于, 我, 们, 了, 解, 目, 前, 正, 在, 发, 生, 的, 情, 况, 。]</td>\n",
       "    </tr>\n",
       "    <tr>\n",
       "      <th>2</th>\n",
       "      <td>at the start of the crisis many people likened it to 1982 or 1973 which was reassuring because both dates refer to classical cyclical downturns</td>\n",
       "      <td>一开始，很多人把这次危机比作1982年或1973年所发生的情况，这样得类比是令人宽心的，因为这两段时期意味着典型的周期性衰退。</td>\n",
       "      <td>[at, the, start, of, the, crisis, many, people, likened, it, to, 1982, or, 1973, which, was, reassuring, because, both, dates, refer, to, classical, cyclical, downturns]</td>\n",
       "      <td>[一, 开, 始, 很, 多, 人, 把, 这, 次, 危, 机, 比, 作, 1982, 年, 或, 1973, 年, 所, 发, 生, 的, 情, 况, 这, 样, 得, 类, 比, 是, 令, 人, 宽, 心, 的, 因, 为, 这, 两, 段, 时, 期, 意, 味, 着, 典, 型, 的, 周, 期, 性, 衰, 退, 。]</td>\n",
       "    </tr>\n",
       "    <tr>\n",
       "      <th>3</th>\n",
       "      <td>today the mood is much grimmer with references to 1929 and 1931 beginning to abound even if some governments continue to behave as if the crisis was more classical than exceptional</td>\n",
       "      <td>如今人们的心情却是沉重多了，许多人开始把这次危机与1929年和1931年相比，即使一些国家政府的表现仍然似乎把视目前的情况为是典型的而看见的衰退。</td>\n",
       "      <td>[today, the, mood, is, much, grimmer, with, references, to, 1929, and, 1931, beginning, to, abound, even, if, some, governments, continue, to, behave, as, if, the, crisis, was, more, classical, than, exceptional]</td>\n",
       "      <td>[如, 今, 人, 们, 的, 心, 情, 却, 是, 沉, 重, 多, 了, 许, 多, 人, 开, 始, 把, 这, 次, 危, 机, 与, 1929, 年, 和, 1931, 年, 相, 比, 即, 使, 一, 些, 国, 家, 政, 府, 的, 表, 现, 仍, 然, 似, 乎, 把, 视, 目, 前, 的, 情, 况, 为, 是, 典, 型, 的, 而, 看, 见, 的, 衰, 退, 。]</td>\n",
       "    </tr>\n",
       "    <tr>\n",
       "      <th>4</th>\n",
       "      <td>the tendency is either excessive restraint europe or a diffusion of the effort the united states</td>\n",
       "      <td>目前的趋势是，要么是过度的克制（欧洲 ） ， 要么是努力的扩展（美国 ） 。</td>\n",
       "      <td>[the, tendency, is, either, excessive, restraint, europe, or, a, diffusion, of, the, effort, the, united, states]</td>\n",
       "      <td>[目, 前, 的, 趋, 势, 是, 要, 么, 是, 过, 度, 的, 克, 制, 欧, 洲, 要, 么, 是, 努, 力, 的, 扩, 展, 美, 国, 。]</td>\n",
       "    </tr>\n",
       "  </tbody>\n",
       "</table>\n",
       "</div>"
      ],
      "text/plain": [
       "                                                                                                                                                                                English  \\\n",
       "0                                                                                                                                                                          1929 or 1989   \n",
       "1                                 paris – as the economic crisis deepens and widens the world has been searching for historical analogies to help us understand what has been happening   \n",
       "2                                       at the start of the crisis many people likened it to 1982 or 1973 which was reassuring because both dates refer to classical cyclical downturns   \n",
       "3  today the mood is much grimmer with references to 1929 and 1931 beginning to abound even if some governments continue to behave as if the crisis was more classical than exceptional   \n",
       "4                                                                                      the tendency is either excessive restraint europe or a diffusion of the effort the united states   \n",
       "\n",
       "                                                                     Chinese  \\\n",
       "0                                                               1929年还是1989年   \n",
       "1                      巴黎-随着经济危机不断加深和蔓延，整个世界一直在寻找历史上的类似事件希望有助于我们了解目前正在发生的情况。   \n",
       "2            一开始，很多人把这次危机比作1982年或1973年所发生的情况，这样得类比是令人宽心的，因为这两段时期意味着典型的周期性衰退。   \n",
       "3  如今人们的心情却是沉重多了，许多人开始把这次危机与1929年和1931年相比，即使一些国家政府的表现仍然似乎把视目前的情况为是典型的而看见的衰退。   \n",
       "4                                     目前的趋势是，要么是过度的克制（欧洲 ） ， 要么是努力的扩展（美国 ） 。   \n",
       "\n",
       "                                                                                                                                                                                                      tokenized_english  \\\n",
       "0                                                                                                                                                                                                      [1929, or, 1989]   \n",
       "1                                          [paris, as, the, economic, crisis, deepens, and, widens, the, world, has, been, searching, for, historical, analogies, to, help, us, understand, what, has, been, happening]   \n",
       "2                                             [at, the, start, of, the, crisis, many, people, likened, it, to, 1982, or, 1973, which, was, reassuring, because, both, dates, refer, to, classical, cyclical, downturns]   \n",
       "3  [today, the, mood, is, much, grimmer, with, references, to, 1929, and, 1931, beginning, to, abound, even, if, some, governments, continue, to, behave, as, if, the, crisis, was, more, classical, than, exceptional]   \n",
       "4                                                                                                     [the, tendency, is, either, excessive, restraint, europe, or, a, diffusion, of, the, effort, the, united, states]   \n",
       "\n",
       "                                                                                                                                                                                           tokenized_chinese  \n",
       "0                                                                                                                                                                                   [1929, 年, 还, 是, 1989, 年]  \n",
       "1                                               [巴, 黎, -, 随, 着, 经, 济, 危, 机, 不, 断, 加, 深, 和, 蔓, 延, 整, 个, 世, 界, 一, 直, 在, 寻, 找, 历, 史, 上, 的, 类, 似, 事, 件, 希, 望, 有, 助, 于, 我, 们, 了, 解, 目, 前, 正, 在, 发, 生, 的, 情, 况, 。]  \n",
       "2                                   [一, 开, 始, 很, 多, 人, 把, 这, 次, 危, 机, 比, 作, 1982, 年, 或, 1973, 年, 所, 发, 生, 的, 情, 况, 这, 样, 得, 类, 比, 是, 令, 人, 宽, 心, 的, 因, 为, 这, 两, 段, 时, 期, 意, 味, 着, 典, 型, 的, 周, 期, 性, 衰, 退, 。]  \n",
       "3  [如, 今, 人, 们, 的, 心, 情, 却, 是, 沉, 重, 多, 了, 许, 多, 人, 开, 始, 把, 这, 次, 危, 机, 与, 1929, 年, 和, 1931, 年, 相, 比, 即, 使, 一, 些, 国, 家, 政, 府, 的, 表, 现, 仍, 然, 似, 乎, 把, 视, 目, 前, 的, 情, 况, 为, 是, 典, 型, 的, 而, 看, 见, 的, 衰, 退, 。]  \n",
       "4                                                                                                                          [目, 前, 的, 趋, 势, 是, 要, 么, 是, 过, 度, 的, 克, 制, 欧, 洲, 要, 么, 是, 努, 力, 的, 扩, 展, 美, 国, 。]  "
      ]
     },
     "execution_count": 20,
     "metadata": {},
     "output_type": "execute_result"
    }
   ],
   "source": [
    "df_chinese.head()"
   ]
  },
  {
   "cell_type": "code",
   "execution_count": 21,
   "metadata": {
    "colab": {
     "base_uri": "https://localhost:8080/"
    },
    "id": "0QLpjNEZUYG3",
    "outputId": "533cf214-33ba-44d8-a4b9-f3402cdd2791"
   },
   "outputs": [
    {
     "data": {
      "text/plain": [
       "English                               the tendency is either excessive restraint europe or a diffusion of the effort the united states\n",
       "Chinese                                                                                         目前的趋势是，要么是过度的克制（欧洲 ） ， 要么是努力的扩展（美国 ） 。\n",
       "tokenized_english    [the, tendency, is, either, excessive, restraint, europe, or, a, diffusion, of, the, effort, the, united, states]\n",
       "tokenized_chinese                                    [目, 前, 的, 趋, 势, 是, 要, 么, 是, 过, 度, 的, 克, 制, 欧, 洲, 要, 么, 是, 努, 力, 的, 扩, 展, 美, 国, 。]\n",
       "Name: 4, dtype: object"
      ]
     },
     "execution_count": 21,
     "metadata": {},
     "output_type": "execute_result"
    }
   ],
   "source": [
    "#Check one observation\n",
    "df_chinese.iloc[4]"
   ]
  },
  {
   "cell_type": "code",
   "execution_count": 22,
   "metadata": {
    "id": "qFTpowlPUYG4"
   },
   "outputs": [],
   "source": [
    "# Check sentence length \n",
    "df_german['num_german_tokens'] = df_german['tokenized_german'].apply(len)\n",
    "df_german['num_english_tokens'] = df_german['tokenized_english'].apply(len)\n",
    "\n",
    "df_chinese['num_english_tokens'] = df_chinese['tokenized_english'].apply(len)\n",
    "df_chinese['num_chinese_tokens'] = df_chinese['tokenized_chinese'].apply(len)"
   ]
  },
  {
   "cell_type": "code",
   "execution_count": 23,
   "metadata": {
    "colab": {
     "base_uri": "https://localhost:8080/",
     "height": 374
    },
    "id": "nhTwSAg5UYG4",
    "outputId": "019cbc0d-7ce0-4428-d0f3-17535d57472f"
   },
   "outputs": [
    {
     "data": {
      "text/html": [
       "<div>\n",
       "<style scoped>\n",
       "    .dataframe tbody tr th:only-of-type {\n",
       "        vertical-align: middle;\n",
       "    }\n",
       "\n",
       "    .dataframe tbody tr th {\n",
       "        vertical-align: top;\n",
       "    }\n",
       "\n",
       "    .dataframe thead th {\n",
       "        text-align: right;\n",
       "    }\n",
       "</style>\n",
       "<table border=\"1\" class=\"dataframe\">\n",
       "  <thead>\n",
       "    <tr style=\"text-align: right;\">\n",
       "      <th></th>\n",
       "      <th>German</th>\n",
       "      <th>English</th>\n",
       "      <th>tokenized_german</th>\n",
       "      <th>tokenized_english</th>\n",
       "      <th>num_german_tokens</th>\n",
       "      <th>num_english_tokens</th>\n",
       "    </tr>\n",
       "  </thead>\n",
       "  <tbody>\n",
       "    <tr>\n",
       "      <th>0</th>\n",
       "      <td>steigt gold auf 10000 dollar</td>\n",
       "      <td>10000 gold</td>\n",
       "      <td>[steigt, gold, auf, 10000, dollar]</td>\n",
       "      <td>[10000, gold]</td>\n",
       "      <td>5</td>\n",
       "      <td>2</td>\n",
       "    </tr>\n",
       "    <tr>\n",
       "      <th>1</th>\n",
       "      <td>san francisco – es war noch nie leicht ein rationales gespräch über den wert von gold zu führen</td>\n",
       "      <td>san francisco – it has never been easy to have a rational conversation about the value of gold</td>\n",
       "      <td>[san, francisco, es, war, noch, nie, leicht, ein, rationales, gespräch, über, den, wert, von, gold, zu, führen]</td>\n",
       "      <td>[san, francisco, it, has, never, been, easy, to, have, a, rational, conversation, about, the, value, of, gold]</td>\n",
       "      <td>17</td>\n",
       "      <td>17</td>\n",
       "    </tr>\n",
       "    <tr>\n",
       "      <th>2</th>\n",
       "      <td>in letzter zeit allerdings ist dies schwieriger denn je ist doch der goldpreis im letzten jahrzehnt um über 300 prozent angestiegen</td>\n",
       "      <td>lately with gold prices up more than 300 over the last decade it is harder than ever</td>\n",
       "      <td>[in, letzter, zeit, allerdings, ist, dies, schwieriger, denn, je, ist, doch, der, goldpreis, im, letzten, jahrzehnt, um, über, 300, prozent, angestiegen]</td>\n",
       "      <td>[lately, with, gold, prices, up, more, than, 300, over, the, last, decade, it, is, harder, than, ever]</td>\n",
       "      <td>21</td>\n",
       "      <td>17</td>\n",
       "    </tr>\n",
       "    <tr>\n",
       "      <th>3</th>\n",
       "      <td>erst letzten dezember verfassten meine kollegen martin feldstein und nouriel roubini kommentare in denen sie mutig die vorherrschende optimistische marktstimmung hinterfragten und sehr überlegt auf die risiken des goldes hinwiesen</td>\n",
       "      <td>just last december fellow economists martin feldstein and nouriel roubini each penned op-eds bravely questioning bullish market sentiment sensibly pointing out gold’s risks</td>\n",
       "      <td>[erst, letzten, dezember, verfassten, meine, kollegen, martin, feldstein, und, nouriel, roubini, kommentare, in, denen, sie, mutig, die, vorherrschende, optimistische, marktstimmung, hinterfragten, und, sehr, überlegt, auf, die, risiken, des, goldes, hinwiesen]</td>\n",
       "      <td>[just, last, december, fellow, economists, martin, feldstein, and, nouriel, roubini, each, penned, op, eds, bravely, questioning, bullish, market, sentiment, sensibly, pointing, out, gold, s, risks]</td>\n",
       "      <td>30</td>\n",
       "      <td>25</td>\n",
       "    </tr>\n",
       "    <tr>\n",
       "      <th>4</th>\n",
       "      <td>und es kam wie es kommen musste</td>\n",
       "      <td>wouldn’t you know it</td>\n",
       "      <td>[und, es, kam, wie, es, kommen, musste]</td>\n",
       "      <td>[wouldn, t, you, know, it]</td>\n",
       "      <td>7</td>\n",
       "      <td>5</td>\n",
       "    </tr>\n",
       "  </tbody>\n",
       "</table>\n",
       "</div>"
      ],
      "text/plain": [
       "                                                                                                                                                                                                                                   German  \\\n",
       "0                                                                                                                                                                                                            steigt gold auf 10000 dollar   \n",
       "1                                                                                                                                         san francisco – es war noch nie leicht ein rationales gespräch über den wert von gold zu führen   \n",
       "2                                                                                                     in letzter zeit allerdings ist dies schwieriger denn je ist doch der goldpreis im letzten jahrzehnt um über 300 prozent angestiegen   \n",
       "3  erst letzten dezember verfassten meine kollegen martin feldstein und nouriel roubini kommentare in denen sie mutig die vorherrschende optimistische marktstimmung hinterfragten und sehr überlegt auf die risiken des goldes hinwiesen   \n",
       "4                                                                                                                                                                                                         und es kam wie es kommen musste   \n",
       "\n",
       "                                                                                                                                                                        English  \\\n",
       "0                                                                                                                                                                    10000 gold   \n",
       "1                                                                                san francisco – it has never been easy to have a rational conversation about the value of gold   \n",
       "2                                                                                          lately with gold prices up more than 300 over the last decade it is harder than ever   \n",
       "3  just last december fellow economists martin feldstein and nouriel roubini each penned op-eds bravely questioning bullish market sentiment sensibly pointing out gold’s risks   \n",
       "4                                                                                                                                                          wouldn’t you know it   \n",
       "\n",
       "                                                                                                                                                                                                                                                        tokenized_german  \\\n",
       "0                                                                                                                                                                                                                                     [steigt, gold, auf, 10000, dollar]   \n",
       "1                                                                                                                                                        [san, francisco, es, war, noch, nie, leicht, ein, rationales, gespräch, über, den, wert, von, gold, zu, führen]   \n",
       "2                                                                                                              [in, letzter, zeit, allerdings, ist, dies, schwieriger, denn, je, ist, doch, der, goldpreis, im, letzten, jahrzehnt, um, über, 300, prozent, angestiegen]   \n",
       "3  [erst, letzten, dezember, verfassten, meine, kollegen, martin, feldstein, und, nouriel, roubini, kommentare, in, denen, sie, mutig, die, vorherrschende, optimistische, marktstimmung, hinterfragten, und, sehr, überlegt, auf, die, risiken, des, goldes, hinwiesen]   \n",
       "4                                                                                                                                                                                                                                [und, es, kam, wie, es, kommen, musste]   \n",
       "\n",
       "                                                                                                                                                                                        tokenized_english  \\\n",
       "0                                                                                                                                                                                           [10000, gold]   \n",
       "1                                                                                          [san, francisco, it, has, never, been, easy, to, have, a, rational, conversation, about, the, value, of, gold]   \n",
       "2                                                                                                  [lately, with, gold, prices, up, more, than, 300, over, the, last, decade, it, is, harder, than, ever]   \n",
       "3  [just, last, december, fellow, economists, martin, feldstein, and, nouriel, roubini, each, penned, op, eds, bravely, questioning, bullish, market, sentiment, sensibly, pointing, out, gold, s, risks]   \n",
       "4                                                                                                                                                                              [wouldn, t, you, know, it]   \n",
       "\n",
       "   num_german_tokens  num_english_tokens  \n",
       "0                  5                   2  \n",
       "1                 17                  17  \n",
       "2                 21                  17  \n",
       "3                 30                  25  \n",
       "4                  7                   5  "
      ]
     },
     "execution_count": 23,
     "metadata": {},
     "output_type": "execute_result"
    }
   ],
   "source": [
    "df_german.head()"
   ]
  },
  {
   "cell_type": "code",
   "execution_count": 24,
   "metadata": {
    "colab": {
     "base_uri": "https://localhost:8080/",
     "height": 425
    },
    "id": "xpjSKoQKUYG5",
    "outputId": "15e65962-6622-41bd-c89f-e33e3f4e6368"
   },
   "outputs": [
    {
     "data": {
      "text/html": [
       "<div>\n",
       "<style scoped>\n",
       "    .dataframe tbody tr th:only-of-type {\n",
       "        vertical-align: middle;\n",
       "    }\n",
       "\n",
       "    .dataframe tbody tr th {\n",
       "        vertical-align: top;\n",
       "    }\n",
       "\n",
       "    .dataframe thead th {\n",
       "        text-align: right;\n",
       "    }\n",
       "</style>\n",
       "<table border=\"1\" class=\"dataframe\">\n",
       "  <thead>\n",
       "    <tr style=\"text-align: right;\">\n",
       "      <th></th>\n",
       "      <th>English</th>\n",
       "      <th>Chinese</th>\n",
       "      <th>tokenized_english</th>\n",
       "      <th>tokenized_chinese</th>\n",
       "      <th>num_english_tokens</th>\n",
       "      <th>num_chinese_tokens</th>\n",
       "    </tr>\n",
       "  </thead>\n",
       "  <tbody>\n",
       "    <tr>\n",
       "      <th>0</th>\n",
       "      <td>1929 or 1989</td>\n",
       "      <td>1929年还是1989年</td>\n",
       "      <td>[1929, or, 1989]</td>\n",
       "      <td>[1929, 年, 还, 是, 1989, 年]</td>\n",
       "      <td>3</td>\n",
       "      <td>6</td>\n",
       "    </tr>\n",
       "    <tr>\n",
       "      <th>1</th>\n",
       "      <td>paris – as the economic crisis deepens and widens the world has been searching for historical analogies to help us understand what has been happening</td>\n",
       "      <td>巴黎-随着经济危机不断加深和蔓延，整个世界一直在寻找历史上的类似事件希望有助于我们了解目前正在发生的情况。</td>\n",
       "      <td>[paris, as, the, economic, crisis, deepens, and, widens, the, world, has, been, searching, for, historical, analogies, to, help, us, understand, what, has, been, happening]</td>\n",
       "      <td>[巴, 黎, -, 随, 着, 经, 济, 危, 机, 不, 断, 加, 深, 和, 蔓, 延, 整, 个, 世, 界, 一, 直, 在, 寻, 找, 历, 史, 上, 的, 类, 似, 事, 件, 希, 望, 有, 助, 于, 我, 们, 了, 解, 目, 前, 正, 在, 发, 生, 的, 情, 况, 。]</td>\n",
       "      <td>24</td>\n",
       "      <td>52</td>\n",
       "    </tr>\n",
       "    <tr>\n",
       "      <th>2</th>\n",
       "      <td>at the start of the crisis many people likened it to 1982 or 1973 which was reassuring because both dates refer to classical cyclical downturns</td>\n",
       "      <td>一开始，很多人把这次危机比作1982年或1973年所发生的情况，这样得类比是令人宽心的，因为这两段时期意味着典型的周期性衰退。</td>\n",
       "      <td>[at, the, start, of, the, crisis, many, people, likened, it, to, 1982, or, 1973, which, was, reassuring, because, both, dates, refer, to, classical, cyclical, downturns]</td>\n",
       "      <td>[一, 开, 始, 很, 多, 人, 把, 这, 次, 危, 机, 比, 作, 1982, 年, 或, 1973, 年, 所, 发, 生, 的, 情, 况, 这, 样, 得, 类, 比, 是, 令, 人, 宽, 心, 的, 因, 为, 这, 两, 段, 时, 期, 意, 味, 着, 典, 型, 的, 周, 期, 性, 衰, 退, 。]</td>\n",
       "      <td>25</td>\n",
       "      <td>54</td>\n",
       "    </tr>\n",
       "    <tr>\n",
       "      <th>3</th>\n",
       "      <td>today the mood is much grimmer with references to 1929 and 1931 beginning to abound even if some governments continue to behave as if the crisis was more classical than exceptional</td>\n",
       "      <td>如今人们的心情却是沉重多了，许多人开始把这次危机与1929年和1931年相比，即使一些国家政府的表现仍然似乎把视目前的情况为是典型的而看见的衰退。</td>\n",
       "      <td>[today, the, mood, is, much, grimmer, with, references, to, 1929, and, 1931, beginning, to, abound, even, if, some, governments, continue, to, behave, as, if, the, crisis, was, more, classical, than, exceptional]</td>\n",
       "      <td>[如, 今, 人, 们, 的, 心, 情, 却, 是, 沉, 重, 多, 了, 许, 多, 人, 开, 始, 把, 这, 次, 危, 机, 与, 1929, 年, 和, 1931, 年, 相, 比, 即, 使, 一, 些, 国, 家, 政, 府, 的, 表, 现, 仍, 然, 似, 乎, 把, 视, 目, 前, 的, 情, 况, 为, 是, 典, 型, 的, 而, 看, 见, 的, 衰, 退, 。]</td>\n",
       "      <td>31</td>\n",
       "      <td>65</td>\n",
       "    </tr>\n",
       "    <tr>\n",
       "      <th>4</th>\n",
       "      <td>the tendency is either excessive restraint europe or a diffusion of the effort the united states</td>\n",
       "      <td>目前的趋势是，要么是过度的克制（欧洲 ） ， 要么是努力的扩展（美国 ） 。</td>\n",
       "      <td>[the, tendency, is, either, excessive, restraint, europe, or, a, diffusion, of, the, effort, the, united, states]</td>\n",
       "      <td>[目, 前, 的, 趋, 势, 是, 要, 么, 是, 过, 度, 的, 克, 制, 欧, 洲, 要, 么, 是, 努, 力, 的, 扩, 展, 美, 国, 。]</td>\n",
       "      <td>16</td>\n",
       "      <td>27</td>\n",
       "    </tr>\n",
       "  </tbody>\n",
       "</table>\n",
       "</div>"
      ],
      "text/plain": [
       "                                                                                                                                                                                English  \\\n",
       "0                                                                                                                                                                          1929 or 1989   \n",
       "1                                 paris – as the economic crisis deepens and widens the world has been searching for historical analogies to help us understand what has been happening   \n",
       "2                                       at the start of the crisis many people likened it to 1982 or 1973 which was reassuring because both dates refer to classical cyclical downturns   \n",
       "3  today the mood is much grimmer with references to 1929 and 1931 beginning to abound even if some governments continue to behave as if the crisis was more classical than exceptional   \n",
       "4                                                                                      the tendency is either excessive restraint europe or a diffusion of the effort the united states   \n",
       "\n",
       "                                                                     Chinese  \\\n",
       "0                                                               1929年还是1989年   \n",
       "1                      巴黎-随着经济危机不断加深和蔓延，整个世界一直在寻找历史上的类似事件希望有助于我们了解目前正在发生的情况。   \n",
       "2            一开始，很多人把这次危机比作1982年或1973年所发生的情况，这样得类比是令人宽心的，因为这两段时期意味着典型的周期性衰退。   \n",
       "3  如今人们的心情却是沉重多了，许多人开始把这次危机与1929年和1931年相比，即使一些国家政府的表现仍然似乎把视目前的情况为是典型的而看见的衰退。   \n",
       "4                                     目前的趋势是，要么是过度的克制（欧洲 ） ， 要么是努力的扩展（美国 ） 。   \n",
       "\n",
       "                                                                                                                                                                                                      tokenized_english  \\\n",
       "0                                                                                                                                                                                                      [1929, or, 1989]   \n",
       "1                                          [paris, as, the, economic, crisis, deepens, and, widens, the, world, has, been, searching, for, historical, analogies, to, help, us, understand, what, has, been, happening]   \n",
       "2                                             [at, the, start, of, the, crisis, many, people, likened, it, to, 1982, or, 1973, which, was, reassuring, because, both, dates, refer, to, classical, cyclical, downturns]   \n",
       "3  [today, the, mood, is, much, grimmer, with, references, to, 1929, and, 1931, beginning, to, abound, even, if, some, governments, continue, to, behave, as, if, the, crisis, was, more, classical, than, exceptional]   \n",
       "4                                                                                                     [the, tendency, is, either, excessive, restraint, europe, or, a, diffusion, of, the, effort, the, united, states]   \n",
       "\n",
       "                                                                                                                                                                                           tokenized_chinese  \\\n",
       "0                                                                                                                                                                                   [1929, 年, 还, 是, 1989, 年]   \n",
       "1                                               [巴, 黎, -, 随, 着, 经, 济, 危, 机, 不, 断, 加, 深, 和, 蔓, 延, 整, 个, 世, 界, 一, 直, 在, 寻, 找, 历, 史, 上, 的, 类, 似, 事, 件, 希, 望, 有, 助, 于, 我, 们, 了, 解, 目, 前, 正, 在, 发, 生, 的, 情, 况, 。]   \n",
       "2                                   [一, 开, 始, 很, 多, 人, 把, 这, 次, 危, 机, 比, 作, 1982, 年, 或, 1973, 年, 所, 发, 生, 的, 情, 况, 这, 样, 得, 类, 比, 是, 令, 人, 宽, 心, 的, 因, 为, 这, 两, 段, 时, 期, 意, 味, 着, 典, 型, 的, 周, 期, 性, 衰, 退, 。]   \n",
       "3  [如, 今, 人, 们, 的, 心, 情, 却, 是, 沉, 重, 多, 了, 许, 多, 人, 开, 始, 把, 这, 次, 危, 机, 与, 1929, 年, 和, 1931, 年, 相, 比, 即, 使, 一, 些, 国, 家, 政, 府, 的, 表, 现, 仍, 然, 似, 乎, 把, 视, 目, 前, 的, 情, 况, 为, 是, 典, 型, 的, 而, 看, 见, 的, 衰, 退, 。]   \n",
       "4                                                                                                                          [目, 前, 的, 趋, 势, 是, 要, 么, 是, 过, 度, 的, 克, 制, 欧, 洲, 要, 么, 是, 努, 力, 的, 扩, 展, 美, 国, 。]   \n",
       "\n",
       "   num_english_tokens  num_chinese_tokens  \n",
       "0                   3                   6  \n",
       "1                  24                  52  \n",
       "2                  25                  54  \n",
       "3                  31                  65  \n",
       "4                  16                  27  "
      ]
     },
     "execution_count": 24,
     "metadata": {},
     "output_type": "execute_result"
    }
   ],
   "source": [
    "df_chinese.head()"
   ]
  },
  {
   "cell_type": "code",
   "execution_count": 25,
   "metadata": {
    "colab": {
     "base_uri": "https://localhost:8080/"
    },
    "id": "zPcOAQB2UYG6",
    "outputId": "5b4b5c6c-7a54-404d-bd29-8a725745536b"
   },
   "outputs": [
    {
     "name": "stdout",
     "output_type": "stream",
     "text": [
      "Number of paired german-english sentences:  359987\n",
      "Average german sentence length:  22.498656895943466\n",
      "Average english sentence length:  22.309563956476207\n",
      "\n",
      "Number of paired chinese-english sentences:  312268\n",
      "Average chinese sentence length:  38.50334007967515\n",
      "Average english sentence length:  22.76418332970397\n"
     ]
    }
   ],
   "source": [
    "# Summary statistics of two datasets\n",
    "print('Number of paired german-english sentences: ', df_german.shape[0])\n",
    "print('Average german sentence length: ', df_german['num_german_tokens'].mean())\n",
    "print('Average english sentence length: ', df_german['num_english_tokens'].mean())\n",
    "print('')\n",
    "print('Number of paired chinese-english sentences: ', df_chinese.shape[0])\n",
    "print('Average chinese sentence length: ', df_chinese['num_chinese_tokens'].mean())\n",
    "print('Average english sentence length: ', df_chinese['num_english_tokens'].mean())"
   ]
  },
  {
   "cell_type": "markdown",
   "metadata": {
    "id": "0hCozrXIvq2B"
   },
   "source": [
    "Interesting to see that the chinese sentences are on average much longer than the paired english sentences. "
   ]
  },
  {
   "cell_type": "code",
   "execution_count": 26,
   "metadata": {
    "colab": {
     "base_uri": "https://localhost:8080/",
     "height": 282
    },
    "id": "NOZthX6vUYG6",
    "outputId": "9dd19c8b-6858-4fe4-83f1-d9653653d89d"
   },
   "outputs": [
    {
     "data": {
      "text/plain": [
       "<matplotlib.legend.Legend at 0x28aeb3b6c48>"
      ]
     },
     "execution_count": 26,
     "metadata": {},
     "output_type": "execute_result"
    },
    {
     "data": {
      "image/png": "[encoded data removed]",
      "text/plain": [
       "<Figure size 432x288 with 1 Axes>"
      ]
     },
     "metadata": {
      "needs_background": "light"
     },
     "output_type": "display_data"
    }
   ],
   "source": [
    "# histgram of number of tokens\n",
    "plt.hist([df_german['num_german_tokens'],df_german['num_english_tokens']],bins=20, label=['german tokens', 'english tokens'])\n",
    "plt.legend(loc='upper right')"
   ]
  },
  {
   "cell_type": "code",
   "execution_count": 27,
   "metadata": {
    "colab": {
     "base_uri": "https://localhost:8080/",
     "height": 282
    },
    "id": "8BQnDAKDUYG7",
    "outputId": "e7a6548a-0f7f-4bd9-d770-eae91cae1f52"
   },
   "outputs": [
    {
     "data": {
      "text/plain": [
       "<matplotlib.legend.Legend at 0x28aeb409348>"
      ]
     },
     "execution_count": 27,
     "metadata": {},
     "output_type": "execute_result"
    },
    {
     "data": {
      "image/png": "[encoded data removed]",
      "text/plain": [
       "<Figure size 432x288 with 1 Axes>"
      ]
     },
     "metadata": {
      "needs_background": "light"
     },
     "output_type": "display_data"
    }
   ],
   "source": [
    "# histgram of number of tokens\n",
    "plt.hist([df_chinese['num_chinese_tokens'],df_chinese['num_english_tokens']],bins=20, label=['chinese tokens', 'english tokens'])\n",
    "plt.legend(loc='upper right')"
   ]
  },
  {
   "cell_type": "code",
   "execution_count": 28,
   "metadata": {
    "colab": {
     "base_uri": "https://localhost:8080/"
    },
    "id": "tMP3Jj9LUYG8",
    "outputId": "5a773d7e-edad-4069-d3bc-900653b09888"
   },
   "outputs": [
    {
     "name": "stdout",
     "output_type": "stream",
     "text": [
      "Number of unique german words: 183694\n",
      "Number of unique english words:  62597\n"
     ]
    }
   ],
   "source": [
    "#Number of unique tokens\n",
    "german_vocab = len(set(itertools.chain.from_iterable(df_german.tokenized_german)))\n",
    "english_german_vocab = len(set(itertools.chain.from_iterable(df_german.tokenized_english)))\n",
    "\n",
    "print('Number of unique german words:', german_vocab)\n",
    "print('Number of unique english words: ', english_german_vocab)"
   ]
  },
  {
   "cell_type": "code",
   "execution_count": 29,
   "metadata": {
    "colab": {
     "base_uri": "https://localhost:8080/"
    },
    "id": "1gyoXpEdUYG8",
    "outputId": "17162a61-7e5c-4099-cc53-da8468e33eed"
   },
   "outputs": [
    {
     "name": "stdout",
     "output_type": "stream",
     "text": [
      "Number of unique chinese words: 20883\n",
      "Number of unique english words:  57498\n"
     ]
    }
   ],
   "source": [
    "#Number of unique tokens\n",
    "chinese_vocab = len(set(itertools.chain.from_iterable(df_chinese.tokenized_chinese)))\n",
    "english_chinese_vocab = len(set(itertools.chain.from_iterable(df_chinese.tokenized_english)))\n",
    "\n",
    "print('Number of unique chinese words:', chinese_vocab)\n",
    "print('Number of unique english words: ', english_chinese_vocab)"
   ]
  },
  {
   "cell_type": "markdown",
   "metadata": {
    "id": "ShtmJrsiv34Y"
   },
   "source": [
    "In the german dataset there are 3x as many words used to say the same thing as in english\n",
    "\n",
    "In the chinese dataset there are very few unique tokens used compared to english"
   ]
  },
  {
   "cell_type": "markdown",
   "metadata": {
    "id": "RsisxxEFD6zC"
   },
   "source": [
    "# **Data Preparation for Modeling**\n",
    "\n",
    "1. Limit sentence length to 15 words to curtail vanishing gradients and overfitting.\n",
    "\n",
    "2. Partition data into train and test\n",
    "\n",
    "*   For final model we used 90,000 samples for the training set and 100 for the test set in each language   \n",
    "\n",
    "*   The chinese data set had trouble converting from text to sequence using the original cleaned data so we used the tokenized version from the EDA and joined using a space\n",
    "\n",
    "3. Tokenize and fit the tokenizer to the text using tensorflows fit_on_texts\n",
    "\n",
    "*   Limit number of words to 10,000\n",
    "\n",
    "*   Fitting the tokenizer to the corpus creates the vocabulary dictionary and allows us to calculate size of vocab that we will use as an input into the model. We can then use this index:word vocab to reverse translate from sequence to word when translating\n",
    "\n",
    "4. Convert strings to integer values using tf.texts_to_sequences\n",
    "\n",
    "*   Computers understand numbers not strings. Use the previously created vocabulary to map each token to an integer\n",
    "\n",
    "\n",
    "5. Pad data to fixed length to match longest sequence for each language sets\n",
    "\n",
    "\n",
    "*   Final step in the pre-processing steps. Each of the sequences are padded with zeroes to a fixed length. We defined this fixed length as the length of the longest sentence in each set. Padding is neccessary to allow the encoder to encode the data in batches. Batches need to all be in a uniform length\n",
    "\n",
    "\n",
    " "
   ]
  },
  {
   "cell_type": "code",
   "execution_count": 30,
   "metadata": {
    "id": "3wZBtdhWEDkr"
   },
   "outputs": [],
   "source": [
    "from tensorflow.keras.models import Model, Sequential\n",
    "from tensorflow.keras.layers import Input, Dense, GRU, Embedding, LSTM, TimeDistributed, RepeatVector, Dropout\n",
    "from tensorflow.keras.optimizers import RMSprop, Adam, SGD\n",
    "from tensorflow.keras.callbacks import EarlyStopping, ModelCheckpoint, TensorBoard\n",
    "from tensorflow.keras.preprocessing.text import Tokenizer as tf_Tokenizer\n",
    "from tensorflow.keras.preprocessing.sequence import pad_sequences"
   ]
  },
  {
   "cell_type": "code",
   "execution_count": 31,
   "metadata": {
    "id": "YwLjLSceEFQs"
   },
   "outputs": [],
   "source": [
    "#limit max length of the sentence pairs to 15 tokens\n",
    "df_german = df_german[df_german['tokenized_german'].apply(lambda x: len(x) < 16)]\n",
    "df_german = df_german[df_german['tokenized_english'].apply(lambda x: len(x) < 16)]\n",
    "\n",
    "df_chinese = df_chinese[df_chinese['tokenized_chinese'].apply(lambda x: len(x) < 16)]\n",
    "df_chinese = df_chinese[df_chinese['tokenized_english'].apply(lambda x: len(x) < 16)]"
   ]
  },
  {
   "cell_type": "code",
   "execution_count": 32,
   "metadata": {
    "id": "qn-tkjavPHVh"
   },
   "outputs": [],
   "source": [
    "#divide into train and test sets. For the final model we're using the first 90,000 samples to train and the last 100 to test in each language set\n",
    "german_train_df = df_german.iloc[:90000]\n",
    "german_train = german_train_df['German'].tolist()\n",
    "german_english_train = german_train_df['English'].tolist()\n",
    "\n",
    "german_test_df = df_german.iloc[-100:]\n",
    "german_test = german_test_df['German'].tolist()\n",
    "german_english_test = german_test_df['English'].tolist()\n",
    "\n",
    "\n",
    "chinese_train_df = df_chinese.iloc[:90000]\n",
    "#fitting the chinese text to sequences did not work properly since there are no spaces between the chinese characters. \n",
    "#So, I first use the tokenized_chinese sequences that we used in the EDA above and join them with a space\n",
    "tokenized_train_chinese = chinese_train_df['tokenized_chinese'].tolist()\n",
    "chinese_train = []\n",
    "for sent in tokenized_train_chinese:\n",
    "  text = ' '.join(sent)\n",
    "  chinese_train.append(text)\n",
    "\n",
    "\n",
    "\n",
    "chinese_english_train = chinese_train_df['English'].tolist()\n",
    "\n",
    "chinese_test_df = df_chinese.iloc[-100:]\n",
    "#same as above\n",
    "tokenized_test_chinese = chinese_test_df['tokenized_chinese'].tolist()\n",
    "chinese_test = []\n",
    "for sent in tokenized_test_chinese:\n",
    "  text = ' '.join(sent)\n",
    "  chinese_test.append(text)\n",
    "\n",
    "chinese_english_test = chinese_test_df['English'].tolist()"
   ]
  },
  {
   "cell_type": "code",
   "execution_count": 33,
   "metadata": {
    "colab": {
     "base_uri": "https://localhost:8080/",
     "height": 35
    },
    "id": "sTFjdX0bpJNm",
    "outputId": "36666d6a-5995-49ed-8fa4-18bc4e2f11d2"
   },
   "outputs": [
    {
     "data": {
      "text/plain": [
       "'steigt gold auf 10000 dollar'"
      ]
     },
     "execution_count": 33,
     "metadata": {},
     "output_type": "execute_result"
    }
   ],
   "source": [
    "#sample training example\n",
    "german_train[0]"
   ]
  },
  {
   "cell_type": "code",
   "execution_count": 34,
   "metadata": {
    "id": "3KTONxQ_Ijiw"
   },
   "outputs": [],
   "source": [
    "#tokenize training set. limit vocab to 10,000 words to prevent overfitting and decrease training time\n",
    "german_tokenizer = tf_Tokenizer(num_words=10000)\n",
    "german_tokenizer.fit_on_texts(german_train)\n",
    "\n",
    "german_english_tokenzier = tf_Tokenizer(num_words=10000)\n",
    "german_english_tokenzier.fit_on_texts(german_english_train)\n",
    "\n",
    "chinese_tokenizer = tf_Tokenizer(num_words=10000)\n",
    "chinese_tokenizer.fit_on_texts(chinese_train)\n",
    "\n",
    "chinese_english_tokenzier = tf_Tokenizer(num_words=10000)\n",
    "chinese_english_tokenzier.fit_on_texts(chinese_english_train)"
   ]
  },
  {
   "cell_type": "code",
   "execution_count": 35,
   "metadata": {
    "id": "XDn3eMYzJWMW"
   },
   "outputs": [],
   "source": [
    "#save each vocabulary sets and vocab sizes for model\n",
    "german_vocab = german_tokenizer.word_index\n",
    "german_vocab_size = len(german_vocab) + 1\n",
    "\n",
    "german_english_vocab = german_english_tokenzier.word_index\n",
    "german_english_vocab_size = len(german_english_vocab) + 1\n",
    "\n",
    "chinese_vocab = chinese_tokenizer.word_index\n",
    "chinese_vocab_size = len(chinese_vocab) + 1\n",
    "\n",
    "chinese_english_vocab = chinese_english_tokenzier.word_index\n",
    "chinese_english_vocab_size = len(chinese_english_vocab) + 1"
   ]
  },
  {
   "cell_type": "code",
   "execution_count": 36,
   "metadata": {
    "id": "Emj1orIfKTWp"
   },
   "outputs": [],
   "source": [
    "#encode the sentences into integers\n",
    "german_encoder_sequences = german_tokenizer.texts_to_sequences(german_train)\n",
    "german_english_sequences = german_english_tokenzier.texts_to_sequences(german_english_train)\n",
    "\n",
    "chinese_encoder_sequences = chinese_tokenizer.texts_to_sequences(chinese_train)\n",
    "chinese_english_sequences = chinese_english_tokenzier.texts_to_sequences(chinese_english_train)"
   ]
  },
  {
   "cell_type": "code",
   "execution_count": 37,
   "metadata": {
    "colab": {
     "base_uri": "https://localhost:8080/"
    },
    "id": "zS0QoKnhKvyt",
    "outputId": "5013bd6e-c394-475f-eda5-7d470c8acda6"
   },
   "outputs": [
    {
     "name": "stdout",
     "output_type": "stream",
     "text": [
      "daher ist es gefährlich aus kurzfristigen trends prognosen abzuleiten\n",
      "[168, 4, 9, 777, 40, 2987, 1103, 1714]\n",
      "\n",
      "it is therefore dangerous to extrapolate from short-term trends\n",
      "[15, 2, 661, 459, 4, 32, 228, 188, 1058]\n"
     ]
    }
   ],
   "source": [
    "print(german_train[10])\n",
    "print(german_encoder_sequences[10])\n",
    "print('')\n",
    "print(german_english_train[10])\n",
    "print(german_english_sequences[10])"
   ]
  },
  {
   "cell_type": "code",
   "execution_count": 38,
   "metadata": {
    "id": "hLq8QaS_Lv4A"
   },
   "outputs": [],
   "source": [
    "#pad sequences with zeros the fix each vector at the max sentence length\n",
    "german_encoder_sequences_padded = pad_sequences(german_encoder_sequences, padding='post')\n",
    "german_english_sequences_padded = pad_sequences(german_english_sequences, padding='post')\n",
    "\n",
    "chinese_encoder_sequences_padded = pad_sequences(chinese_encoder_sequences, padding='post')\n",
    "chinese_english_sequences_padded = pad_sequences(chinese_english_sequences, padding='post')"
   ]
  },
  {
   "cell_type": "code",
   "execution_count": 39,
   "metadata": {
    "id": "kDVPMtEnzAhj"
   },
   "outputs": [],
   "source": [
    "#reshape the target sequences\n",
    "german_english_sequences_padded = german_english_sequences_padded.reshape(german_english_sequences_padded.shape[0], german_english_sequences_padded.shape[1],1)\n",
    "chinese_english_sequences_padded = chinese_english_sequences_padded.reshape(chinese_english_sequences_padded.shape[0], chinese_english_sequences_padded.shape[1],1)"
   ]
  },
  {
   "cell_type": "code",
   "execution_count": 40,
   "metadata": {
    "colab": {
     "base_uri": "https://localhost:8080/"
    },
    "id": "mLjYu_80yDqI",
    "outputId": "9ab6bc72-77db-4eb0-ce8a-a6ca77019abe"
   },
   "outputs": [
    {
     "name": "stdout",
     "output_type": "stream",
     "text": [
      "Encoder sample: [ 168    4    9  777   40 2987 1103 1714    0    0    0    0    0    0\n",
      "    0    0    0]\n",
      "English encoder sample:  [[  15]\n",
      " [   2]\n",
      " [ 661]\n",
      " [ 459]\n",
      " [   4]\n",
      " [  32]\n",
      " [ 228]\n",
      " [ 188]\n",
      " [1058]\n",
      " [   0]\n",
      " [   0]\n",
      " [   0]\n",
      " [   0]\n",
      " [   0]\n",
      " [   0]\n",
      " [   0]\n",
      " [   0]\n",
      " [   0]]\n"
     ]
    }
   ],
   "source": [
    "print('Encoder sample:', german_encoder_sequences_padded[10])\n",
    "print('English encoder sample: ', german_english_sequences_padded[10])"
   ]
  },
  {
   "cell_type": "code",
   "execution_count": 41,
   "metadata": {
    "colab": {
     "base_uri": "https://localhost:8080/"
    },
    "id": "lWAE3-gmyh5d",
    "outputId": "1da1c856-cd87-486e-852d-d5684696841f"
   },
   "outputs": [
    {
     "name": "stdout",
     "output_type": "stream",
     "text": [
      "Length of german encoder sample:  17\n",
      "Length of german-english input sample:  18\n",
      "\n",
      "Length of chinese encoder sample:  15\n",
      "Length of chinese-english input sample:  17\n"
     ]
    }
   ],
   "source": [
    "print('Length of german encoder sample: ', len(german_encoder_sequences_padded[10]))\n",
    "print('Length of german-english input sample: ', len(german_english_sequences_padded[10]))\n",
    "print('')\n",
    "print('Length of chinese encoder sample: ', len(chinese_encoder_sequences_padded[10]))\n",
    "print('Length of chinese-english input sample: ', len(chinese_english_sequences_padded[10]))"
   ]
  },
  {
   "cell_type": "code",
   "execution_count": 42,
   "metadata": {
    "id": "R6AJ27l67dFd"
   },
   "outputs": [],
   "source": [
    "#save vector length for model input\n",
    "german_encoder_size = len(german_encoder_sequences_padded[0])\n",
    "german_english_size = len(german_english_sequences_padded[0])\n",
    "\n",
    "chinese_encoder_size = len(chinese_encoder_sequences_padded[0])\n",
    "chinese_english_size = len(chinese_english_sequences_padded[0])"
   ]
  },
  {
   "cell_type": "markdown",
   "metadata": {},
   "source": [
    "<h1> LSTM Model Architecture <h1>"
   ]
  },
  {
   "cell_type": "markdown",
   "metadata": {},
   "source": [
    "From our literature research we believe that the LSTM model is a good fit for this type of project. The LSTM model is an upgrade to the simple recurrent neural network that is best suited to remember information over the span of a sequence. The LSTM model has a cell state that is responsible for keeping track of all the important information. This information is control by three gates: Input, Output, and Forget gate which all work to determine the state of the information and decide what is and isn't important. \n",
    "\n",
    "We learned of this information from a published paper entitled, \"Sequence to Sequence Learning with Neural Networks.\" (https://papers.nips.cc/paper/2014/file/a14ac55a4f27472c5d894ec1c3c743d2-Paper.pdf) This paper helped us formulate a plan on how to build the model and the appropriate stesp to take to get it working. \n",
    "\n",
    "This model follows a simple LSTM encoder-decoder architecture which resembles this tutorial (https://youtu.be/7gHqxK1o7MU).\n",
    "\n",
    "* Layer 1 - Embedding - converts each word integer into an embedding vector\n",
    "* Layer 2 - LSTM - Encoding layer - 64 hidden units that encode the sentences\n",
    "* Layer 3 - RepeatVector - repeats the output of the LSTM layer to maintain dimensions\n",
    "* Layer 4 - LSTM - decoding payer - 64 hidden units that decode the sentences, has return_sequences = True which allows the decoder to understand the hidden state output at each timestep\n",
    "* Layer 5 - Dense - Classifies the decoded words\n"
   ]
  },
  {
   "cell_type": "markdown",
   "metadata": {
    "id": "u6GRLAhkenRV"
   },
   "source": [
    "<h1> German LSTM Model Training"
   ]
  },
  {
   "cell_type": "markdown",
   "metadata": {
    "id": "lyD1JkIThgi1"
   },
   "source": [
    "Hyperparameters\n",
    "\n",
    "\n",
    "*   Optimizer - Adam with learning rate = 0.001\n",
    "*   Loss function - sparse_categorical_crossentropy (sparse because it allows us to use the original structure of the sequences. If I were to one-hot encode and use cateogrical_crossentropy my RAM would explode)\n",
    "*   Metric - Accuracy\n",
    "*   Epochs - 100\n",
    "*   Batch size = 64\n",
    "*   Validation split = 0.2\n",
    "*   Dropout = 0.5\n",
    "\n",
    "\n",
    "\n",
    "\n",
    "\n",
    "\n",
    "\n"
   ]
  },
  {
   "cell_type": "code",
   "execution_count": 43,
   "metadata": {
    "id": "pTckg1_-x7RG"
   },
   "outputs": [],
   "source": [
    "#define model architecture\n",
    "german_model = Sequential()\n",
    "german_model.add(Embedding(10000, 64, input_length=german_encoder_size, mask_zero=True))\n",
    "german_model.add(LSTM(64, dropout=0.5))\n",
    "german_model.add(RepeatVector(german_english_size))\n",
    "german_model.add(LSTM(64, return_sequences=True))\n",
    "german_model.add(Dense(10000, activation='softmax'))"
   ]
  },
  {
   "cell_type": "code",
   "execution_count": 44,
   "metadata": {
    "colab": {
     "base_uri": "https://localhost:8080/"
    },
    "id": "z6s0XVImMb4l",
    "outputId": "cb3d875c-c1cf-4b32-dc77-ca43328f2217"
   },
   "outputs": [
    {
     "name": "stdout",
     "output_type": "stream",
     "text": [
      "Model: \"sequential\"\n",
      "_________________________________________________________________\n",
      "Layer (type)                 Output Shape              Param #   \n",
      "=================================================================\n",
      "embedding (Embedding)        (None, 17, 64)            640000    \n",
      "_________________________________________________________________\n",
      "lstm (LSTM)                  (None, 64)                33024     \n",
      "_________________________________________________________________\n",
      "repeat_vector (RepeatVector) (None, 18, 64)            0         \n",
      "_________________________________________________________________\n",
      "lstm_1 (LSTM)                (None, 18, 64)            33024     \n",
      "_________________________________________________________________\n",
      "dense (Dense)                (None, 18, 10000)         650000    \n",
      "=================================================================\n",
      "Total params: 1,356,048\n",
      "Trainable params: 1,356,048\n",
      "Non-trainable params: 0\n",
      "_________________________________________________________________\n"
     ]
    }
   ],
   "source": [
    "german_model.summary()"
   ]
  },
  {
   "cell_type": "code",
   "execution_count": 45,
   "metadata": {
    "id": "NTxac2T5yA3x"
   },
   "outputs": [],
   "source": [
    "#define optimizer, loss function, and metric\n",
    "adam = Adam(lr=0.001)\n",
    "german_model.compile(optimizer=adam, loss='sparse_categorical_crossentropy', metrics=['accuracy'])"
   ]
  },
  {
   "cell_type": "code",
   "execution_count": 51,
   "metadata": {
    "colab": {
     "base_uri": "https://localhost:8080/"
    },
    "id": "dDvzQXXKyfKs",
    "outputId": "6d7a0878-48c0-4f21-9a2d-fbbfd59cc865"
   },
   "outputs": [
    {
     "name": "stdout",
     "output_type": "stream",
     "text": [
      "Epoch 1/150\n",
      "1125/1125 [==============================] - 58s 35ms/step - loss: 4.8831 - accuracy: 0.4828 - val_loss: 3.7516 - val_accuracy: 0.5066\n",
      "Epoch 2/150\n",
      "1125/1125 [==============================] - 38s 34ms/step - loss: 3.7281 - accuracy: 0.5073 - val_loss: 3.6994 - val_accuracy: 0.5105\n",
      "Epoch 3/150\n",
      "1125/1125 [==============================] - 38s 34ms/step - loss: 3.6784 - accuracy: 0.5098 - val_loss: 3.6903 - val_accuracy: 0.5106\n",
      "Epoch 4/150\n",
      "1125/1125 [==============================] - 38s 34ms/step - loss: 3.6594 - accuracy: 0.5100 - val_loss: 3.6755 - val_accuracy: 0.5107\n",
      "Epoch 5/150\n",
      "1125/1125 [==============================] - 38s 34ms/step - loss: 3.6444 - accuracy: 0.5107 - val_loss: 3.6701 - val_accuracy: 0.5111\n",
      "Epoch 6/150\n",
      "1125/1125 [==============================] - 38s 34ms/step - loss: 3.6217 - accuracy: 0.5120 - val_loss: 3.6632 - val_accuracy: 0.5137\n",
      "Epoch 7/150\n",
      "1125/1125 [==============================] - 38s 34ms/step - loss: 3.6004 - accuracy: 0.5157 - val_loss: 3.6284 - val_accuracy: 0.5143\n",
      "Epoch 8/150\n",
      "1125/1125 [==============================] - 38s 34ms/step - loss: 3.5583 - accuracy: 0.5166 - val_loss: 3.5998 - val_accuracy: 0.5161\n",
      "Epoch 9/150\n",
      "1125/1125 [==============================] - 38s 34ms/step - loss: 3.5276 - accuracy: 0.5179 - val_loss: 3.5858 - val_accuracy: 0.5166\n",
      "Epoch 10/150\n",
      "1125/1125 [==============================] - 38s 34ms/step - loss: 3.5054 - accuracy: 0.5193 - val_loss: 3.5662 - val_accuracy: 0.5189\n",
      "Epoch 11/150\n",
      "1125/1125 [==============================] - 38s 34ms/step - loss: 3.4845 - accuracy: 0.5209 - val_loss: 3.5530 - val_accuracy: 0.5206\n",
      "Epoch 12/150\n",
      "1125/1125 [==============================] - 38s 34ms/step - loss: 3.4596 - accuracy: 0.5226 - val_loss: 3.5303 - val_accuracy: 0.5228\n",
      "Epoch 13/150\n",
      "1125/1125 [==============================] - 39s 34ms/step - loss: 3.4317 - accuracy: 0.5250 - val_loss: 3.5000 - val_accuracy: 0.5252\n",
      "Epoch 14/150\n",
      "1125/1125 [==============================] - 38s 34ms/step - loss: 3.3946 - accuracy: 0.5279 - val_loss: 3.4773 - val_accuracy: 0.5269\n",
      "Epoch 15/150\n",
      "1125/1125 [==============================] - 38s 34ms/step - loss: 3.3646 - accuracy: 0.5301 - val_loss: 3.4540 - val_accuracy: 0.5283\n",
      "Epoch 16/150\n",
      "1125/1125 [==============================] - 38s 34ms/step - loss: 3.3310 - accuracy: 0.5322 - val_loss: 3.4346 - val_accuracy: 0.5290\n",
      "Epoch 17/150\n",
      "1125/1125 [==============================] - 38s 34ms/step - loss: 3.2997 - accuracy: 0.5339 - val_loss: 3.4115 - val_accuracy: 0.5306\n",
      "Epoch 18/150\n",
      "1125/1125 [==============================] - 38s 34ms/step - loss: 3.2818 - accuracy: 0.5334 - val_loss: 3.3930 - val_accuracy: 0.5315\n",
      "Epoch 19/150\n",
      "1125/1125 [==============================] - 38s 34ms/step - loss: 3.2440 - accuracy: 0.5364 - val_loss: 3.3795 - val_accuracy: 0.5315\n",
      "Epoch 20/150\n",
      "1125/1125 [==============================] - 38s 34ms/step - loss: 3.2331 - accuracy: 0.5357 - val_loss: 3.3623 - val_accuracy: 0.5325\n",
      "Epoch 21/150\n",
      "1125/1125 [==============================] - 38s 34ms/step - loss: 3.2103 - accuracy: 0.5361 - val_loss: 3.3470 - val_accuracy: 0.5333\n",
      "Epoch 22/150\n",
      "1125/1125 [==============================] - 38s 34ms/step - loss: 3.1842 - accuracy: 0.5378 - val_loss: 3.3343 - val_accuracy: 0.5340\n",
      "Epoch 23/150\n",
      "1125/1125 [==============================] - 38s 34ms/step - loss: 3.1701 - accuracy: 0.5375 - val_loss: 3.3212 - val_accuracy: 0.5352\n",
      "Epoch 24/150\n",
      "1125/1125 [==============================] - 38s 34ms/step - loss: 3.1460 - accuracy: 0.5391 - val_loss: 3.3070 - val_accuracy: 0.5358\n",
      "Epoch 25/150\n",
      "1125/1125 [==============================] - 38s 34ms/step - loss: 3.1291 - accuracy: 0.5394 - val_loss: 3.2920 - val_accuracy: 0.5368\n",
      "Epoch 26/150\n",
      "1125/1125 [==============================] - 38s 34ms/step - loss: 3.1168 - accuracy: 0.5401 - val_loss: 3.2806 - val_accuracy: 0.5380\n",
      "Epoch 27/150\n",
      "1125/1125 [==============================] - 38s 34ms/step - loss: 3.0932 - accuracy: 0.5414 - val_loss: 3.2694 - val_accuracy: 0.5382\n",
      "Epoch 28/150\n",
      "1125/1125 [==============================] - 38s 34ms/step - loss: 3.0741 - accuracy: 0.5421 - val_loss: 3.2589 - val_accuracy: 0.5380\n",
      "Epoch 29/150\n",
      "1125/1125 [==============================] - 38s 34ms/step - loss: 3.0628 - accuracy: 0.5421 - val_loss: 3.2542 - val_accuracy: 0.5402\n",
      "Epoch 30/150\n",
      "1125/1125 [==============================] - 38s 34ms/step - loss: 3.0408 - accuracy: 0.5441 - val_loss: 3.2376 - val_accuracy: 0.5391\n",
      "Epoch 31/150\n",
      "1125/1125 [==============================] - 39s 34ms/step - loss: 3.0418 - accuracy: 0.5428 - val_loss: 3.2346 - val_accuracy: 0.5375\n",
      "Epoch 32/150\n",
      "1125/1125 [==============================] - 38s 34ms/step - loss: 3.0186 - accuracy: 0.5444 - val_loss: 3.2179 - val_accuracy: 0.5406\n",
      "Epoch 33/150\n",
      "1125/1125 [==============================] - 38s 34ms/step - loss: 3.0069 - accuracy: 0.5450 - val_loss: 3.2112 - val_accuracy: 0.5406\n",
      "Epoch 34/150\n",
      "1125/1125 [==============================] - 38s 34ms/step - loss: 3.0017 - accuracy: 0.5442 - val_loss: 3.2026 - val_accuracy: 0.5427\n",
      "Epoch 35/150\n",
      "1125/1125 [==============================] - 38s 34ms/step - loss: 2.9873 - accuracy: 0.5452 - val_loss: 3.1911 - val_accuracy: 0.5420\n",
      "Epoch 36/150\n",
      "1125/1125 [==============================] - 38s 34ms/step - loss: 2.9744 - accuracy: 0.5453 - val_loss: 3.1845 - val_accuracy: 0.5438\n",
      "Epoch 37/150\n",
      "1125/1125 [==============================] - 38s 34ms/step - loss: 2.9573 - accuracy: 0.5469 - val_loss: 3.1769 - val_accuracy: 0.5436\n",
      "Epoch 38/150\n",
      "1125/1125 [==============================] - 38s 34ms/step - loss: 2.9471 - accuracy: 0.5472 - val_loss: 3.1666 - val_accuracy: 0.5441\n",
      "Epoch 39/150\n",
      "1125/1125 [==============================] - 38s 34ms/step - loss: 2.9327 - accuracy: 0.5483 - val_loss: 3.1629 - val_accuracy: 0.5449\n",
      "Epoch 40/150\n",
      "1125/1125 [==============================] - 38s 34ms/step - loss: 2.9329 - accuracy: 0.5473 - val_loss: 3.1549 - val_accuracy: 0.5440\n",
      "Epoch 41/150\n",
      "1125/1125 [==============================] - 38s 34ms/step - loss: 2.9165 - accuracy: 0.5487 - val_loss: 3.1446 - val_accuracy: 0.5454\n",
      "Epoch 42/150\n",
      "1125/1125 [==============================] - 38s 34ms/step - loss: 2.9079 - accuracy: 0.5489 - val_loss: 3.1394 - val_accuracy: 0.5459\n",
      "Epoch 43/150\n",
      "1125/1125 [==============================] - 38s 34ms/step - loss: 2.9040 - accuracy: 0.5486 - val_loss: 3.1361 - val_accuracy: 0.5468\n",
      "Epoch 44/150\n",
      "1125/1125 [==============================] - 38s 34ms/step - loss: 2.8803 - accuracy: 0.5512 - val_loss: 3.1263 - val_accuracy: 0.5471\n",
      "Epoch 45/150\n",
      "1125/1125 [==============================] - 38s 34ms/step - loss: 2.8774 - accuracy: 0.5502 - val_loss: 3.1180 - val_accuracy: 0.5470\n",
      "Epoch 46/150\n",
      "1125/1125 [==============================] - 38s 34ms/step - loss: 2.8637 - accuracy: 0.5514 - val_loss: 3.1120 - val_accuracy: 0.5474\n",
      "Epoch 47/150\n",
      "1125/1125 [==============================] - 39s 34ms/step - loss: 2.8591 - accuracy: 0.5510 - val_loss: 3.1120 - val_accuracy: 0.5478\n",
      "Epoch 48/150\n",
      "1125/1125 [==============================] - 38s 34ms/step - loss: 2.8484 - accuracy: 0.5521 - val_loss: 3.1056 - val_accuracy: 0.5481\n",
      "Epoch 49/150\n",
      "1125/1125 [==============================] - 38s 34ms/step - loss: 2.8505 - accuracy: 0.5508 - val_loss: 3.0976 - val_accuracy: 0.5485\n",
      "Epoch 50/150\n",
      "1125/1125 [==============================] - 38s 34ms/step - loss: 2.8358 - accuracy: 0.5529 - val_loss: 3.0918 - val_accuracy: 0.5488\n",
      "Epoch 51/150\n",
      "1125/1125 [==============================] - 38s 34ms/step - loss: 2.8273 - accuracy: 0.5526 - val_loss: 3.0878 - val_accuracy: 0.5488\n",
      "Epoch 52/150\n",
      "1125/1125 [==============================] - 38s 34ms/step - loss: 2.8188 - accuracy: 0.5532 - val_loss: 3.0857 - val_accuracy: 0.5496\n",
      "Epoch 53/150\n",
      "1125/1125 [==============================] - 38s 34ms/step - loss: 2.8165 - accuracy: 0.5527 - val_loss: 3.0841 - val_accuracy: 0.5497\n",
      "Epoch 54/150\n",
      "1125/1125 [==============================] - 38s 34ms/step - loss: 2.8084 - accuracy: 0.5532 - val_loss: 3.0771 - val_accuracy: 0.5500\n",
      "Epoch 55/150\n",
      "1125/1125 [==============================] - 38s 34ms/step - loss: 2.8110 - accuracy: 0.5525 - val_loss: 3.0805 - val_accuracy: 0.5509\n",
      "Epoch 56/150\n",
      "1125/1125 [==============================] - 38s 34ms/step - loss: 2.7924 - accuracy: 0.5544 - val_loss: 3.0676 - val_accuracy: 0.5507\n",
      "Epoch 57/150\n",
      "1125/1125 [==============================] - 38s 34ms/step - loss: 2.7774 - accuracy: 0.5556 - val_loss: 3.0660 - val_accuracy: 0.5496\n",
      "Epoch 58/150\n",
      "1125/1125 [==============================] - 38s 34ms/step - loss: 2.7844 - accuracy: 0.5546 - val_loss: 3.0603 - val_accuracy: 0.5504\n",
      "Epoch 59/150\n",
      "1125/1125 [==============================] - 38s 34ms/step - loss: 2.7760 - accuracy: 0.5548 - val_loss: 3.0577 - val_accuracy: 0.5508\n",
      "Epoch 60/150\n",
      "1125/1125 [==============================] - 38s 34ms/step - loss: 2.7691 - accuracy: 0.5555 - val_loss: 3.0534 - val_accuracy: 0.5513\n",
      "Epoch 61/150\n",
      "1125/1125 [==============================] - 38s 34ms/step - loss: 2.7661 - accuracy: 0.5552 - val_loss: 3.0510 - val_accuracy: 0.5519\n",
      "Epoch 62/150\n",
      "1125/1125 [==============================] - 38s 34ms/step - loss: 2.7613 - accuracy: 0.5553 - val_loss: 3.0497 - val_accuracy: 0.5519\n",
      "Epoch 63/150\n",
      "1125/1125 [==============================] - 38s 34ms/step - loss: 2.7473 - accuracy: 0.5571 - val_loss: 3.0476 - val_accuracy: 0.5518\n",
      "Epoch 64/150\n",
      "1125/1125 [==============================] - 38s 34ms/step - loss: 2.7353 - accuracy: 0.5579 - val_loss: 3.0438 - val_accuracy: 0.5504\n",
      "Epoch 65/150\n",
      "1125/1125 [==============================] - 38s 34ms/step - loss: 2.7458 - accuracy: 0.5561 - val_loss: 3.0404 - val_accuracy: 0.5526\n",
      "Epoch 66/150\n",
      "1125/1125 [==============================] - 38s 34ms/step - loss: 2.7491 - accuracy: 0.5549 - val_loss: 3.0393 - val_accuracy: 0.5503\n",
      "Epoch 67/150\n",
      "1125/1125 [==============================] - 38s 34ms/step - loss: 2.7276 - accuracy: 0.5577 - val_loss: 3.0335 - val_accuracy: 0.5526\n",
      "Epoch 68/150\n",
      "1125/1125 [==============================] - 39s 34ms/step - loss: 2.7221 - accuracy: 0.5580 - val_loss: 3.0296 - val_accuracy: 0.5522\n",
      "Epoch 69/150\n",
      "1125/1125 [==============================] - 38s 34ms/step - loss: 2.7231 - accuracy: 0.5570 - val_loss: 3.0314 - val_accuracy: 0.5531\n",
      "Epoch 70/150\n",
      "1125/1125 [==============================] - 38s 34ms/step - loss: 2.7221 - accuracy: 0.5570 - val_loss: 3.0381 - val_accuracy: 0.5534\n",
      "Epoch 71/150\n",
      "1125/1125 [==============================] - 38s 34ms/step - loss: 2.7203 - accuracy: 0.5568 - val_loss: 3.0253 - val_accuracy: 0.5534\n",
      "Epoch 72/150\n",
      "1125/1125 [==============================] - 38s 34ms/step - loss: 2.7065 - accuracy: 0.5586 - val_loss: 3.0223 - val_accuracy: 0.5528\n",
      "Epoch 73/150\n",
      "1125/1125 [==============================] - 38s 34ms/step - loss: 2.7107 - accuracy: 0.5573 - val_loss: 3.0265 - val_accuracy: 0.5538\n",
      "Epoch 74/150\n",
      "1125/1125 [==============================] - 38s 34ms/step - loss: 2.7022 - accuracy: 0.5586 - val_loss: 3.0173 - val_accuracy: 0.5531\n",
      "Epoch 75/150\n",
      "1125/1125 [==============================] - 38s 34ms/step - loss: 2.7009 - accuracy: 0.5577 - val_loss: 3.0179 - val_accuracy: 0.5537\n",
      "Epoch 76/150\n",
      "1125/1125 [==============================] - 38s 34ms/step - loss: 2.6842 - accuracy: 0.5605 - val_loss: 3.0316 - val_accuracy: 0.5549\n",
      "Epoch 77/150\n",
      "1125/1125 [==============================] - 38s 34ms/step - loss: 2.7003 - accuracy: 0.5576 - val_loss: 3.0175 - val_accuracy: 0.5548\n",
      "Epoch 78/150\n",
      "1125/1125 [==============================] - 38s 34ms/step - loss: 2.6910 - accuracy: 0.5582 - val_loss: 3.0137 - val_accuracy: 0.5544\n",
      "Epoch 79/150\n",
      "1125/1125 [==============================] - 38s 34ms/step - loss: 2.6825 - accuracy: 0.5590 - val_loss: 3.0095 - val_accuracy: 0.5542\n",
      "Epoch 80/150\n",
      "1125/1125 [==============================] - 38s 34ms/step - loss: 2.6836 - accuracy: 0.5588 - val_loss: 3.0089 - val_accuracy: 0.5539\n",
      "Epoch 81/150\n",
      "1125/1125 [==============================] - 38s 34ms/step - loss: 2.6786 - accuracy: 0.5590 - val_loss: 3.0089 - val_accuracy: 0.5532\n",
      "Epoch 82/150\n",
      "1125/1125 [==============================] - 38s 34ms/step - loss: 2.6751 - accuracy: 0.5596 - val_loss: 3.0053 - val_accuracy: 0.5546\n",
      "Epoch 83/150\n",
      "1125/1125 [==============================] - 38s 34ms/step - loss: 2.6612 - accuracy: 0.5609 - val_loss: 3.0006 - val_accuracy: 0.5550\n",
      "Epoch 84/150\n",
      "1125/1125 [==============================] - 38s 34ms/step - loss: 2.6668 - accuracy: 0.5601 - val_loss: 3.0086 - val_accuracy: 0.5551\n",
      "Epoch 85/150\n",
      "1125/1125 [==============================] - 38s 34ms/step - loss: 2.6660 - accuracy: 0.5600 - val_loss: 3.0021 - val_accuracy: 0.5555\n",
      "Epoch 86/150\n",
      "1125/1125 [==============================] - 38s 34ms/step - loss: 2.6708 - accuracy: 0.5590 - val_loss: 3.0061 - val_accuracy: 0.5554\n",
      "Epoch 87/150\n",
      "1125/1125 [==============================] - 38s 34ms/step - loss: 2.6557 - accuracy: 0.5611 - val_loss: 3.0005 - val_accuracy: 0.5556\n",
      "Epoch 88/150\n",
      "1125/1125 [==============================] - 38s 34ms/step - loss: 2.6537 - accuracy: 0.5605 - val_loss: 2.9963 - val_accuracy: 0.5556\n",
      "Epoch 89/150\n",
      "1125/1125 [==============================] - 39s 34ms/step - loss: 2.6478 - accuracy: 0.5613 - val_loss: 2.9962 - val_accuracy: 0.5550\n",
      "Epoch 90/150\n",
      "1125/1125 [==============================] - 38s 34ms/step - loss: 2.6513 - accuracy: 0.5609 - val_loss: 3.0026 - val_accuracy: 0.5560\n",
      "Epoch 91/150\n",
      "1125/1125 [==============================] - 38s 34ms/step - loss: 2.6477 - accuracy: 0.5611 - val_loss: 2.9920 - val_accuracy: 0.5547\n",
      "Epoch 92/150\n",
      "1125/1125 [==============================] - 38s 34ms/step - loss: 2.6377 - accuracy: 0.5624 - val_loss: 2.9955 - val_accuracy: 0.5563\n",
      "Epoch 93/150\n",
      "1125/1125 [==============================] - 38s 34ms/step - loss: 2.6461 - accuracy: 0.5601 - val_loss: 2.9899 - val_accuracy: 0.5550\n",
      "Epoch 94/150\n",
      "1125/1125 [==============================] - 38s 34ms/step - loss: 2.6377 - accuracy: 0.5618 - val_loss: 2.9894 - val_accuracy: 0.5559\n",
      "Epoch 95/150\n",
      "1125/1125 [==============================] - 38s 34ms/step - loss: 2.6330 - accuracy: 0.5620 - val_loss: 2.9915 - val_accuracy: 0.5566\n",
      "Epoch 96/150\n",
      "1125/1125 [==============================] - 38s 34ms/step - loss: 2.6356 - accuracy: 0.5613 - val_loss: 2.9887 - val_accuracy: 0.5563\n",
      "Epoch 97/150\n",
      "1125/1125 [==============================] - 38s 34ms/step - loss: 2.6339 - accuracy: 0.5612 - val_loss: 2.9871 - val_accuracy: 0.5562\n",
      "Epoch 98/150\n",
      "1125/1125 [==============================] - 38s 34ms/step - loss: 2.6341 - accuracy: 0.5613 - val_loss: 2.9925 - val_accuracy: 0.5564\n",
      "Epoch 99/150\n",
      "1125/1125 [==============================] - 38s 34ms/step - loss: 2.6295 - accuracy: 0.5619 - val_loss: 2.9893 - val_accuracy: 0.5568\n",
      "Epoch 100/150\n",
      "1125/1125 [==============================] - 38s 34ms/step - loss: 2.6230 - accuracy: 0.5623 - val_loss: 2.9868 - val_accuracy: 0.5563\n",
      "Epoch 101/150\n",
      "1125/1125 [==============================] - 38s 34ms/step - loss: 2.6289 - accuracy: 0.5614 - val_loss: 2.9853 - val_accuracy: 0.5573\n",
      "Epoch 102/150\n",
      "1125/1125 [==============================] - 38s 34ms/step - loss: 2.6196 - accuracy: 0.5623 - val_loss: 2.9865 - val_accuracy: 0.5568\n",
      "Epoch 103/150\n",
      "1125/1125 [==============================] - 38s 34ms/step - loss: 2.6167 - accuracy: 0.5619 - val_loss: 2.9801 - val_accuracy: 0.5568\n",
      "Epoch 104/150\n",
      "1125/1125 [==============================] - 38s 34ms/step - loss: 2.6137 - accuracy: 0.5629 - val_loss: 2.9810 - val_accuracy: 0.5573\n",
      "Epoch 105/150\n",
      "1125/1125 [==============================] - 38s 34ms/step - loss: 2.6110 - accuracy: 0.5631 - val_loss: 2.9825 - val_accuracy: 0.5560\n",
      "Epoch 106/150\n",
      "1125/1125 [==============================] - 38s 34ms/step - loss: 2.6134 - accuracy: 0.5622 - val_loss: 2.9796 - val_accuracy: 0.5570\n",
      "Epoch 107/150\n",
      "1125/1125 [==============================] - 38s 34ms/step - loss: 2.6064 - accuracy: 0.5626 - val_loss: 2.9863 - val_accuracy: 0.5570\n",
      "Epoch 108/150\n",
      "1125/1125 [==============================] - 38s 34ms/step - loss: 2.6065 - accuracy: 0.5631 - val_loss: 2.9786 - val_accuracy: 0.5570\n",
      "Epoch 109/150\n",
      "1125/1125 [==============================] - 39s 34ms/step - loss: 2.6104 - accuracy: 0.5619 - val_loss: 2.9811 - val_accuracy: 0.5576\n",
      "Epoch 110/150\n",
      "1125/1125 [==============================] - 38s 34ms/step - loss: 2.6040 - accuracy: 0.5626 - val_loss: 2.9874 - val_accuracy: 0.5574\n",
      "Epoch 111/150\n",
      "1125/1125 [==============================] - 38s 34ms/step - loss: 2.5912 - accuracy: 0.5645 - val_loss: 2.9776 - val_accuracy: 0.5569\n",
      "Epoch 112/150\n",
      "1125/1125 [==============================] - 39s 34ms/step - loss: 2.5953 - accuracy: 0.5639 - val_loss: 2.9789 - val_accuracy: 0.5570\n",
      "Epoch 113/150\n",
      "1125/1125 [==============================] - 38s 34ms/step - loss: 2.5973 - accuracy: 0.5637 - val_loss: 2.9763 - val_accuracy: 0.5573\n",
      "Epoch 114/150\n",
      "1125/1125 [==============================] - 38s 34ms/step - loss: 2.5902 - accuracy: 0.5644 - val_loss: 2.9746 - val_accuracy: 0.5565\n",
      "Epoch 115/150\n",
      "1125/1125 [==============================] - 38s 34ms/step - loss: 2.5930 - accuracy: 0.5630 - val_loss: 2.9814 - val_accuracy: 0.5576\n",
      "Epoch 116/150\n",
      "1125/1125 [==============================] - 39s 34ms/step - loss: 2.5871 - accuracy: 0.5643 - val_loss: 2.9791 - val_accuracy: 0.5578\n",
      "Epoch 117/150\n",
      "1125/1125 [==============================] - 38s 34ms/step - loss: 2.5939 - accuracy: 0.5631 - val_loss: 2.9810 - val_accuracy: 0.5573\n",
      "Epoch 118/150\n",
      "1125/1125 [==============================] - 38s 34ms/step - loss: 2.5911 - accuracy: 0.5628 - val_loss: 2.9723 - val_accuracy: 0.5577\n",
      "Epoch 119/150\n",
      "1125/1125 [==============================] - 39s 35ms/step - loss: 2.5766 - accuracy: 0.5653 - val_loss: 2.9801 - val_accuracy: 0.5579\n",
      "Epoch 120/150\n",
      "1125/1125 [==============================] - 39s 34ms/step - loss: 2.5857 - accuracy: 0.5638 - val_loss: 2.9739 - val_accuracy: 0.5578\n",
      "Epoch 121/150\n",
      "1125/1125 [==============================] - 39s 34ms/step - loss: 2.5764 - accuracy: 0.5648 - val_loss: 2.9757 - val_accuracy: 0.5580\n",
      "Epoch 122/150\n",
      "1125/1125 [==============================] - 39s 34ms/step - loss: 2.5789 - accuracy: 0.5643 - val_loss: 2.9754 - val_accuracy: 0.5581\n",
      "Epoch 123/150\n",
      "1125/1125 [==============================] - 38s 34ms/step - loss: 2.5793 - accuracy: 0.5639 - val_loss: 2.9788 - val_accuracy: 0.5578\n",
      "Epoch 124/150\n",
      "1125/1125 [==============================] - 39s 34ms/step - loss: 2.5702 - accuracy: 0.5655 - val_loss: 2.9697 - val_accuracy: 0.5582\n",
      "Epoch 125/150\n",
      "1125/1125 [==============================] - 38s 34ms/step - loss: 2.5751 - accuracy: 0.5647 - val_loss: 2.9738 - val_accuracy: 0.5583\n",
      "Epoch 126/150\n",
      "1125/1125 [==============================] - 38s 34ms/step - loss: 2.5743 - accuracy: 0.5640 - val_loss: 2.9742 - val_accuracy: 0.5581\n",
      "Epoch 127/150\n",
      "1125/1125 [==============================] - 38s 34ms/step - loss: 2.5739 - accuracy: 0.5643 - val_loss: 2.9725 - val_accuracy: 0.5578\n",
      "Epoch 128/150\n",
      "1125/1125 [==============================] - 39s 34ms/step - loss: 2.5729 - accuracy: 0.5641 - val_loss: 2.9682 - val_accuracy: 0.5581\n",
      "Epoch 129/150\n",
      "1125/1125 [==============================] - 39s 34ms/step - loss: 2.5676 - accuracy: 0.5654 - val_loss: 2.9731 - val_accuracy: 0.5578\n",
      "Epoch 130/150\n",
      "1125/1125 [==============================] - 38s 34ms/step - loss: 2.5653 - accuracy: 0.5650 - val_loss: 2.9755 - val_accuracy: 0.5591\n",
      "Epoch 131/150\n",
      "1125/1125 [==============================] - 39s 34ms/step - loss: 2.5638 - accuracy: 0.5657 - val_loss: 2.9722 - val_accuracy: 0.5584\n",
      "Epoch 132/150\n",
      "1125/1125 [==============================] - 38s 34ms/step - loss: 2.5665 - accuracy: 0.5649 - val_loss: 2.9742 - val_accuracy: 0.5587\n",
      "Epoch 133/150\n",
      "1125/1125 [==============================] - 39s 34ms/step - loss: 2.5726 - accuracy: 0.5638 - val_loss: 2.9708 - val_accuracy: 0.5589\n",
      "Epoch 134/150\n",
      "1125/1125 [==============================] - 38s 34ms/step - loss: 2.5615 - accuracy: 0.5646 - val_loss: 2.9675 - val_accuracy: 0.5590\n",
      "Epoch 135/150\n",
      "1125/1125 [==============================] - 38s 34ms/step - loss: 2.5560 - accuracy: 0.5661 - val_loss: 2.9695 - val_accuracy: 0.5579\n",
      "Epoch 136/150\n",
      "1125/1125 [==============================] - 38s 34ms/step - loss: 2.5579 - accuracy: 0.5659 - val_loss: 2.9716 - val_accuracy: 0.5580\n",
      "Epoch 137/150\n",
      "1125/1125 [==============================] - 38s 34ms/step - loss: 2.5607 - accuracy: 0.5651 - val_loss: 2.9701 - val_accuracy: 0.5576\n",
      "Epoch 138/150\n",
      "1125/1125 [==============================] - 38s 34ms/step - loss: 2.5583 - accuracy: 0.5652 - val_loss: 2.9729 - val_accuracy: 0.5582\n",
      "Epoch 139/150\n",
      "1125/1125 [==============================] - 38s 34ms/step - loss: 2.5583 - accuracy: 0.5649 - val_loss: 2.9698 - val_accuracy: 0.5592\n",
      "Epoch 140/150\n",
      "1125/1125 [==============================] - 38s 34ms/step - loss: 2.5506 - accuracy: 0.5656 - val_loss: 2.9726 - val_accuracy: 0.5587\n",
      "Epoch 141/150\n",
      "1125/1125 [==============================] - 38s 34ms/step - loss: 2.5451 - accuracy: 0.5663 - val_loss: 2.9663 - val_accuracy: 0.5581\n",
      "Epoch 142/150\n",
      "1125/1125 [==============================] - 38s 34ms/step - loss: 2.5522 - accuracy: 0.5651 - val_loss: 2.9678 - val_accuracy: 0.5586\n",
      "Epoch 143/150\n",
      "1125/1125 [==============================] - 38s 34ms/step - loss: 2.5450 - accuracy: 0.5667 - val_loss: 2.9661 - val_accuracy: 0.5583\n",
      "Epoch 144/150\n",
      "1125/1125 [==============================] - 39s 34ms/step - loss: 2.5548 - accuracy: 0.5649 - val_loss: 2.9651 - val_accuracy: 0.5580\n",
      "Epoch 145/150\n",
      "1125/1125 [==============================] - 39s 34ms/step - loss: 2.5542 - accuracy: 0.5650 - val_loss: 2.9696 - val_accuracy: 0.5583\n",
      "Epoch 146/150\n",
      "1125/1125 [==============================] - 39s 34ms/step - loss: 2.5500 - accuracy: 0.5653 - val_loss: 2.9694 - val_accuracy: 0.5590\n",
      "Epoch 147/150\n",
      "1125/1125 [==============================] - 39s 34ms/step - loss: 2.5421 - accuracy: 0.5663 - val_loss: 2.9632 - val_accuracy: 0.5586\n",
      "Epoch 148/150\n",
      "1125/1125 [==============================] - 39s 35ms/step - loss: 2.5492 - accuracy: 0.5650 - val_loss: 2.9716 - val_accuracy: 0.5595\n",
      "Epoch 149/150\n",
      "1125/1125 [==============================] - 38s 34ms/step - loss: 2.5348 - accuracy: 0.5668 - val_loss: 2.9706 - val_accuracy: 0.5593\n",
      "Epoch 150/150\n",
      "1125/1125 [==============================] - 39s 34ms/step - loss: 2.5413 - accuracy: 0.5664 - val_loss: 2.9688 - val_accuracy: 0.5596\n"
     ]
    }
   ],
   "source": [
    "#train model\n",
    "history = german_model.fit(german_encoder_sequences_padded, german_english_sequences_padded, epochs=150, batch_size=64, validation_split=0.2)"
   ]
  },
  {
   "cell_type": "code",
   "execution_count": 52,
   "metadata": {
    "id": "1IzbqykNyxdh"
   },
   "outputs": [],
   "source": [
    "# german_model.save('/german_LSTM_model.h5')"
   ]
  },
  {
   "cell_type": "code",
   "execution_count": null,
   "metadata": {
    "id": "3PEMI4BxaOP4"
   },
   "outputs": [],
   "source": [
    "# german_model.load_weights('/german_LSTM_model.h5')"
   ]
  },
  {
   "cell_type": "code",
   "execution_count": null,
   "metadata": {
    "colab": {
     "base_uri": "https://localhost:8080/"
    },
    "id": "PqyOgYH4yI3R",
    "outputId": "634c1416-10ad-492d-b5d4-0f2fd4ce77e9"
   },
   "outputs": [
    {
     "data": {
      "text/plain": [
       "dict_keys(['loss', 'accuracy', 'val_loss', 'val_accuracy'])"
      ]
     },
     "execution_count": 50,
     "metadata": {
      "tags": []
     },
     "output_type": "execute_result"
    }
   ],
   "source": [
    "history.history.keys()"
   ]
  },
  {
   "cell_type": "code",
   "execution_count": 53,
   "metadata": {
    "colab": {
     "base_uri": "https://localhost:8080/",
     "height": 265
    },
    "id": "uJrHJmy0yjaD",
    "outputId": "ead718bd-db93-4aa8-9167-d78e51976d77"
   },
   "outputs": [
    {
     "data": {
      "image/png": "[encoded data removed]",
      "text/plain": [
       "<Figure size 432x288 with 1 Axes>"
      ]
     },
     "metadata": {
      "needs_background": "light",
      "tags": []
     },
     "output_type": "display_data"
    }
   ],
   "source": [
    "#plot losses by epoch\n",
    "import matplotlib.pyplot as plt\n",
    "\n",
    "plt.plot(history.history['loss'])\n",
    "plt.plot(history.history['val_loss'])\n",
    "plt.legend(['train', 'validation'])\n",
    "plt.show()"
   ]
  },
  {
   "cell_type": "code",
   "execution_count": 54,
   "metadata": {
    "colab": {
     "base_uri": "https://localhost:8080/",
     "height": 265
    },
    "id": "zMyt87tDDuDx",
    "outputId": "ca1fade8-0b1f-4475-d7e9-680ed9ce73d9"
   },
   "outputs": [
    {
     "data": {
      "image/png": "[encoded data removed]",
      "text/plain": [
       "<Figure size 432x288 with 1 Axes>"
      ]
     },
     "metadata": {
      "needs_background": "light",
      "tags": []
     },
     "output_type": "display_data"
    }
   ],
   "source": [
    "#plot accuracy by epoch\n",
    "plt.plot(history.history['accuracy'])\n",
    "plt.plot(history.history['val_accuracy'])\n",
    "plt.legend(['train', 'validation'])\n",
    "plt.show()"
   ]
  },
  {
   "cell_type": "markdown",
   "metadata": {},
   "source": [
    "<h3> German LSTM Model Training Observations <h3>"
   ]
  },
  {
   "cell_type": "markdown",
   "metadata": {
    "id": "aJBLLksPvQPF"
   },
   "source": [
    "*   Both the training and validation loss decrease throughout training.  \n",
    "*   The training and validation accuracy continue to increase, plateauing at around 0.55"
   ]
  },
  {
   "cell_type": "markdown",
   "metadata": {},
   "source": [
    "<h1> German LSTM Model Evaluation <h1>"
   ]
  },
  {
   "cell_type": "markdown",
   "metadata": {
    "id": "y17goCAOF9mJ"
   },
   "source": [
    "To evaluate the performance of the models we chose to use the metrics BLEU and F-score\n",
    "\n",
    "\n",
    "*   The BLEU metric (https://machinelearningmastery.com/calculate-bleu-score-for-text-python/) is a score that is used to compare the translation of text. It is a very common metric used in the field of NMT. The BLEU score evaluates a sentence and returns a value from range 0 (mismatch) to 1 (match). This metric works by counting the matching n-grams in the actual and prediction sentences. The higher number of matches the higher the score. For our model, we will use NLTK's sentence_bleu function to measure the similarity between each predicted phrases in the test set. Specifically, we used BLEU-1 which counts the number of individual 1-grams that match. We feel that this is a good approach as this is a commonly used technique and is best suited for comparing actual and translated sentences \n",
    "*   The second metric that we chose to evaluate our predictions is NLTK's character n-gram F-score metric (https://www.aclweb.org/anthology/W15-3049.pdf). We chose this metric because we wanted to chose something that worked differently but similar to the BLEU metric. This metric looks at the individual characters in both the reference and hypothesis sentence and predicts the F-score. The F-score is a combined measure of precision and recall. A higher F-score indicates how well the model accurately classifies each other phrases on a character by character basis\n",
    "\n"
   ]
  },
  {
   "cell_type": "code",
   "execution_count": 55,
   "metadata": {
    "id": "aV_v8PeivCgL"
   },
   "outputs": [],
   "source": [
    "#encode and pad test sequences\n",
    "german_test_seq = german_tokenizer.texts_to_sequences(german_test)\n",
    "\n",
    "german_test_seq_pad = pad_sequences(german_test_seq, padding='post', maxlen=17)"
   ]
  },
  {
   "cell_type": "code",
   "execution_count": 64,
   "metadata": {
    "id": "KPEgJCCR98tG"
   },
   "outputs": [],
   "source": [
    "#function to convert to predict logit to word\n",
    "def logits_to_sentence(logits, tokenizer):\n",
    "\n",
    "    index_to_words = {idx: word for word, idx in tokenizer.items()}\n",
    "    index_to_words[0] = '' \n",
    "\n",
    "    return ' '.join([index_to_words[prediction] for prediction in np.argmax(logits, 1)])"
   ]
  },
  {
   "cell_type": "code",
   "execution_count": 65,
   "metadata": {
    "id": "hcJ2KgDm-MFs"
   },
   "outputs": [],
   "source": [
    "#loop to iterate through test sequences and append the predicted vs actual sequence\n",
    "german_predicted, german_actual = [], []\n",
    "\n",
    "index = 0\n",
    "while index < len(german_test_seq_pad):\n",
    "  result = logits_to_sentence(german_model.predict(german_test_seq_pad[index:index+1])[0], german_english_vocab)\n",
    "  german_predicted.append(result)\n",
    "  german_actual.append(german_english_test[index])\n",
    "  index += 1"
   ]
  },
  {
   "cell_type": "code",
   "execution_count": 59,
   "metadata": {
    "id": "XZxMV5eW__9Y"
   },
   "outputs": [],
   "source": [
    "from nltk.translate.bleu_score import sentence_bleu\n",
    "from nltk.translate.chrf_score import sentence_chrf"
   ]
  },
  {
   "cell_type": "code",
   "execution_count": 66,
   "metadata": {
    "id": "NcO0R5bDJxfB"
   },
   "outputs": [],
   "source": [
    "#define empty result dataframe\n",
    "german_result_df = pd.DataFrame(columns=['actual', 'prediction', 'bleu_score', 'F_score'])"
   ]
  },
  {
   "cell_type": "code",
   "execution_count": null,
   "metadata": {
    "id": "yHvVcHPtKPq3"
   },
   "outputs": [],
   "source": [
    "#loop to iterate through predicted and actual phrases and evaluate performance using bleu and f-score\n",
    "for i in range(len(german_predicted)):\n",
    "  bleu_comparison = sentence_bleu(german_actual[i], german_predicted[i], weights=(1, 0, 0, 0))\n",
    "  chrF_comparison = sentence_chrf(german_actual[i], german_predicted[i], max_len=1)\n",
    "  temp_df = pd.DataFrame({'actual':german_actual[i], 'prediction':german_predicted[i], 'bleu_score':bleu_comparison, 'F_score':chrF_comparison}, index=[0])\n",
    "  german_result_df = german_result_df.append(temp_df)"
   ]
  },
  {
   "cell_type": "code",
   "execution_count": 69,
   "metadata": {
    "colab": {
     "base_uri": "https://localhost:8080/",
     "height": 419
    },
    "id": "QYomOxZ1MjlI",
    "outputId": "ed021a23-3128-4960-e565-f0af7bcb5cb8"
   },
   "outputs": [
    {
     "data": {
      "text/html": [
       "<div>\n",
       "<style scoped>\n",
       "    .dataframe tbody tr th:only-of-type {\n",
       "        vertical-align: middle;\n",
       "    }\n",
       "\n",
       "    .dataframe tbody tr th {\n",
       "        vertical-align: top;\n",
       "    }\n",
       "\n",
       "    .dataframe thead th {\n",
       "        text-align: right;\n",
       "    }\n",
       "</style>\n",
       "<table border=\"1\" class=\"dataframe\">\n",
       "  <thead>\n",
       "    <tr style=\"text-align: right;\">\n",
       "      <th></th>\n",
       "      <th>actual</th>\n",
       "      <th>prediction</th>\n",
       "      <th>bleu_score</th>\n",
       "      <th>F_score</th>\n",
       "    </tr>\n",
       "  </thead>\n",
       "  <tbody>\n",
       "    <tr>\n",
       "      <th>0</th>\n",
       "      <td>a bill to curb sexual and gender-based violence is also in the pipeline</td>\n",
       "      <td>a sexual of a sexual sexual sexual and and and</td>\n",
       "      <td>0.185185</td>\n",
       "      <td>0.562771</td>\n",
       "    </tr>\n",
       "    <tr>\n",
       "      <th>0</th>\n",
       "      <td>but our work is far from finished</td>\n",
       "      <td>but our is is not</td>\n",
       "      <td>0.300000</td>\n",
       "      <td>0.550459</td>\n",
       "    </tr>\n",
       "    <tr>\n",
       "      <th>0</th>\n",
       "      <td>nevertheless the future looks bright</td>\n",
       "      <td>but even the future future</td>\n",
       "      <td>0.256410</td>\n",
       "      <td>0.606061</td>\n",
       "    </tr>\n",
       "    <tr>\n",
       "      <th>0</th>\n",
       "      <td>among the acu’s key areas of work is gender equity</td>\n",
       "      <td>the is the is is</td>\n",
       "      <td>0.206897</td>\n",
       "      <td>0.396660</td>\n",
       "    </tr>\n",
       "    <tr>\n",
       "      <th>0</th>\n",
       "      <td>a zero-carbon economy is within reach</td>\n",
       "      <td>a economy is is</td>\n",
       "      <td>0.344828</td>\n",
       "      <td>0.441989</td>\n",
       "    </tr>\n",
       "    <tr>\n",
       "      <th>...</th>\n",
       "      <td>...</td>\n",
       "      <td>...</td>\n",
       "      <td>...</td>\n",
       "      <td>...</td>\n",
       "    </tr>\n",
       "    <tr>\n",
       "      <th>0</th>\n",
       "      <td>until now populism has been the missing note in african political culture</td>\n",
       "      <td>so far result has has has political political political political</td>\n",
       "      <td>0.191781</td>\n",
       "      <td>0.739726</td>\n",
       "    </tr>\n",
       "    <tr>\n",
       "      <th>0</th>\n",
       "      <td>dismissing complaints zuma insists “there’s no cloud around me”</td>\n",
       "      <td>they this that to to and and</td>\n",
       "      <td>0.256410</td>\n",
       "      <td>0.396040</td>\n",
       "    </tr>\n",
       "    <tr>\n",
       "      <th>0</th>\n",
       "      <td>the stakes for africa are enormous</td>\n",
       "      <td>in africa is is</td>\n",
       "      <td>0.275862</td>\n",
       "      <td>0.417910</td>\n",
       "    </tr>\n",
       "    <tr>\n",
       "      <th>0</th>\n",
       "      <td>zuma senses the urgency of the situation</td>\n",
       "      <td>is the the the the</td>\n",
       "      <td>0.193548</td>\n",
       "      <td>0.460358</td>\n",
       "    </tr>\n",
       "    <tr>\n",
       "      <th>0</th>\n",
       "      <td>their achievement remains one of the greatest in recent history</td>\n",
       "      <td>this is the the the the the</td>\n",
       "      <td>0.157895</td>\n",
       "      <td>0.462810</td>\n",
       "    </tr>\n",
       "  </tbody>\n",
       "</table>\n",
       "<p>100 rows × 4 columns</p>\n",
       "</div>"
      ],
      "text/plain": [
       "                                                                       actual  ...   F_score\n",
       "0     a bill to curb sexual and gender-based violence is also in the pipeline  ...  0.562771\n",
       "0                                           but our work is far from finished  ...  0.550459\n",
       "0                                        nevertheless the future looks bright  ...  0.606061\n",
       "0                          among the acu’s key areas of work is gender equity  ...  0.396660\n",
       "0                                       a zero-carbon economy is within reach  ...  0.441989\n",
       "..                                                                        ...  ...       ...\n",
       "0   until now populism has been the missing note in african political culture  ...  0.739726\n",
       "0             dismissing complaints zuma insists “there’s no cloud around me”  ...  0.396040\n",
       "0                                          the stakes for africa are enormous  ...  0.417910\n",
       "0                                    zuma senses the urgency of the situation  ...  0.460358\n",
       "0             their achievement remains one of the greatest in recent history  ...  0.462810\n",
       "\n",
       "[100 rows x 4 columns]"
      ]
     },
     "execution_count": 69,
     "metadata": {
      "tags": []
     },
     "output_type": "execute_result"
    }
   ],
   "source": [
    "german_result_df"
   ]
  },
  {
   "cell_type": "code",
   "execution_count": 70,
   "metadata": {
    "colab": {
     "base_uri": "https://localhost:8080/"
    },
    "id": "KZ3BVarcNS21",
    "outputId": "c5201b0a-1a1a-4e21-9b54-cc40c0644324"
   },
   "outputs": [
    {
     "name": "stdout",
     "output_type": "stream",
     "text": [
      "Mean BLEU-1 score:  0.24055043205363003\n",
      "Mean character F-score:  0.4803209465572884\n"
     ]
    }
   ],
   "source": [
    "print('Mean BLEU-1 score: ', german_result_df['bleu_score'].mean())\n",
    "print('Mean character F-score: ', german_result_df['F_score'].mean())"
   ]
  },
  {
   "cell_type": "markdown",
   "metadata": {
    "id": "pOED5NvTbNnf"
   },
   "source": [
    "<h1> Chinese LSTM Model Training <h1>"
   ]
  },
  {
   "cell_type": "markdown",
   "metadata": {
    "id": "z_00bGyfkhyM"
   },
   "source": [
    "Same model as the german model that was trained above. "
   ]
  },
  {
   "cell_type": "code",
   "execution_count": 71,
   "metadata": {
    "id": "x9SSYsfYbMr0"
   },
   "outputs": [],
   "source": [
    "#define model architecture\n",
    "chinese_model = Sequential()\n",
    "chinese_model.add(Embedding(10000, 64, input_length=chinese_encoder_size, mask_zero=True))\n",
    "chinese_model.add(LSTM(64, dropout=0.5))\n",
    "chinese_model.add(RepeatVector(chinese_english_size))\n",
    "chinese_model.add(LSTM(64, return_sequences=True))\n",
    "chinese_model.add(TimeDistributed(Dense(10000, activation='softmax')))"
   ]
  },
  {
   "cell_type": "code",
   "execution_count": 72,
   "metadata": {
    "colab": {
     "base_uri": "https://localhost:8080/"
    },
    "id": "rsKR02A9bujB",
    "outputId": "eac9a98d-1c30-46af-efa3-96bd98dd0e2a"
   },
   "outputs": [
    {
     "name": "stdout",
     "output_type": "stream",
     "text": [
      "Model: \"sequential_1\"\n",
      "_________________________________________________________________\n",
      "Layer (type)                 Output Shape              Param #   \n",
      "=================================================================\n",
      "embedding_1 (Embedding)      (None, 15, 64)            640000    \n",
      "_________________________________________________________________\n",
      "lstm_2 (LSTM)                (None, 64)                33024     \n",
      "_________________________________________________________________\n",
      "repeat_vector_1 (RepeatVecto (None, 17, 64)            0         \n",
      "_________________________________________________________________\n",
      "lstm_3 (LSTM)                (None, 17, 64)            33024     \n",
      "_________________________________________________________________\n",
      "time_distributed (TimeDistri (None, 17, 10000)         650000    \n",
      "=================================================================\n",
      "Total params: 1,356,048\n",
      "Trainable params: 1,356,048\n",
      "Non-trainable params: 0\n",
      "_________________________________________________________________\n"
     ]
    }
   ],
   "source": [
    "chinese_model.summary()"
   ]
  },
  {
   "cell_type": "code",
   "execution_count": 73,
   "metadata": {
    "id": "aAM6zmQRbz9U"
   },
   "outputs": [],
   "source": [
    "#define optimizer, loss function, and metric\n",
    "adam = Adam(lr=0.001)\n",
    "chinese_model.compile(optimizer=adam, loss='sparse_categorical_crossentropy', metrics=['accuracy'])"
   ]
  },
  {
   "cell_type": "code",
   "execution_count": 75,
   "metadata": {
    "colab": {
     "base_uri": "https://localhost:8080/"
    },
    "id": "7ykqLOhQb5Q4",
    "outputId": "fa647f90-5356-450e-fe4b-de95a0b45110"
   },
   "outputs": [
    {
     "name": "stdout",
     "output_type": "stream",
     "text": [
      "Epoch 1/150\n",
      "351/351 [==============================] - 19s 40ms/step - loss: 5.1505 - accuracy: 0.6218 - val_loss: 2.7330 - val_accuracy: 0.6413\n",
      "Epoch 2/150\n",
      "351/351 [==============================] - 13s 36ms/step - loss: 2.7357 - accuracy: 0.6392 - val_loss: 2.6148 - val_accuracy: 0.6552\n",
      "Epoch 3/150\n",
      "351/351 [==============================] - 13s 36ms/step - loss: 2.6462 - accuracy: 0.6510 - val_loss: 2.5791 - val_accuracy: 0.6587\n",
      "Epoch 4/150\n",
      "351/351 [==============================] - 13s 36ms/step - loss: 2.6167 - accuracy: 0.6516 - val_loss: 2.5655 - val_accuracy: 0.6604\n",
      "Epoch 5/150\n",
      "351/351 [==============================] - 13s 36ms/step - loss: 2.5893 - accuracy: 0.6546 - val_loss: 2.5558 - val_accuracy: 0.6617\n",
      "Epoch 6/150\n",
      "351/351 [==============================] - 13s 36ms/step - loss: 2.5628 - accuracy: 0.6571 - val_loss: 2.5524 - val_accuracy: 0.6618\n",
      "Epoch 7/150\n",
      "351/351 [==============================] - 12s 36ms/step - loss: 2.5596 - accuracy: 0.6576 - val_loss: 2.5505 - val_accuracy: 0.6621\n",
      "Epoch 8/150\n",
      "351/351 [==============================] - 12s 36ms/step - loss: 2.5693 - accuracy: 0.6547 - val_loss: 2.5490 - val_accuracy: 0.6622\n",
      "Epoch 9/150\n",
      "351/351 [==============================] - 12s 35ms/step - loss: 2.5522 - accuracy: 0.6569 - val_loss: 2.5455 - val_accuracy: 0.6622\n",
      "Epoch 10/150\n",
      "351/351 [==============================] - 12s 35ms/step - loss: 2.5440 - accuracy: 0.6570 - val_loss: 2.5471 - val_accuracy: 0.6621\n",
      "Epoch 11/150\n",
      "351/351 [==============================] - 12s 35ms/step - loss: 2.5420 - accuracy: 0.6561 - val_loss: 2.5320 - val_accuracy: 0.6647\n",
      "Epoch 12/150\n",
      "351/351 [==============================] - 13s 36ms/step - loss: 2.4897 - accuracy: 0.6628 - val_loss: 2.5145 - val_accuracy: 0.6659\n",
      "Epoch 13/150\n",
      "351/351 [==============================] - 13s 37ms/step - loss: 2.4960 - accuracy: 0.6604 - val_loss: 2.5061 - val_accuracy: 0.6668\n",
      "Epoch 14/150\n",
      "351/351 [==============================] - 13s 37ms/step - loss: 2.4665 - accuracy: 0.6626 - val_loss: 2.4991 - val_accuracy: 0.6672\n",
      "Epoch 15/150\n",
      "351/351 [==============================] - 13s 37ms/step - loss: 2.4516 - accuracy: 0.6630 - val_loss: 2.4881 - val_accuracy: 0.6677\n",
      "Epoch 16/150\n",
      "351/351 [==============================] - 13s 37ms/step - loss: 2.4524 - accuracy: 0.6621 - val_loss: 2.4826 - val_accuracy: 0.6679\n",
      "Epoch 17/150\n",
      "351/351 [==============================] - 13s 37ms/step - loss: 2.4063 - accuracy: 0.6666 - val_loss: 2.4750 - val_accuracy: 0.6691\n",
      "Epoch 18/150\n",
      "351/351 [==============================] - 13s 37ms/step - loss: 2.4191 - accuracy: 0.6643 - val_loss: 2.4759 - val_accuracy: 0.6685\n",
      "Epoch 19/150\n",
      "351/351 [==============================] - 13s 38ms/step - loss: 2.3873 - accuracy: 0.6668 - val_loss: 2.4732 - val_accuracy: 0.6692\n",
      "Epoch 20/150\n",
      "351/351 [==============================] - 13s 37ms/step - loss: 2.3928 - accuracy: 0.6661 - val_loss: 2.4686 - val_accuracy: 0.6687\n",
      "Epoch 21/150\n",
      "351/351 [==============================] - 13s 37ms/step - loss: 2.3847 - accuracy: 0.6654 - val_loss: 2.4636 - val_accuracy: 0.6698\n",
      "Epoch 22/150\n",
      "351/351 [==============================] - 13s 37ms/step - loss: 2.3704 - accuracy: 0.6673 - val_loss: 2.4623 - val_accuracy: 0.6699\n",
      "Epoch 23/150\n",
      "351/351 [==============================] - 13s 37ms/step - loss: 2.3546 - accuracy: 0.6676 - val_loss: 2.4550 - val_accuracy: 0.6704\n",
      "Epoch 24/150\n",
      "351/351 [==============================] - 13s 37ms/step - loss: 2.3397 - accuracy: 0.6687 - val_loss: 2.4624 - val_accuracy: 0.6694\n",
      "Epoch 25/150\n",
      "351/351 [==============================] - 13s 36ms/step - loss: 2.3405 - accuracy: 0.6679 - val_loss: 2.4545 - val_accuracy: 0.6701\n",
      "Epoch 26/150\n",
      "351/351 [==============================] - 13s 36ms/step - loss: 2.3303 - accuracy: 0.6686 - val_loss: 2.4545 - val_accuracy: 0.6705\n",
      "Epoch 27/150\n",
      "351/351 [==============================] - 13s 36ms/step - loss: 2.3288 - accuracy: 0.6671 - val_loss: 2.4588 - val_accuracy: 0.6694\n",
      "Epoch 28/150\n",
      "351/351 [==============================] - 13s 36ms/step - loss: 2.3090 - accuracy: 0.6686 - val_loss: 2.4533 - val_accuracy: 0.6705\n",
      "Epoch 29/150\n",
      "351/351 [==============================] - 13s 37ms/step - loss: 2.3029 - accuracy: 0.6687 - val_loss: 2.4488 - val_accuracy: 0.6711\n",
      "Epoch 30/150\n",
      "351/351 [==============================] - 13s 36ms/step - loss: 2.2984 - accuracy: 0.6679 - val_loss: 2.4557 - val_accuracy: 0.6693\n",
      "Epoch 31/150\n",
      "351/351 [==============================] - 13s 37ms/step - loss: 2.2667 - accuracy: 0.6715 - val_loss: 2.4496 - val_accuracy: 0.6709\n",
      "Epoch 32/150\n",
      "351/351 [==============================] - 13s 37ms/step - loss: 2.2753 - accuracy: 0.6693 - val_loss: 2.4515 - val_accuracy: 0.6717\n",
      "Epoch 33/150\n",
      "351/351 [==============================] - 13s 36ms/step - loss: 2.2648 - accuracy: 0.6696 - val_loss: 2.4478 - val_accuracy: 0.6716\n",
      "Epoch 34/150\n",
      "351/351 [==============================] - 13s 37ms/step - loss: 2.2553 - accuracy: 0.6702 - val_loss: 2.4502 - val_accuracy: 0.6711\n",
      "Epoch 35/150\n",
      "351/351 [==============================] - 13s 37ms/step - loss: 2.2550 - accuracy: 0.6692 - val_loss: 2.4469 - val_accuracy: 0.6714\n",
      "Epoch 36/150\n",
      "351/351 [==============================] - 13s 37ms/step - loss: 2.2210 - accuracy: 0.6733 - val_loss: 2.4546 - val_accuracy: 0.6700\n",
      "Epoch 37/150\n",
      "351/351 [==============================] - 13s 37ms/step - loss: 2.2363 - accuracy: 0.6705 - val_loss: 2.4434 - val_accuracy: 0.6720\n",
      "Epoch 38/150\n",
      "351/351 [==============================] - 13s 36ms/step - loss: 2.2183 - accuracy: 0.6719 - val_loss: 2.4505 - val_accuracy: 0.6705\n",
      "Epoch 39/150\n",
      "351/351 [==============================] - 13s 37ms/step - loss: 2.2110 - accuracy: 0.6715 - val_loss: 2.4440 - val_accuracy: 0.6717\n",
      "Epoch 40/150\n",
      "351/351 [==============================] - 13s 37ms/step - loss: 2.2020 - accuracy: 0.6720 - val_loss: 2.4431 - val_accuracy: 0.6718\n",
      "Epoch 41/150\n",
      "351/351 [==============================] - 13s 37ms/step - loss: 2.2033 - accuracy: 0.6716 - val_loss: 2.4414 - val_accuracy: 0.6729\n",
      "Epoch 42/150\n",
      "351/351 [==============================] - 13s 37ms/step - loss: 2.1747 - accuracy: 0.6736 - val_loss: 2.4414 - val_accuracy: 0.6734\n",
      "Epoch 43/150\n",
      "351/351 [==============================] - 13s 38ms/step - loss: 2.1769 - accuracy: 0.6730 - val_loss: 2.4392 - val_accuracy: 0.6734\n",
      "Epoch 44/150\n",
      "351/351 [==============================] - 13s 37ms/step - loss: 2.1695 - accuracy: 0.6735 - val_loss: 2.4378 - val_accuracy: 0.6730\n",
      "Epoch 45/150\n",
      "351/351 [==============================] - 13s 37ms/step - loss: 2.1668 - accuracy: 0.6726 - val_loss: 2.4384 - val_accuracy: 0.6723\n",
      "Epoch 46/150\n",
      "351/351 [==============================] - 13s 37ms/step - loss: 2.1553 - accuracy: 0.6740 - val_loss: 2.4374 - val_accuracy: 0.6744\n",
      "Epoch 47/150\n",
      "351/351 [==============================] - 13s 37ms/step - loss: 2.1593 - accuracy: 0.6723 - val_loss: 2.4351 - val_accuracy: 0.6743\n",
      "Epoch 48/150\n",
      "351/351 [==============================] - 13s 37ms/step - loss: 2.1483 - accuracy: 0.6734 - val_loss: 2.4323 - val_accuracy: 0.6732\n",
      "Epoch 49/150\n",
      "351/351 [==============================] - 13s 37ms/step - loss: 2.1424 - accuracy: 0.6730 - val_loss: 2.4348 - val_accuracy: 0.6725\n",
      "Epoch 50/150\n",
      "351/351 [==============================] - 13s 37ms/step - loss: 2.1266 - accuracy: 0.6754 - val_loss: 2.4339 - val_accuracy: 0.6742\n",
      "Epoch 51/150\n",
      "351/351 [==============================] - 13s 36ms/step - loss: 2.1163 - accuracy: 0.6754 - val_loss: 2.4337 - val_accuracy: 0.6727\n",
      "Epoch 52/150\n",
      "351/351 [==============================] - 13s 36ms/step - loss: 2.1175 - accuracy: 0.6746 - val_loss: 2.4289 - val_accuracy: 0.6736\n",
      "Epoch 53/150\n",
      "351/351 [==============================] - 13s 36ms/step - loss: 2.1115 - accuracy: 0.6744 - val_loss: 2.4294 - val_accuracy: 0.6748\n",
      "Epoch 54/150\n",
      "351/351 [==============================] - 12s 36ms/step - loss: 2.1130 - accuracy: 0.6738 - val_loss: 2.4296 - val_accuracy: 0.6745\n",
      "Epoch 55/150\n",
      "351/351 [==============================] - 13s 36ms/step - loss: 2.0953 - accuracy: 0.6751 - val_loss: 2.4291 - val_accuracy: 0.6754\n",
      "Epoch 56/150\n",
      "351/351 [==============================] - 12s 35ms/step - loss: 2.0856 - accuracy: 0.6764 - val_loss: 2.4311 - val_accuracy: 0.6758\n",
      "Epoch 57/150\n",
      "351/351 [==============================] - 13s 36ms/step - loss: 2.0858 - accuracy: 0.6751 - val_loss: 2.4267 - val_accuracy: 0.6747\n",
      "Epoch 58/150\n",
      "351/351 [==============================] - 13s 36ms/step - loss: 2.0755 - accuracy: 0.6764 - val_loss: 2.4238 - val_accuracy: 0.6746\n",
      "Epoch 59/150\n",
      "351/351 [==============================] - 13s 36ms/step - loss: 2.0706 - accuracy: 0.6762 - val_loss: 2.4218 - val_accuracy: 0.6756\n",
      "Epoch 60/150\n",
      "351/351 [==============================] - 13s 36ms/step - loss: 2.0601 - accuracy: 0.6770 - val_loss: 2.4237 - val_accuracy: 0.6752\n",
      "Epoch 61/150\n",
      "351/351 [==============================] - 13s 36ms/step - loss: 2.0533 - accuracy: 0.6775 - val_loss: 2.4209 - val_accuracy: 0.6761\n",
      "Epoch 62/150\n",
      "351/351 [==============================] - 13s 36ms/step - loss: 2.0587 - accuracy: 0.6764 - val_loss: 2.4202 - val_accuracy: 0.6755\n",
      "Epoch 63/150\n",
      "351/351 [==============================] - 13s 36ms/step - loss: 2.0554 - accuracy: 0.6758 - val_loss: 2.4189 - val_accuracy: 0.6755\n",
      "Epoch 64/150\n",
      "351/351 [==============================] - 13s 36ms/step - loss: 2.0361 - accuracy: 0.6778 - val_loss: 2.4177 - val_accuracy: 0.6763\n",
      "Epoch 65/150\n",
      "351/351 [==============================] - 13s 37ms/step - loss: 2.0278 - accuracy: 0.6785 - val_loss: 2.4162 - val_accuracy: 0.6755\n",
      "Epoch 66/150\n",
      "351/351 [==============================] - 13s 36ms/step - loss: 2.0224 - accuracy: 0.6790 - val_loss: 2.4156 - val_accuracy: 0.6761\n",
      "Epoch 67/150\n",
      "351/351 [==============================] - 13s 37ms/step - loss: 2.0113 - accuracy: 0.6792 - val_loss: 2.4163 - val_accuracy: 0.6755\n",
      "Epoch 68/150\n",
      "351/351 [==============================] - 13s 37ms/step - loss: 2.0040 - accuracy: 0.6800 - val_loss: 2.4127 - val_accuracy: 0.6763\n",
      "Epoch 69/150\n",
      "351/351 [==============================] - 13s 37ms/step - loss: 2.0129 - accuracy: 0.6777 - val_loss: 2.4132 - val_accuracy: 0.6763\n",
      "Epoch 70/150\n",
      "351/351 [==============================] - 13s 37ms/step - loss: 2.0104 - accuracy: 0.6782 - val_loss: 2.4199 - val_accuracy: 0.6739\n",
      "Epoch 71/150\n",
      "351/351 [==============================] - 13s 36ms/step - loss: 1.9962 - accuracy: 0.6791 - val_loss: 2.4118 - val_accuracy: 0.6760\n",
      "Epoch 72/150\n",
      "351/351 [==============================] - 13s 36ms/step - loss: 1.9896 - accuracy: 0.6798 - val_loss: 2.4110 - val_accuracy: 0.6756\n",
      "Epoch 73/150\n",
      "351/351 [==============================] - 13s 37ms/step - loss: 1.9950 - accuracy: 0.6780 - val_loss: 2.4111 - val_accuracy: 0.6755\n",
      "Epoch 74/150\n",
      "351/351 [==============================] - 13s 37ms/step - loss: 1.9745 - accuracy: 0.6804 - val_loss: 2.4118 - val_accuracy: 0.6756\n",
      "Epoch 75/150\n",
      "351/351 [==============================] - 13s 37ms/step - loss: 1.9763 - accuracy: 0.6800 - val_loss: 2.4117 - val_accuracy: 0.6767\n",
      "Epoch 76/150\n",
      "351/351 [==============================] - 13s 36ms/step - loss: 1.9810 - accuracy: 0.6790 - val_loss: 2.4129 - val_accuracy: 0.6775\n",
      "Epoch 77/150\n",
      "351/351 [==============================] - 13s 37ms/step - loss: 1.9605 - accuracy: 0.6812 - val_loss: 2.4096 - val_accuracy: 0.6754\n",
      "Epoch 78/150\n",
      "351/351 [==============================] - 13s 37ms/step - loss: 1.9622 - accuracy: 0.6807 - val_loss: 2.4076 - val_accuracy: 0.6763\n",
      "Epoch 79/150\n",
      "351/351 [==============================] - 13s 37ms/step - loss: 1.9455 - accuracy: 0.6826 - val_loss: 2.4060 - val_accuracy: 0.6772\n",
      "Epoch 80/150\n",
      "351/351 [==============================] - 13s 37ms/step - loss: 1.9523 - accuracy: 0.6813 - val_loss: 2.4070 - val_accuracy: 0.6775\n",
      "Epoch 81/150\n",
      "351/351 [==============================] - 13s 37ms/step - loss: 1.9531 - accuracy: 0.6808 - val_loss: 2.4037 - val_accuracy: 0.6771\n",
      "Epoch 82/150\n",
      "351/351 [==============================] - 13s 37ms/step - loss: 1.9480 - accuracy: 0.6803 - val_loss: 2.4084 - val_accuracy: 0.6766\n",
      "Epoch 83/150\n",
      "351/351 [==============================] - 13s 37ms/step - loss: 1.9436 - accuracy: 0.6803 - val_loss: 2.4029 - val_accuracy: 0.6780\n",
      "Epoch 84/150\n",
      "351/351 [==============================] - 13s 37ms/step - loss: 1.9391 - accuracy: 0.6808 - val_loss: 2.4043 - val_accuracy: 0.6779\n",
      "Epoch 85/150\n",
      "351/351 [==============================] - 13s 37ms/step - loss: 1.9316 - accuracy: 0.6815 - val_loss: 2.4051 - val_accuracy: 0.6764\n",
      "Epoch 86/150\n",
      "351/351 [==============================] - 13s 37ms/step - loss: 1.9238 - accuracy: 0.6819 - val_loss: 2.4042 - val_accuracy: 0.6762\n",
      "Epoch 87/150\n",
      "351/351 [==============================] - 13s 37ms/step - loss: 1.9285 - accuracy: 0.6805 - val_loss: 2.4037 - val_accuracy: 0.6786\n",
      "Epoch 88/150\n",
      "351/351 [==============================] - 13s 37ms/step - loss: 1.9213 - accuracy: 0.6819 - val_loss: 2.3991 - val_accuracy: 0.6769\n",
      "Epoch 89/150\n",
      "351/351 [==============================] - 13s 36ms/step - loss: 1.9125 - accuracy: 0.6818 - val_loss: 2.3999 - val_accuracy: 0.6778\n",
      "Epoch 90/150\n",
      "351/351 [==============================] - 13s 37ms/step - loss: 1.8996 - accuracy: 0.6828 - val_loss: 2.4046 - val_accuracy: 0.6768\n",
      "Epoch 91/150\n",
      "351/351 [==============================] - 13s 37ms/step - loss: 1.8938 - accuracy: 0.6845 - val_loss: 2.4040 - val_accuracy: 0.6762\n",
      "Epoch 92/150\n",
      "351/351 [==============================] - 13s 37ms/step - loss: 1.9019 - accuracy: 0.6819 - val_loss: 2.3996 - val_accuracy: 0.6765\n",
      "Epoch 93/150\n",
      "351/351 [==============================] - 13s 37ms/step - loss: 1.9065 - accuracy: 0.6810 - val_loss: 2.3978 - val_accuracy: 0.6780\n",
      "Epoch 94/150\n",
      "351/351 [==============================] - 13s 37ms/step - loss: 1.8951 - accuracy: 0.6818 - val_loss: 2.3958 - val_accuracy: 0.6772\n",
      "Epoch 95/150\n",
      "351/351 [==============================] - 13s 37ms/step - loss: 1.8773 - accuracy: 0.6851 - val_loss: 2.3981 - val_accuracy: 0.6769\n",
      "Epoch 96/150\n",
      "351/351 [==============================] - 13s 37ms/step - loss: 1.8732 - accuracy: 0.6846 - val_loss: 2.3988 - val_accuracy: 0.6780\n",
      "Epoch 97/150\n",
      "351/351 [==============================] - 13s 37ms/step - loss: 1.8872 - accuracy: 0.6824 - val_loss: 2.3976 - val_accuracy: 0.6781\n",
      "Epoch 98/150\n",
      "351/351 [==============================] - 13s 38ms/step - loss: 1.8739 - accuracy: 0.6836 - val_loss: 2.3967 - val_accuracy: 0.6778\n",
      "Epoch 99/150\n",
      "351/351 [==============================] - 13s 38ms/step - loss: 1.8653 - accuracy: 0.6842 - val_loss: 2.3998 - val_accuracy: 0.6775\n",
      "Epoch 100/150\n",
      "351/351 [==============================] - 13s 37ms/step - loss: 1.8663 - accuracy: 0.6841 - val_loss: 2.3954 - val_accuracy: 0.6777\n",
      "Epoch 101/150\n",
      "351/351 [==============================] - 13s 36ms/step - loss: 1.8563 - accuracy: 0.6855 - val_loss: 2.3983 - val_accuracy: 0.6785\n",
      "Epoch 102/150\n",
      "351/351 [==============================] - 13s 37ms/step - loss: 1.8599 - accuracy: 0.6836 - val_loss: 2.3935 - val_accuracy: 0.6782\n",
      "Epoch 103/150\n",
      "351/351 [==============================] - 13s 37ms/step - loss: 1.8443 - accuracy: 0.6863 - val_loss: 2.3937 - val_accuracy: 0.6778\n",
      "Epoch 104/150\n",
      "351/351 [==============================] - 13s 36ms/step - loss: 1.8502 - accuracy: 0.6844 - val_loss: 2.3966 - val_accuracy: 0.6762\n",
      "Epoch 105/150\n",
      "351/351 [==============================] - 13s 37ms/step - loss: 1.8401 - accuracy: 0.6858 - val_loss: 2.3956 - val_accuracy: 0.6773\n",
      "Epoch 106/150\n",
      "351/351 [==============================] - 13s 36ms/step - loss: 1.8392 - accuracy: 0.6859 - val_loss: 2.3937 - val_accuracy: 0.6771\n",
      "Epoch 107/150\n",
      "351/351 [==============================] - 13s 36ms/step - loss: 1.8268 - accuracy: 0.6868 - val_loss: 2.3975 - val_accuracy: 0.6787\n",
      "Epoch 108/150\n",
      "351/351 [==============================] - 13s 37ms/step - loss: 1.8365 - accuracy: 0.6857 - val_loss: 2.3981 - val_accuracy: 0.6785\n",
      "Epoch 109/150\n",
      "351/351 [==============================] - 13s 37ms/step - loss: 1.8396 - accuracy: 0.6852 - val_loss: 2.3891 - val_accuracy: 0.6788\n",
      "Epoch 110/150\n",
      "351/351 [==============================] - 13s 36ms/step - loss: 1.8183 - accuracy: 0.6869 - val_loss: 2.3974 - val_accuracy: 0.6790\n",
      "Epoch 111/150\n",
      "351/351 [==============================] - 13s 36ms/step - loss: 1.8135 - accuracy: 0.6881 - val_loss: 2.3938 - val_accuracy: 0.6789\n",
      "Epoch 112/150\n",
      "351/351 [==============================] - 13s 36ms/step - loss: 1.8079 - accuracy: 0.6881 - val_loss: 2.4003 - val_accuracy: 0.6755\n",
      "Epoch 113/150\n",
      "351/351 [==============================] - 13s 36ms/step - loss: 1.8109 - accuracy: 0.6876 - val_loss: 2.4051 - val_accuracy: 0.6799\n",
      "Epoch 114/150\n",
      "351/351 [==============================] - 13s 37ms/step - loss: 1.8175 - accuracy: 0.6861 - val_loss: 2.3946 - val_accuracy: 0.6790\n",
      "Epoch 115/150\n",
      "351/351 [==============================] - 13s 36ms/step - loss: 1.8039 - accuracy: 0.6881 - val_loss: 2.3928 - val_accuracy: 0.6777\n",
      "Epoch 116/150\n",
      "351/351 [==============================] - 13s 36ms/step - loss: 1.8200 - accuracy: 0.6855 - val_loss: 2.3896 - val_accuracy: 0.6783\n",
      "Epoch 117/150\n",
      "351/351 [==============================] - 12s 36ms/step - loss: 1.7930 - accuracy: 0.6892 - val_loss: 2.3950 - val_accuracy: 0.6794\n",
      "Epoch 118/150\n",
      "351/351 [==============================] - 13s 36ms/step - loss: 1.8015 - accuracy: 0.6872 - val_loss: 2.3907 - val_accuracy: 0.6782\n",
      "Epoch 119/150\n",
      "351/351 [==============================] - 13s 36ms/step - loss: 1.7868 - accuracy: 0.6900 - val_loss: 2.3885 - val_accuracy: 0.6780\n",
      "Epoch 120/150\n",
      "351/351 [==============================] - 13s 36ms/step - loss: 1.7999 - accuracy: 0.6867 - val_loss: 2.3895 - val_accuracy: 0.6783\n",
      "Epoch 121/150\n",
      "351/351 [==============================] - 13s 36ms/step - loss: 1.8024 - accuracy: 0.6861 - val_loss: 2.3904 - val_accuracy: 0.6780\n",
      "Epoch 122/150\n",
      "351/351 [==============================] - 12s 35ms/step - loss: 1.7870 - accuracy: 0.6879 - val_loss: 2.3928 - val_accuracy: 0.6798\n",
      "Epoch 123/150\n",
      "351/351 [==============================] - 13s 36ms/step - loss: 1.7778 - accuracy: 0.6897 - val_loss: 2.3945 - val_accuracy: 0.6785\n",
      "Epoch 124/150\n",
      "351/351 [==============================] - 13s 36ms/step - loss: 1.7784 - accuracy: 0.6891 - val_loss: 2.3966 - val_accuracy: 0.6773\n",
      "Epoch 125/150\n",
      "351/351 [==============================] - 13s 36ms/step - loss: 1.7658 - accuracy: 0.6913 - val_loss: 2.3908 - val_accuracy: 0.6780\n",
      "Epoch 126/150\n",
      "351/351 [==============================] - 13s 36ms/step - loss: 1.7733 - accuracy: 0.6896 - val_loss: 2.3893 - val_accuracy: 0.6791\n",
      "Epoch 127/150\n",
      "351/351 [==============================] - 13s 36ms/step - loss: 1.7754 - accuracy: 0.6886 - val_loss: 2.3906 - val_accuracy: 0.6798\n",
      "Epoch 128/150\n",
      "351/351 [==============================] - 13s 37ms/step - loss: 1.7653 - accuracy: 0.6899 - val_loss: 2.3917 - val_accuracy: 0.6778\n",
      "Epoch 129/150\n",
      "351/351 [==============================] - 13s 36ms/step - loss: 1.7619 - accuracy: 0.6905 - val_loss: 2.3919 - val_accuracy: 0.6789\n",
      "Epoch 130/150\n",
      "351/351 [==============================] - 13s 36ms/step - loss: 1.7643 - accuracy: 0.6896 - val_loss: 2.3922 - val_accuracy: 0.6780\n",
      "Epoch 131/150\n",
      "351/351 [==============================] - 13s 36ms/step - loss: 1.7641 - accuracy: 0.6899 - val_loss: 2.3885 - val_accuracy: 0.6788\n",
      "Epoch 132/150\n",
      "351/351 [==============================] - 12s 36ms/step - loss: 1.7628 - accuracy: 0.6889 - val_loss: 2.3932 - val_accuracy: 0.6785\n",
      "Epoch 133/150\n",
      "351/351 [==============================] - 13s 36ms/step - loss: 1.7512 - accuracy: 0.6907 - val_loss: 2.3878 - val_accuracy: 0.6786\n",
      "Epoch 134/150\n",
      "351/351 [==============================] - 13s 36ms/step - loss: 1.7533 - accuracy: 0.6904 - val_loss: 2.3866 - val_accuracy: 0.6790\n",
      "Epoch 135/150\n",
      "351/351 [==============================] - 13s 36ms/step - loss: 1.7492 - accuracy: 0.6905 - val_loss: 2.3890 - val_accuracy: 0.6781\n",
      "Epoch 136/150\n",
      "351/351 [==============================] - 13s 37ms/step - loss: 1.7383 - accuracy: 0.6924 - val_loss: 2.3895 - val_accuracy: 0.6791\n",
      "Epoch 137/150\n",
      "351/351 [==============================] - 13s 37ms/step - loss: 1.7323 - accuracy: 0.6928 - val_loss: 2.3883 - val_accuracy: 0.6791\n",
      "Epoch 138/150\n",
      "351/351 [==============================] - 13s 36ms/step - loss: 1.7422 - accuracy: 0.6908 - val_loss: 2.3912 - val_accuracy: 0.6792\n",
      "Epoch 139/150\n",
      "351/351 [==============================] - 13s 36ms/step - loss: 1.7390 - accuracy: 0.6913 - val_loss: 2.3891 - val_accuracy: 0.6784\n",
      "Epoch 140/150\n",
      "351/351 [==============================] - 13s 36ms/step - loss: 1.7375 - accuracy: 0.6914 - val_loss: 2.3913 - val_accuracy: 0.6799\n",
      "Epoch 141/150\n",
      "351/351 [==============================] - 13s 36ms/step - loss: 1.7292 - accuracy: 0.6925 - val_loss: 2.3885 - val_accuracy: 0.6783\n",
      "Epoch 142/150\n",
      "351/351 [==============================] - 13s 37ms/step - loss: 1.7235 - accuracy: 0.6929 - val_loss: 2.3889 - val_accuracy: 0.6792\n",
      "Epoch 143/150\n",
      "351/351 [==============================] - 13s 37ms/step - loss: 1.7112 - accuracy: 0.6954 - val_loss: 2.3904 - val_accuracy: 0.6805\n",
      "Epoch 144/150\n",
      "351/351 [==============================] - 13s 37ms/step - loss: 1.7248 - accuracy: 0.6928 - val_loss: 2.3898 - val_accuracy: 0.6798\n",
      "Epoch 145/150\n",
      "351/351 [==============================] - 13s 37ms/step - loss: 1.7146 - accuracy: 0.6942 - val_loss: 2.3937 - val_accuracy: 0.6802\n",
      "Epoch 146/150\n",
      "351/351 [==============================] - 13s 37ms/step - loss: 1.7185 - accuracy: 0.6932 - val_loss: 2.3864 - val_accuracy: 0.6787\n",
      "Epoch 147/150\n",
      "351/351 [==============================] - 13s 37ms/step - loss: 1.7207 - accuracy: 0.6928 - val_loss: 2.3894 - val_accuracy: 0.6781\n",
      "Epoch 148/150\n",
      "351/351 [==============================] - 13s 36ms/step - loss: 1.7117 - accuracy: 0.6942 - val_loss: 2.3906 - val_accuracy: 0.6788\n",
      "Epoch 149/150\n",
      "351/351 [==============================] - 13s 37ms/step - loss: 1.7174 - accuracy: 0.6936 - val_loss: 2.3880 - val_accuracy: 0.6788\n",
      "Epoch 150/150\n",
      "351/351 [==============================] - 13s 36ms/step - loss: 1.7115 - accuracy: 0.6932 - val_loss: 2.3918 - val_accuracy: 0.6781\n"
     ]
    }
   ],
   "source": [
    "#train model\n",
    "chinese_history = chinese_model.fit(chinese_encoder_sequences_padded, chinese_english_sequences_padded, epochs=150, batch_size=64, validation_split=0.2)"
   ]
  },
  {
   "cell_type": "code",
   "execution_count": 76,
   "metadata": {
    "id": "FFf3cMAwcBhX"
   },
   "outputs": [],
   "source": [
    "# chinese_model.save('/chinese_LSTM_model.h5')"
   ]
  },
  {
   "cell_type": "code",
   "execution_count": null,
   "metadata": {
    "id": "_UjnOhogI4h2"
   },
   "outputs": [],
   "source": [
    "# chinese_model.load_weights('/chinese_LSTM_model.h5')"
   ]
  },
  {
   "cell_type": "code",
   "execution_count": 77,
   "metadata": {
    "colab": {
     "base_uri": "https://localhost:8080/",
     "height": 266
    },
    "id": "d_M7VVa3cSPJ",
    "outputId": "82e5db36-f8e8-40fc-ab2c-3e9c00829a40"
   },
   "outputs": [
    {
     "data": {
      "image/png": "[encoded data removed]",
      "text/plain": [
       "<Figure size 432x288 with 1 Axes>"
      ]
     },
     "metadata": {
      "needs_background": "light",
      "tags": []
     },
     "output_type": "display_data"
    }
   ],
   "source": [
    "#plot losses by epoch\n",
    "plt.plot(chinese_history.history['loss'])\n",
    "plt.plot(chinese_history.history['val_loss'])\n",
    "plt.legend(['train', 'validation'])\n",
    "plt.show()"
   ]
  },
  {
   "cell_type": "code",
   "execution_count": 78,
   "metadata": {
    "colab": {
     "base_uri": "https://localhost:8080/",
     "height": 265
    },
    "id": "neZ9apCMcXn-",
    "outputId": "006d645e-6a80-43cd-b268-4229b9bae0f7"
   },
   "outputs": [
    {
     "data": {
      "image/png": "[encoded data removed]",
      "text/plain": [
       "<Figure size 432x288 with 1 Axes>"
      ]
     },
     "metadata": {
      "needs_background": "light",
      "tags": []
     },
     "output_type": "display_data"
    }
   ],
   "source": [
    "#plot accuracy by epoch\n",
    "plt.plot(chinese_history.history['accuracy'])\n",
    "plt.plot(chinese_history.history['val_accuracy'])\n",
    "plt.legend(['train', 'validation'])\n",
    "plt.show()"
   ]
  },
  {
   "cell_type": "markdown",
   "metadata": {
    "id": "xZTxQEWOavfz"
   },
   "source": [
    "<h3> Chinese LSTM Model Training Observations <h3>"
   ]
  },
  {
   "cell_type": "markdown",
   "metadata": {},
   "source": [
    "*   The model overall seems to have performed decently. The overall training accuracy was higher than the german model. \n",
    "*   The training loss decreased throught the duration of the training but the validation loss plateaued fairly early on."
   ]
  },
  {
   "cell_type": "markdown",
   "metadata": {
    "id": "6X8xkMdGakqT"
   },
   "source": [
    "<h1> Chinese LSTM Model Evaluation"
   ]
  },
  {
   "cell_type": "markdown",
   "metadata": {
    "id": "RUnW6gvianTY"
   },
   "source": [
    "We're using the same metrics as the german LSTM model"
   ]
  },
  {
   "cell_type": "code",
   "execution_count": 79,
   "metadata": {
    "id": "kMGrN8qRcc--"
   },
   "outputs": [],
   "source": [
    "#encode and pad test sequences\n",
    "chinese_test_seq = chinese_tokenizer.texts_to_sequences(chinese_test)\n",
    "\n",
    "chinese_test_seq_pad = pad_sequences(chinese_test_seq, padding='post')"
   ]
  },
  {
   "cell_type": "code",
   "execution_count": 80,
   "metadata": {
    "id": "wDqSwimr4tjp"
   },
   "outputs": [],
   "source": [
    "#loop to iterate through test sequences and append the predicted vs actual sequence\n",
    "chinese_predicted, chinese_actual = [], []\n",
    "\n",
    "index = 0\n",
    "while index < len(chinese_test_seq_pad):\n",
    "  result = logits_to_sentence(chinese_model.predict(chinese_test_seq_pad[index:index+1])[0], chinese_english_vocab)\n",
    "  chinese_predicted.append(result)\n",
    "  chinese_actual.append(chinese_english_test[index])\n",
    "  index += 1"
   ]
  },
  {
   "cell_type": "code",
   "execution_count": null,
   "metadata": {
    "id": "y4ZtJ6cYO2Sd"
   },
   "outputs": [],
   "source": [
    "#append phrases and evaluation metrics to result dataframe\n",
    "chinese_result_df = pd.DataFrame(columns=['actual', 'prediction', 'bleu_score', 'F_score'])\n",
    "\n",
    "for i in range(len(chinese_predicted)):\n",
    "  comparison = sentence_bleu(chinese_actual[i], chinese_predicted[i], weights=(1, 0, 0, 0))\n",
    "  chrF_comparison = sentence_chrf(chinese_actual[i], chinese_predicted[i], max_len=1)\n",
    "  temp_df = pd.DataFrame({'actual':chinese_actual[i], 'prediction':chinese_predicted[i], 'bleu_score':comparison, 'F_score':chrF_comparison}, index=[0])\n",
    "  chinese_result_df = chinese_result_df.append(temp_df)"
   ]
  },
  {
   "cell_type": "code",
   "execution_count": 121,
   "metadata": {
    "colab": {
     "base_uri": "https://localhost:8080/",
     "height": 419
    },
    "id": "wuRSk1bNPJMo",
    "outputId": "eb6075b5-e56f-4403-e993-94ef19106d8f"
   },
   "outputs": [
    {
     "data": {
      "text/html": [
       "<div>\n",
       "<style scoped>\n",
       "    .dataframe tbody tr th:only-of-type {\n",
       "        vertical-align: middle;\n",
       "    }\n",
       "\n",
       "    .dataframe tbody tr th {\n",
       "        vertical-align: top;\n",
       "    }\n",
       "\n",
       "    .dataframe thead th {\n",
       "        text-align: right;\n",
       "    }\n",
       "</style>\n",
       "<table border=\"1\" class=\"dataframe\">\n",
       "  <thead>\n",
       "    <tr style=\"text-align: right;\">\n",
       "      <th></th>\n",
       "      <th>actual</th>\n",
       "      <th>prediction</th>\n",
       "      <th>bleu_score</th>\n",
       "      <th>F_score</th>\n",
       "    </tr>\n",
       "  </thead>\n",
       "  <tbody>\n",
       "    <tr>\n",
       "      <th>0</th>\n",
       "      <td>china and the us need to talk</td>\n",
       "      <td>china is is is the to to</td>\n",
       "      <td>0.294118</td>\n",
       "      <td>0.610169</td>\n",
       "    </tr>\n",
       "    <tr>\n",
       "      <th>0</th>\n",
       "      <td>asia-pacific leaders must shake off their complacency</td>\n",
       "      <td>the must must to must to to</td>\n",
       "      <td>0.216216</td>\n",
       "      <td>0.350195</td>\n",
       "    </tr>\n",
       "    <tr>\n",
       "      <th>0</th>\n",
       "      <td>the politics of young and old</td>\n",
       "      <td>the and of</td>\n",
       "      <td>0.375000</td>\n",
       "      <td>0.456140</td>\n",
       "    </tr>\n",
       "    <tr>\n",
       "      <th>0</th>\n",
       "      <td>fifty years ago people spoke often and loudly of a “generation gap”</td>\n",
       "      <td>the the the the the the the to the</td>\n",
       "      <td>0.095238</td>\n",
       "      <td>0.341085</td>\n",
       "    </tr>\n",
       "    <tr>\n",
       "      <th>0</th>\n",
       "      <td>start with climate change</td>\n",
       "      <td>consider change change</td>\n",
       "      <td>0.277778</td>\n",
       "      <td>0.613027</td>\n",
       "    </tr>\n",
       "    <tr>\n",
       "      <th>...</th>\n",
       "      <td>...</td>\n",
       "      <td>...</td>\n",
       "      <td>...</td>\n",
       "      <td>...</td>\n",
       "    </tr>\n",
       "    <tr>\n",
       "      <th>0</th>\n",
       "      <td>in any case let’s wish him luck</td>\n",
       "      <td>and that is to to</td>\n",
       "      <td>0.241379</td>\n",
       "      <td>0.422078</td>\n",
       "    </tr>\n",
       "    <tr>\n",
       "      <th>0</th>\n",
       "      <td>zuma rising</td>\n",
       "      <td>portugal in mecca</td>\n",
       "      <td>0.258065</td>\n",
       "      <td>0.615385</td>\n",
       "    </tr>\n",
       "    <tr>\n",
       "      <th>0</th>\n",
       "      <td>the stakes for africa are enormous</td>\n",
       "      <td>this is the the the of the the the the</td>\n",
       "      <td>0.177778</td>\n",
       "      <td>0.484330</td>\n",
       "    </tr>\n",
       "    <tr>\n",
       "      <th>0</th>\n",
       "      <td>zuma senses the urgency of the situation</td>\n",
       "      <td>the is is is</td>\n",
       "      <td>0.240000</td>\n",
       "      <td>0.363636</td>\n",
       "    </tr>\n",
       "    <tr>\n",
       "      <th>0</th>\n",
       "      <td>“we can’t waste time” he says</td>\n",
       "      <td>it is we we that</td>\n",
       "      <td>0.285714</td>\n",
       "      <td>0.553633</td>\n",
       "    </tr>\n",
       "  </tbody>\n",
       "</table>\n",
       "<p>100 rows × 4 columns</p>\n",
       "</div>"
      ],
      "text/plain": [
       "                                                                 actual  ...   F_score\n",
       "0                                         china and the us need to talk  ...  0.610169\n",
       "0                 asia-pacific leaders must shake off their complacency  ...  0.350195\n",
       "0                                         the politics of young and old  ...  0.456140\n",
       "0   fifty years ago people spoke often and loudly of a “generation gap”  ...  0.341085\n",
       "0                                             start with climate change  ...  0.613027\n",
       "..                                                                  ...  ...       ...\n",
       "0                                       in any case let’s wish him luck  ...  0.422078\n",
       "0                                                           zuma rising  ...  0.615385\n",
       "0                                    the stakes for africa are enormous  ...  0.484330\n",
       "0                              zuma senses the urgency of the situation  ...  0.363636\n",
       "0                                         “we can’t waste time” he says  ...  0.553633\n",
       "\n",
       "[100 rows x 4 columns]"
      ]
     },
     "execution_count": 121,
     "metadata": {
      "tags": []
     },
     "output_type": "execute_result"
    }
   ],
   "source": [
    "chinese_result_df"
   ]
  },
  {
   "cell_type": "code",
   "execution_count": 88,
   "metadata": {
    "colab": {
     "base_uri": "https://localhost:8080/"
    },
    "id": "3awWaqlBPODC",
    "outputId": "e20e93b1-917b-43cc-a2cb-5315bb5a5895"
   },
   "outputs": [
    {
     "name": "stdout",
     "output_type": "stream",
     "text": [
      "Mean BLEU-1 score:  0.25725371528596364\n",
      "Mean character F-score:  0.47893936622685834\n"
     ]
    }
   ],
   "source": [
    "print('Mean BLEU-1 score: ', chinese_result_df['bleu_score'].mean())\n",
    "print('Mean character F-score: ', chinese_result_df['F_score'].mean())"
   ]
  },
  {
   "cell_type": "markdown",
   "metadata": {},
   "source": [
    "<h1> GRU Model Architecture <h1>"
   ]
  },
  {
   "cell_type": "markdown",
   "metadata": {},
   "source": [
    "The GRU model is another common model that we found other researchers have used to tackle this kind of NMT problem. The GRU unit is similar to an RNN/LSTM but has some differences in the gating system. The GRU has a reset gate and update gate. The update gate decides how much of the information to keep while the reset gate decides what to combine with previous memory. GRUs do not have a forget gate or output gate like in LSTM. We found that the tutorial on the TensorFlow website was helpful to understand the architecture (https://www.tensorflow.org/tutorials/text/nmt_with_attention)\n",
    "\n",
    "This model follows a simple GRU encoder-decoder architecture.\n",
    "\n",
    "* Layer 1 - Embedding - converts each word integer into an embedding vector\n",
    "* Layer 2 - GRU - Encoding layer - 64 hidden units that encode the sentences\n",
    "* Layer 3 - RepeatVector - repeats the output of the GRU layer to maintain dimensions\n",
    "* Layer 4 - GRU - decoding payer - 64 hidden units that decode the sentences, has return_sequences = True which allows the decoder to understand the hidden state output at each timestep\n",
    "* Layer 5 - Dense - Classifies the decoded words\n"
   ]
  },
  {
   "cell_type": "markdown",
   "metadata": {
    "id": "JAdnfpfVbdK1"
   },
   "source": [
    "<h1> German GRU Model Training <h1>"
   ]
  },
  {
   "cell_type": "markdown",
   "metadata": {},
   "source": [
    "We used the same hyperparameters as in the LSTM model for these models"
   ]
  },
  {
   "cell_type": "code",
   "execution_count": 90,
   "metadata": {
    "id": "cuf9K0N1WyKR"
   },
   "outputs": [],
   "source": [
    "#define model architecture\n",
    "german_GRU_model = Sequential()\n",
    "german_GRU_model.add(Embedding(10000, 64, input_length=german_encoder_size, mask_zero=True))\n",
    "german_GRU_model.add(GRU(64, dropout=0.5))\n",
    "german_GRU_model.add(RepeatVector(german_english_size))\n",
    "german_GRU_model.add(GRU(64, return_sequences=True))\n",
    "german_GRU_model.add(TimeDistributed(Dense(10000, activation='softmax')))\n",
    "\n",
    "adam = Adam(lr=0.001)\n",
    "german_GRU_model.compile(optimizer=adam, loss='sparse_categorical_crossentropy', metrics=['accuracy'])"
   ]
  },
  {
   "cell_type": "code",
   "execution_count": 91,
   "metadata": {
    "colab": {
     "base_uri": "https://localhost:8080/"
    },
    "id": "lW5T35mfXT1N",
    "outputId": "bdb001ba-5a5c-442e-a324-9d16e081adea"
   },
   "outputs": [
    {
     "name": "stdout",
     "output_type": "stream",
     "text": [
      "Epoch 1/150\n",
      "1125/1125 [==============================] - 46s 38ms/step - loss: 4.7422 - accuracy: 0.4849 - val_loss: 3.7486 - val_accuracy: 0.5100\n",
      "Epoch 2/150\n",
      "1125/1125 [==============================] - 41s 36ms/step - loss: 3.7151 - accuracy: 0.5093 - val_loss: 3.6980 - val_accuracy: 0.5106\n",
      "Epoch 3/150\n",
      "1125/1125 [==============================] - 41s 36ms/step - loss: 3.6803 - accuracy: 0.5096 - val_loss: 3.6863 - val_accuracy: 0.5107\n",
      "Epoch 4/150\n",
      "1125/1125 [==============================] - 40s 36ms/step - loss: 3.6550 - accuracy: 0.5112 - val_loss: 3.6783 - val_accuracy: 0.5113\n",
      "Epoch 5/150\n",
      "1125/1125 [==============================] - 40s 36ms/step - loss: 3.6463 - accuracy: 0.5107 - val_loss: 3.6709 - val_accuracy: 0.5112\n",
      "Epoch 6/150\n",
      "1125/1125 [==============================] - 40s 36ms/step - loss: 3.6325 - accuracy: 0.5111 - val_loss: 3.6677 - val_accuracy: 0.5111\n",
      "Epoch 7/150\n",
      "1125/1125 [==============================] - 40s 36ms/step - loss: 3.6097 - accuracy: 0.5138 - val_loss: 3.6331 - val_accuracy: 0.5155\n",
      "Epoch 8/150\n",
      "1125/1125 [==============================] - 40s 36ms/step - loss: 3.5783 - accuracy: 0.5161 - val_loss: 3.5947 - val_accuracy: 0.5167\n",
      "Epoch 9/150\n",
      "1125/1125 [==============================] - 41s 36ms/step - loss: 3.5257 - accuracy: 0.5198 - val_loss: 3.5693 - val_accuracy: 0.5180\n",
      "Epoch 10/150\n",
      "1125/1125 [==============================] - 41s 36ms/step - loss: 3.5015 - accuracy: 0.5196 - val_loss: 3.5553 - val_accuracy: 0.5201\n",
      "Epoch 11/150\n",
      "1125/1125 [==============================] - 41s 36ms/step - loss: 3.4685 - accuracy: 0.5217 - val_loss: 3.5270 - val_accuracy: 0.5209\n",
      "Epoch 12/150\n",
      "1125/1125 [==============================] - 40s 36ms/step - loss: 3.4475 - accuracy: 0.5228 - val_loss: 3.5032 - val_accuracy: 0.5237\n",
      "Epoch 13/150\n",
      "1125/1125 [==============================] - 41s 36ms/step - loss: 3.4142 - accuracy: 0.5257 - val_loss: 3.4854 - val_accuracy: 0.5251\n",
      "Epoch 14/150\n",
      "1125/1125 [==============================] - 41s 36ms/step - loss: 3.3867 - accuracy: 0.5282 - val_loss: 3.4613 - val_accuracy: 0.5280\n",
      "Epoch 15/150\n",
      "1125/1125 [==============================] - 41s 36ms/step - loss: 3.3651 - accuracy: 0.5287 - val_loss: 3.4360 - val_accuracy: 0.5293\n",
      "Epoch 16/150\n",
      "1125/1125 [==============================] - 40s 36ms/step - loss: 3.3167 - accuracy: 0.5333 - val_loss: 3.4218 - val_accuracy: 0.5297\n",
      "Epoch 17/150\n",
      "1125/1125 [==============================] - 41s 36ms/step - loss: 3.3146 - accuracy: 0.5311 - val_loss: 3.4011 - val_accuracy: 0.5313\n",
      "Epoch 18/150\n",
      "1125/1125 [==============================] - 41s 36ms/step - loss: 3.2813 - accuracy: 0.5334 - val_loss: 3.3794 - val_accuracy: 0.5316\n",
      "Epoch 19/150\n",
      "1125/1125 [==============================] - 41s 36ms/step - loss: 3.2492 - accuracy: 0.5351 - val_loss: 3.3568 - val_accuracy: 0.5331\n",
      "Epoch 20/150\n",
      "1125/1125 [==============================] - 41s 36ms/step - loss: 3.2226 - accuracy: 0.5364 - val_loss: 3.3362 - val_accuracy: 0.5345\n",
      "Epoch 21/150\n",
      "1125/1125 [==============================] - 41s 36ms/step - loss: 3.1964 - accuracy: 0.5385 - val_loss: 3.3184 - val_accuracy: 0.5351\n",
      "Epoch 22/150\n",
      "1125/1125 [==============================] - 41s 37ms/step - loss: 3.1744 - accuracy: 0.5386 - val_loss: 3.2998 - val_accuracy: 0.5369\n",
      "Epoch 23/150\n",
      "1125/1125 [==============================] - 41s 36ms/step - loss: 3.1521 - accuracy: 0.5403 - val_loss: 3.2941 - val_accuracy: 0.5387\n",
      "Epoch 24/150\n",
      "1125/1125 [==============================] - 41s 36ms/step - loss: 3.1290 - accuracy: 0.5414 - val_loss: 3.2702 - val_accuracy: 0.5381\n",
      "Epoch 25/150\n",
      "1125/1125 [==============================] - 41s 37ms/step - loss: 3.1150 - accuracy: 0.5417 - val_loss: 3.2579 - val_accuracy: 0.5400\n",
      "Epoch 26/150\n",
      "1125/1125 [==============================] - 41s 36ms/step - loss: 3.0922 - accuracy: 0.5429 - val_loss: 3.2384 - val_accuracy: 0.5402\n",
      "Epoch 27/150\n",
      "1125/1125 [==============================] - 41s 36ms/step - loss: 3.0800 - accuracy: 0.5436 - val_loss: 3.2274 - val_accuracy: 0.5411\n",
      "Epoch 28/150\n",
      "1125/1125 [==============================] - 40s 36ms/step - loss: 3.0633 - accuracy: 0.5439 - val_loss: 3.2133 - val_accuracy: 0.5415\n",
      "Epoch 29/150\n",
      "1125/1125 [==============================] - 41s 36ms/step - loss: 3.0373 - accuracy: 0.5458 - val_loss: 3.2050 - val_accuracy: 0.5433\n",
      "Epoch 30/150\n",
      "1125/1125 [==============================] - 41s 36ms/step - loss: 3.0238 - accuracy: 0.5463 - val_loss: 3.1893 - val_accuracy: 0.5436\n",
      "Epoch 31/150\n",
      "1125/1125 [==============================] - 41s 36ms/step - loss: 3.0174 - accuracy: 0.5465 - val_loss: 3.1778 - val_accuracy: 0.5440\n",
      "Epoch 32/150\n",
      "1125/1125 [==============================] - 41s 36ms/step - loss: 2.9969 - accuracy: 0.5475 - val_loss: 3.1703 - val_accuracy: 0.5430\n",
      "Epoch 33/150\n",
      "1125/1125 [==============================] - 40s 36ms/step - loss: 2.9826 - accuracy: 0.5480 - val_loss: 3.1603 - val_accuracy: 0.5450\n",
      "Epoch 34/150\n",
      "1125/1125 [==============================] - 41s 36ms/step - loss: 2.9706 - accuracy: 0.5485 - val_loss: 3.1469 - val_accuracy: 0.5453\n",
      "Epoch 35/150\n",
      "1125/1125 [==============================] - 41s 37ms/step - loss: 2.9578 - accuracy: 0.5487 - val_loss: 3.1362 - val_accuracy: 0.5463\n",
      "Epoch 36/150\n",
      "1125/1125 [==============================] - 41s 36ms/step - loss: 2.9437 - accuracy: 0.5502 - val_loss: 3.1376 - val_accuracy: 0.5475\n",
      "Epoch 37/150\n",
      "1125/1125 [==============================] - 41s 36ms/step - loss: 2.9465 - accuracy: 0.5484 - val_loss: 3.1188 - val_accuracy: 0.5467\n",
      "Epoch 38/150\n",
      "1125/1125 [==============================] - 41s 36ms/step - loss: 2.9213 - accuracy: 0.5508 - val_loss: 3.1148 - val_accuracy: 0.5483\n",
      "Epoch 39/150\n",
      "1125/1125 [==============================] - 41s 36ms/step - loss: 2.9114 - accuracy: 0.5512 - val_loss: 3.1172 - val_accuracy: 0.5488\n",
      "Epoch 40/150\n",
      "1125/1125 [==============================] - 40s 36ms/step - loss: 2.8937 - accuracy: 0.5523 - val_loss: 3.0994 - val_accuracy: 0.5491\n",
      "Epoch 41/150\n",
      "1125/1125 [==============================] - 41s 36ms/step - loss: 2.8928 - accuracy: 0.5516 - val_loss: 3.0902 - val_accuracy: 0.5487\n",
      "Epoch 42/150\n",
      "1125/1125 [==============================] - 41s 36ms/step - loss: 2.8916 - accuracy: 0.5510 - val_loss: 3.0817 - val_accuracy: 0.5494\n",
      "Epoch 43/150\n",
      "1125/1125 [==============================] - 40s 36ms/step - loss: 2.8742 - accuracy: 0.5527 - val_loss: 3.0777 - val_accuracy: 0.5497\n",
      "Epoch 44/150\n",
      "1125/1125 [==============================] - 41s 36ms/step - loss: 2.8664 - accuracy: 0.5524 - val_loss: 3.0810 - val_accuracy: 0.5503\n",
      "Epoch 45/150\n",
      "1125/1125 [==============================] - 40s 36ms/step - loss: 2.8554 - accuracy: 0.5535 - val_loss: 3.0668 - val_accuracy: 0.5505\n",
      "Epoch 46/150\n",
      "1125/1125 [==============================] - 40s 36ms/step - loss: 2.8434 - accuracy: 0.5540 - val_loss: 3.0586 - val_accuracy: 0.5508\n",
      "Epoch 47/150\n",
      "1125/1125 [==============================] - 40s 36ms/step - loss: 2.8413 - accuracy: 0.5534 - val_loss: 3.0586 - val_accuracy: 0.5511\n",
      "Epoch 48/150\n",
      "1125/1125 [==============================] - 40s 36ms/step - loss: 2.8395 - accuracy: 0.5531 - val_loss: 3.0549 - val_accuracy: 0.5517\n",
      "Epoch 49/150\n",
      "1125/1125 [==============================] - 40s 36ms/step - loss: 2.8250 - accuracy: 0.5551 - val_loss: 3.0434 - val_accuracy: 0.5517\n",
      "Epoch 50/150\n",
      "1125/1125 [==============================] - 41s 36ms/step - loss: 2.8197 - accuracy: 0.5545 - val_loss: 3.0371 - val_accuracy: 0.5512\n",
      "Epoch 51/150\n",
      "1125/1125 [==============================] - 40s 36ms/step - loss: 2.8079 - accuracy: 0.5555 - val_loss: 3.0394 - val_accuracy: 0.5526\n",
      "Epoch 52/150\n",
      "1125/1125 [==============================] - 41s 36ms/step - loss: 2.7966 - accuracy: 0.5569 - val_loss: 3.0323 - val_accuracy: 0.5532\n",
      "Epoch 53/150\n",
      "1125/1125 [==============================] - 41s 36ms/step - loss: 2.7943 - accuracy: 0.5564 - val_loss: 3.0254 - val_accuracy: 0.5525\n",
      "Epoch 54/150\n",
      "1125/1125 [==============================] - 40s 36ms/step - loss: 2.7884 - accuracy: 0.5563 - val_loss: 3.0193 - val_accuracy: 0.5523\n",
      "Epoch 55/150\n",
      "1125/1125 [==============================] - 41s 36ms/step - loss: 2.7871 - accuracy: 0.5560 - val_loss: 3.0158 - val_accuracy: 0.5531\n",
      "Epoch 56/150\n",
      "1125/1125 [==============================] - 41s 36ms/step - loss: 2.7836 - accuracy: 0.5560 - val_loss: 3.0140 - val_accuracy: 0.5531\n",
      "Epoch 57/150\n",
      "1125/1125 [==============================] - 40s 36ms/step - loss: 2.7734 - accuracy: 0.5569 - val_loss: 3.0119 - val_accuracy: 0.5525\n",
      "Epoch 58/150\n",
      "1125/1125 [==============================] - 40s 36ms/step - loss: 2.7689 - accuracy: 0.5568 - val_loss: 3.0087 - val_accuracy: 0.5540\n",
      "Epoch 59/150\n",
      "1125/1125 [==============================] - 41s 36ms/step - loss: 2.7659 - accuracy: 0.5570 - val_loss: 3.0035 - val_accuracy: 0.5537\n",
      "Epoch 60/150\n",
      "1125/1125 [==============================] - 40s 36ms/step - loss: 2.7598 - accuracy: 0.5576 - val_loss: 2.9962 - val_accuracy: 0.5540\n",
      "Epoch 61/150\n",
      "1125/1125 [==============================] - 40s 36ms/step - loss: 2.7563 - accuracy: 0.5570 - val_loss: 2.9960 - val_accuracy: 0.5537\n",
      "Epoch 62/150\n",
      "1125/1125 [==============================] - 41s 36ms/step - loss: 2.7492 - accuracy: 0.5580 - val_loss: 2.9932 - val_accuracy: 0.5543\n",
      "Epoch 63/150\n",
      "1125/1125 [==============================] - 40s 36ms/step - loss: 2.7303 - accuracy: 0.5597 - val_loss: 2.9935 - val_accuracy: 0.5548\n",
      "Epoch 64/150\n",
      "1125/1125 [==============================] - 40s 36ms/step - loss: 2.7364 - accuracy: 0.5589 - val_loss: 2.9889 - val_accuracy: 0.5552\n",
      "Epoch 65/150\n",
      "1125/1125 [==============================] - 40s 36ms/step - loss: 2.7388 - accuracy: 0.5582 - val_loss: 2.9857 - val_accuracy: 0.5548\n",
      "Epoch 66/150\n",
      "1125/1125 [==============================] - 40s 36ms/step - loss: 2.7229 - accuracy: 0.5591 - val_loss: 2.9792 - val_accuracy: 0.5546\n",
      "Epoch 67/150\n",
      "1125/1125 [==============================] - 41s 36ms/step - loss: 2.7322 - accuracy: 0.5581 - val_loss: 2.9822 - val_accuracy: 0.5550\n",
      "Epoch 68/150\n",
      "1125/1125 [==============================] - 40s 36ms/step - loss: 2.7211 - accuracy: 0.5586 - val_loss: 2.9789 - val_accuracy: 0.5554\n",
      "Epoch 69/150\n",
      "1125/1125 [==============================] - 40s 36ms/step - loss: 2.7149 - accuracy: 0.5593 - val_loss: 2.9757 - val_accuracy: 0.5553\n",
      "Epoch 70/150\n",
      "1125/1125 [==============================] - 40s 36ms/step - loss: 2.7086 - accuracy: 0.5600 - val_loss: 2.9728 - val_accuracy: 0.5547\n",
      "Epoch 71/150\n",
      "1125/1125 [==============================] - 41s 36ms/step - loss: 2.7052 - accuracy: 0.5604 - val_loss: 2.9782 - val_accuracy: 0.5559\n",
      "Epoch 72/150\n",
      "1125/1125 [==============================] - 41s 37ms/step - loss: 2.7026 - accuracy: 0.5594 - val_loss: 2.9696 - val_accuracy: 0.5559\n",
      "Epoch 73/150\n",
      "1125/1125 [==============================] - 41s 36ms/step - loss: 2.7022 - accuracy: 0.5594 - val_loss: 2.9685 - val_accuracy: 0.5553\n",
      "Epoch 74/150\n",
      "1125/1125 [==============================] - 41s 36ms/step - loss: 2.6904 - accuracy: 0.5610 - val_loss: 2.9637 - val_accuracy: 0.5555\n",
      "Epoch 75/150\n",
      "1125/1125 [==============================] - 41s 37ms/step - loss: 2.6920 - accuracy: 0.5601 - val_loss: 2.9632 - val_accuracy: 0.5557\n",
      "Epoch 76/150\n",
      "1125/1125 [==============================] - 41s 36ms/step - loss: 2.6909 - accuracy: 0.5600 - val_loss: 2.9660 - val_accuracy: 0.5561\n",
      "Epoch 77/150\n",
      "1125/1125 [==============================] - 41s 36ms/step - loss: 2.6908 - accuracy: 0.5601 - val_loss: 2.9653 - val_accuracy: 0.5563\n",
      "Epoch 78/150\n",
      "1125/1125 [==============================] - 41s 36ms/step - loss: 2.6850 - accuracy: 0.5603 - val_loss: 2.9561 - val_accuracy: 0.5561\n",
      "Epoch 79/150\n",
      "1125/1125 [==============================] - 41s 36ms/step - loss: 2.6723 - accuracy: 0.5622 - val_loss: 2.9617 - val_accuracy: 0.5564\n",
      "Epoch 80/150\n",
      "1125/1125 [==============================] - 41s 36ms/step - loss: 2.6736 - accuracy: 0.5618 - val_loss: 2.9553 - val_accuracy: 0.5568\n",
      "Epoch 81/150\n",
      "1125/1125 [==============================] - 41s 36ms/step - loss: 2.6737 - accuracy: 0.5611 - val_loss: 2.9545 - val_accuracy: 0.5563\n",
      "Epoch 82/150\n",
      "1125/1125 [==============================] - 41s 36ms/step - loss: 2.6785 - accuracy: 0.5598 - val_loss: 2.9559 - val_accuracy: 0.5572\n",
      "Epoch 83/150\n",
      "1125/1125 [==============================] - 41s 36ms/step - loss: 2.6675 - accuracy: 0.5616 - val_loss: 2.9469 - val_accuracy: 0.5563\n",
      "Epoch 84/150\n",
      "1125/1125 [==============================] - 41s 36ms/step - loss: 2.6612 - accuracy: 0.5621 - val_loss: 2.9474 - val_accuracy: 0.5561\n",
      "Epoch 85/150\n",
      "1125/1125 [==============================] - 41s 36ms/step - loss: 2.6676 - accuracy: 0.5607 - val_loss: 2.9480 - val_accuracy: 0.5571\n",
      "Epoch 86/150\n",
      "1125/1125 [==============================] - 41s 36ms/step - loss: 2.6600 - accuracy: 0.5619 - val_loss: 2.9442 - val_accuracy: 0.5572\n",
      "Epoch 87/150\n",
      "1125/1125 [==============================] - 41s 36ms/step - loss: 2.6537 - accuracy: 0.5620 - val_loss: 2.9448 - val_accuracy: 0.5570\n",
      "Epoch 88/150\n",
      "1125/1125 [==============================] - 41s 36ms/step - loss: 2.6538 - accuracy: 0.5621 - val_loss: 2.9397 - val_accuracy: 0.5572\n",
      "Epoch 89/150\n",
      "1125/1125 [==============================] - 41s 36ms/step - loss: 2.6480 - accuracy: 0.5624 - val_loss: 2.9379 - val_accuracy: 0.5583\n",
      "Epoch 90/150\n",
      "1125/1125 [==============================] - 41s 36ms/step - loss: 2.6465 - accuracy: 0.5625 - val_loss: 2.9408 - val_accuracy: 0.5575\n",
      "Epoch 91/150\n",
      "1125/1125 [==============================] - 41s 36ms/step - loss: 2.6491 - accuracy: 0.5617 - val_loss: 2.9437 - val_accuracy: 0.5573\n",
      "Epoch 92/150\n",
      "1125/1125 [==============================] - 41s 36ms/step - loss: 2.6469 - accuracy: 0.5617 - val_loss: 2.9382 - val_accuracy: 0.5571\n",
      "Epoch 93/150\n",
      "1125/1125 [==============================] - 41s 36ms/step - loss: 2.6368 - accuracy: 0.5623 - val_loss: 2.9426 - val_accuracy: 0.5588\n",
      "Epoch 94/150\n",
      "1125/1125 [==============================] - 41s 36ms/step - loss: 2.6353 - accuracy: 0.5627 - val_loss: 2.9340 - val_accuracy: 0.5579\n",
      "Epoch 95/150\n",
      "1125/1125 [==============================] - 41s 36ms/step - loss: 2.6311 - accuracy: 0.5636 - val_loss: 2.9332 - val_accuracy: 0.5583\n",
      "Epoch 96/150\n",
      "1125/1125 [==============================] - 41s 36ms/step - loss: 2.6339 - accuracy: 0.5623 - val_loss: 2.9326 - val_accuracy: 0.5572\n",
      "Epoch 97/150\n",
      "1125/1125 [==============================] - 41s 36ms/step - loss: 2.6270 - accuracy: 0.5631 - val_loss: 2.9337 - val_accuracy: 0.5576\n",
      "Epoch 98/150\n",
      "1125/1125 [==============================] - 41s 36ms/step - loss: 2.6314 - accuracy: 0.5626 - val_loss: 2.9297 - val_accuracy: 0.5576\n",
      "Epoch 99/150\n",
      "1125/1125 [==============================] - 41s 36ms/step - loss: 2.6243 - accuracy: 0.5633 - val_loss: 2.9312 - val_accuracy: 0.5574\n",
      "Epoch 100/150\n",
      "1125/1125 [==============================] - 41s 37ms/step - loss: 2.6266 - accuracy: 0.5628 - val_loss: 2.9351 - val_accuracy: 0.5590\n",
      "Epoch 101/150\n",
      "1125/1125 [==============================] - 41s 37ms/step - loss: 2.6287 - accuracy: 0.5630 - val_loss: 2.9280 - val_accuracy: 0.5591\n",
      "Epoch 102/150\n",
      "1125/1125 [==============================] - 41s 37ms/step - loss: 2.6224 - accuracy: 0.5633 - val_loss: 2.9265 - val_accuracy: 0.5591\n",
      "Epoch 103/150\n",
      "1125/1125 [==============================] - 41s 36ms/step - loss: 2.6243 - accuracy: 0.5626 - val_loss: 2.9302 - val_accuracy: 0.5589\n",
      "Epoch 104/150\n",
      "1125/1125 [==============================] - 41s 37ms/step - loss: 2.6195 - accuracy: 0.5631 - val_loss: 2.9357 - val_accuracy: 0.5598\n",
      "Epoch 105/150\n",
      "1125/1125 [==============================] - 41s 36ms/step - loss: 2.6015 - accuracy: 0.5656 - val_loss: 2.9252 - val_accuracy: 0.5592\n",
      "Epoch 106/150\n",
      "1125/1125 [==============================] - 40s 36ms/step - loss: 2.6110 - accuracy: 0.5641 - val_loss: 2.9288 - val_accuracy: 0.5589\n",
      "Epoch 107/150\n",
      "1125/1125 [==============================] - 41s 36ms/step - loss: 2.6041 - accuracy: 0.5644 - val_loss: 2.9227 - val_accuracy: 0.5578\n",
      "Epoch 108/150\n",
      "1125/1125 [==============================] - 41s 36ms/step - loss: 2.6118 - accuracy: 0.5632 - val_loss: 2.9219 - val_accuracy: 0.5590\n",
      "Epoch 109/150\n",
      "1125/1125 [==============================] - 40s 36ms/step - loss: 2.6014 - accuracy: 0.5648 - val_loss: 2.9234 - val_accuracy: 0.5583\n",
      "Epoch 110/150\n",
      "1125/1125 [==============================] - 41s 36ms/step - loss: 2.6082 - accuracy: 0.5633 - val_loss: 2.9240 - val_accuracy: 0.5588\n",
      "Epoch 111/150\n",
      "1125/1125 [==============================] - 40s 36ms/step - loss: 2.6035 - accuracy: 0.5640 - val_loss: 2.9205 - val_accuracy: 0.5585\n",
      "Epoch 112/150\n",
      "1125/1125 [==============================] - 40s 36ms/step - loss: 2.5954 - accuracy: 0.5647 - val_loss: 2.9204 - val_accuracy: 0.5578\n",
      "Epoch 113/150\n",
      "1125/1125 [==============================] - 41s 36ms/step - loss: 2.5906 - accuracy: 0.5655 - val_loss: 2.9205 - val_accuracy: 0.5589\n",
      "Epoch 114/150\n",
      "1125/1125 [==============================] - 41s 36ms/step - loss: 2.5973 - accuracy: 0.5643 - val_loss: 2.9240 - val_accuracy: 0.5591\n",
      "Epoch 115/150\n",
      "1125/1125 [==============================] - 42s 37ms/step - loss: 2.5982 - accuracy: 0.5645 - val_loss: 2.9199 - val_accuracy: 0.5591\n",
      "Epoch 116/150\n",
      "1125/1125 [==============================] - 42s 37ms/step - loss: 2.5873 - accuracy: 0.5656 - val_loss: 2.9194 - val_accuracy: 0.5591\n",
      "Epoch 117/150\n",
      "1125/1125 [==============================] - 42s 37ms/step - loss: 2.5949 - accuracy: 0.5638 - val_loss: 2.9167 - val_accuracy: 0.5595\n",
      "Epoch 118/150\n",
      "1125/1125 [==============================] - 41s 37ms/step - loss: 2.5951 - accuracy: 0.5630 - val_loss: 2.9177 - val_accuracy: 0.5591\n",
      "Epoch 119/150\n",
      "1125/1125 [==============================] - 41s 37ms/step - loss: 2.5909 - accuracy: 0.5645 - val_loss: 2.9193 - val_accuracy: 0.5599\n",
      "Epoch 120/150\n",
      "1125/1125 [==============================] - 41s 36ms/step - loss: 2.5856 - accuracy: 0.5647 - val_loss: 2.9134 - val_accuracy: 0.5595\n",
      "Epoch 121/150\n",
      "1125/1125 [==============================] - 41s 36ms/step - loss: 2.5838 - accuracy: 0.5656 - val_loss: 2.9188 - val_accuracy: 0.5585\n",
      "Epoch 122/150\n",
      "1125/1125 [==============================] - 41s 37ms/step - loss: 2.5771 - accuracy: 0.5664 - val_loss: 2.9163 - val_accuracy: 0.5584\n",
      "Epoch 123/150\n",
      "1125/1125 [==============================] - 41s 36ms/step - loss: 2.5758 - accuracy: 0.5658 - val_loss: 2.9185 - val_accuracy: 0.5596\n",
      "Epoch 124/150\n",
      "1125/1125 [==============================] - 40s 36ms/step - loss: 2.5791 - accuracy: 0.5651 - val_loss: 2.9144 - val_accuracy: 0.5600\n",
      "Epoch 125/150\n",
      "1125/1125 [==============================] - 41s 36ms/step - loss: 2.5777 - accuracy: 0.5650 - val_loss: 2.9259 - val_accuracy: 0.5598\n",
      "Epoch 126/150\n",
      "1125/1125 [==============================] - 41s 36ms/step - loss: 2.5782 - accuracy: 0.5651 - val_loss: 2.9136 - val_accuracy: 0.5588\n",
      "Epoch 127/150\n",
      "1125/1125 [==============================] - 42s 37ms/step - loss: 2.5740 - accuracy: 0.5655 - val_loss: 2.9118 - val_accuracy: 0.5592\n",
      "Epoch 128/150\n",
      "1125/1125 [==============================] - 42s 37ms/step - loss: 2.5678 - accuracy: 0.5659 - val_loss: 2.9117 - val_accuracy: 0.5594\n",
      "Epoch 129/150\n",
      "1125/1125 [==============================] - 40s 35ms/step - loss: 2.5672 - accuracy: 0.5662 - val_loss: 2.9086 - val_accuracy: 0.5591\n",
      "Epoch 130/150\n",
      "1125/1125 [==============================] - 39s 35ms/step - loss: 2.5739 - accuracy: 0.5652 - val_loss: 2.9177 - val_accuracy: 0.5599\n",
      "Epoch 131/150\n",
      "1125/1125 [==============================] - 39s 35ms/step - loss: 2.5748 - accuracy: 0.5652 - val_loss: 2.9054 - val_accuracy: 0.5595\n",
      "Epoch 132/150\n",
      "1125/1125 [==============================] - 39s 35ms/step - loss: 2.5585 - accuracy: 0.5670 - val_loss: 2.9084 - val_accuracy: 0.5591\n",
      "Epoch 133/150\n",
      "1125/1125 [==============================] - 40s 35ms/step - loss: 2.5653 - accuracy: 0.5659 - val_loss: 2.9130 - val_accuracy: 0.5602\n",
      "Epoch 134/150\n",
      "1125/1125 [==============================] - 39s 35ms/step - loss: 2.5613 - accuracy: 0.5665 - val_loss: 2.9040 - val_accuracy: 0.5599\n",
      "Epoch 135/150\n",
      "1125/1125 [==============================] - 39s 35ms/step - loss: 2.5703 - accuracy: 0.5653 - val_loss: 2.9161 - val_accuracy: 0.5606\n",
      "Epoch 136/150\n",
      "1125/1125 [==============================] - 39s 35ms/step - loss: 2.5645 - accuracy: 0.5666 - val_loss: 2.9106 - val_accuracy: 0.5606\n",
      "Epoch 137/150\n",
      "1125/1125 [==============================] - 39s 35ms/step - loss: 2.5577 - accuracy: 0.5666 - val_loss: 2.9069 - val_accuracy: 0.5599\n",
      "Epoch 138/150\n",
      "1125/1125 [==============================] - 39s 35ms/step - loss: 2.5607 - accuracy: 0.5659 - val_loss: 2.9069 - val_accuracy: 0.5598\n",
      "Epoch 139/150\n",
      "1125/1125 [==============================] - 39s 35ms/step - loss: 2.5537 - accuracy: 0.5670 - val_loss: 2.9028 - val_accuracy: 0.5599\n",
      "Epoch 140/150\n",
      "1125/1125 [==============================] - 39s 35ms/step - loss: 2.5546 - accuracy: 0.5668 - val_loss: 2.9092 - val_accuracy: 0.5593\n",
      "Epoch 141/150\n",
      "1125/1125 [==============================] - 39s 35ms/step - loss: 2.5530 - accuracy: 0.5666 - val_loss: 2.9043 - val_accuracy: 0.5605\n",
      "Epoch 142/150\n",
      "1125/1125 [==============================] - 39s 35ms/step - loss: 2.5527 - accuracy: 0.5668 - val_loss: 2.9057 - val_accuracy: 0.5599\n",
      "Epoch 143/150\n",
      "1125/1125 [==============================] - 39s 35ms/step - loss: 2.5489 - accuracy: 0.5670 - val_loss: 2.9078 - val_accuracy: 0.5605\n",
      "Epoch 144/150\n",
      "1125/1125 [==============================] - 39s 35ms/step - loss: 2.5463 - accuracy: 0.5671 - val_loss: 2.9036 - val_accuracy: 0.5603\n",
      "Epoch 145/150\n",
      "1125/1125 [==============================] - 39s 35ms/step - loss: 2.5541 - accuracy: 0.5660 - val_loss: 2.9018 - val_accuracy: 0.5606\n",
      "Epoch 146/150\n",
      "1125/1125 [==============================] - 39s 35ms/step - loss: 2.5530 - accuracy: 0.5662 - val_loss: 2.9030 - val_accuracy: 0.5602\n",
      "Epoch 147/150\n",
      "1125/1125 [==============================] - 39s 35ms/step - loss: 2.5451 - accuracy: 0.5665 - val_loss: 2.9025 - val_accuracy: 0.5595\n",
      "Epoch 148/150\n",
      "1125/1125 [==============================] - 39s 35ms/step - loss: 2.5531 - accuracy: 0.5664 - val_loss: 2.9070 - val_accuracy: 0.5595\n",
      "Epoch 149/150\n",
      "1125/1125 [==============================] - 39s 35ms/step - loss: 2.5459 - accuracy: 0.5668 - val_loss: 2.9043 - val_accuracy: 0.5607\n",
      "Epoch 150/150\n",
      "1125/1125 [==============================] - 39s 35ms/step - loss: 2.5441 - accuracy: 0.5671 - val_loss: 2.9058 - val_accuracy: 0.5609\n"
     ]
    }
   ],
   "source": [
    "#train model\n",
    "german_GRU_history = german_GRU_model.fit(german_encoder_sequences_padded, german_english_sequences_padded, epochs=150, batch_size=64, validation_split=0.2)"
   ]
  },
  {
   "cell_type": "markdown",
   "metadata": {
    "id": "yIVvAXQLwNTV"
   },
   "source": [
    "<h3> German GRU Model Observations <h3>"
   ]
  },
  {
   "cell_type": "markdown",
   "metadata": {},
   "source": [
    "This model has performed similar to the LSTM german model that we trained earlier.\n",
    "\n",
    "Interestingly the GRU models seems to process much faster than the LSTM model. This type of model might be more efficient"
   ]
  },
  {
   "cell_type": "code",
   "execution_count": 92,
   "metadata": {
    "id": "kfFzFDENhlRh"
   },
   "outputs": [],
   "source": [
    "# german_GRU_model.save('/german_GRU_model.h5')"
   ]
  },
  {
   "cell_type": "code",
   "execution_count": 93,
   "metadata": {
    "colab": {
     "base_uri": "https://localhost:8080/",
     "height": 265
    },
    "id": "NceVA0sMcmFG",
    "outputId": "5dd80b33-acd8-4330-b63d-e89487c5f384"
   },
   "outputs": [
    {
     "data": {
      "image/png": "[encoded data removed]",
      "text/plain": [
       "<Figure size 432x288 with 1 Axes>"
      ]
     },
     "metadata": {
      "needs_background": "light",
      "tags": []
     },
     "output_type": "display_data"
    }
   ],
   "source": [
    "#plot losses by epoch\n",
    "plt.plot(german_GRU_history.history['loss'])\n",
    "plt.plot(german_GRU_history.history['val_loss'])\n",
    "plt.legend(['train', 'validation'])\n",
    "plt.show()"
   ]
  },
  {
   "cell_type": "code",
   "execution_count": 94,
   "metadata": {
    "colab": {
     "base_uri": "https://localhost:8080/",
     "height": 269
    },
    "id": "ZI8xIkzscpuv",
    "outputId": "59698490-d39f-47c9-9ab2-b74439cc3790"
   },
   "outputs": [
    {
     "data": {
      "image/png": "[encoded data removed]",
      "text/plain": [
       "<Figure size 432x288 with 1 Axes>"
      ]
     },
     "metadata": {
      "needs_background": "light",
      "tags": []
     },
     "output_type": "display_data"
    }
   ],
   "source": [
    "#plot accuracy by epoch\n",
    "plt.plot(german_GRU_history.history['accuracy'])\n",
    "plt.plot(german_GRU_history.history['val_accuracy'])\n",
    "plt.legend(['train', 'validation'])\n",
    "plt.show()"
   ]
  },
  {
   "cell_type": "markdown",
   "metadata": {
    "id": "m55R4FxVdETL"
   },
   "source": [
    "<h1> German GRU Model Evaluation <h1>"
   ]
  },
  {
   "cell_type": "code",
   "execution_count": 95,
   "metadata": {
    "id": "NrKPSlBgdOic"
   },
   "outputs": [],
   "source": [
    "#loop to iterate through predicted sequences and append predicted vs actual phrases\n",
    "german_GRU_predicted, german_actual = [], []\n",
    "\n",
    "index = 0\n",
    "while index < len(german_test_seq_pad):\n",
    "  result = logits_to_sentence(german_GRU_model.predict(german_test_seq_pad[index:index+1])[0], german_english_vocab)\n",
    "  german_GRU_predicted.append(result)\n",
    "  german_actual.append(german_english_test[index])\n",
    "  index += 1"
   ]
  },
  {
   "cell_type": "code",
   "execution_count": 96,
   "metadata": {
    "id": "FwM54Ft0dudR"
   },
   "outputs": [],
   "source": [
    "#define empty result dataframe\n",
    "german_GRU_result_df = pd.DataFrame(columns=['actual', 'prediction', 'bleu_score', 'F_score'])"
   ]
  },
  {
   "cell_type": "code",
   "execution_count": null,
   "metadata": {
    "id": "-ZaC4b2bd0K2"
   },
   "outputs": [],
   "source": [
    "#loop through predicted and actual phrases and score using bleu and f-score\n",
    "for i in range(len(german_GRU_predicted)):\n",
    "  bleu_comparison = sentence_bleu(german_actual[i], german_GRU_predicted[i], weights=(1, 0, 0, 0))\n",
    "  chrF_comparison = sentence_chrf(german_actual[i], german_GRU_predicted[i], max_len=1)\n",
    "  temp_df = pd.DataFrame({'actual':german_actual[i], 'prediction':german_GRU_predicted[i], 'bleu_score':bleu_comparison, 'F_score':chrF_comparison}, index=[0])\n",
    "  german_GRU_result_df = german_GRU_result_df.append(temp_df)"
   ]
  },
  {
   "cell_type": "code",
   "execution_count": 122,
   "metadata": {
    "colab": {
     "base_uri": "https://localhost:8080/",
     "height": 419
    },
    "id": "zllI8RsSeGTh",
    "outputId": "94fe2b87-dd32-49b3-957a-71dcafd584a5"
   },
   "outputs": [
    {
     "data": {
      "text/html": [
       "<div>\n",
       "<style scoped>\n",
       "    .dataframe tbody tr th:only-of-type {\n",
       "        vertical-align: middle;\n",
       "    }\n",
       "\n",
       "    .dataframe tbody tr th {\n",
       "        vertical-align: top;\n",
       "    }\n",
       "\n",
       "    .dataframe thead th {\n",
       "        text-align: right;\n",
       "    }\n",
       "</style>\n",
       "<table border=\"1\" class=\"dataframe\">\n",
       "  <thead>\n",
       "    <tr style=\"text-align: right;\">\n",
       "      <th></th>\n",
       "      <th>actual</th>\n",
       "      <th>prediction</th>\n",
       "      <th>bleu_score</th>\n",
       "      <th>F_score</th>\n",
       "    </tr>\n",
       "  </thead>\n",
       "  <tbody>\n",
       "    <tr>\n",
       "      <th>0</th>\n",
       "      <td>a bill to curb sexual and gender-based violence is also in the pipeline</td>\n",
       "      <td>his was dick dick and and and and and</td>\n",
       "      <td>0.173913</td>\n",
       "      <td>0.481752</td>\n",
       "    </tr>\n",
       "    <tr>\n",
       "      <th>0</th>\n",
       "      <td>but our work is far from finished</td>\n",
       "      <td>but our is is not</td>\n",
       "      <td>0.300000</td>\n",
       "      <td>0.550459</td>\n",
       "    </tr>\n",
       "    <tr>\n",
       "      <th>0</th>\n",
       "      <td>nevertheless the future looks bright</td>\n",
       "      <td>but yet the is is</td>\n",
       "      <td>0.266667</td>\n",
       "      <td>0.423729</td>\n",
       "    </tr>\n",
       "    <tr>\n",
       "      <th>0</th>\n",
       "      <td>among the acu’s key areas of work is gender equity</td>\n",
       "      <td>the the the is equality critical</td>\n",
       "      <td>0.272727</td>\n",
       "      <td>0.526316</td>\n",
       "    </tr>\n",
       "    <tr>\n",
       "      <th>0</th>\n",
       "      <td>a zero-carbon economy is within reach</td>\n",
       "      <td>a economy is is</td>\n",
       "      <td>0.344828</td>\n",
       "      <td>0.441989</td>\n",
       "    </tr>\n",
       "    <tr>\n",
       "      <th>...</th>\n",
       "      <td>...</td>\n",
       "      <td>...</td>\n",
       "      <td>...</td>\n",
       "      <td>...</td>\n",
       "    </tr>\n",
       "    <tr>\n",
       "      <th>0</th>\n",
       "      <td>until now populism has been the missing note in african political culture</td>\n",
       "      <td>thus then result has has a a political political political culture</td>\n",
       "      <td>0.191781</td>\n",
       "      <td>0.767123</td>\n",
       "    </tr>\n",
       "    <tr>\n",
       "      <th>0</th>\n",
       "      <td>dismissing complaints zuma insists “there’s no cloud around me”</td>\n",
       "      <td>such claims claims and and and and</td>\n",
       "      <td>0.244444</td>\n",
       "      <td>0.506536</td>\n",
       "    </tr>\n",
       "    <tr>\n",
       "      <th>0</th>\n",
       "      <td>the stakes for africa are enormous</td>\n",
       "      <td>in africa is is is</td>\n",
       "      <td>0.258065</td>\n",
       "      <td>0.445104</td>\n",
       "    </tr>\n",
       "    <tr>\n",
       "      <th>0</th>\n",
       "      <td>zuma senses the urgency of the situation</td>\n",
       "      <td>is the the the urgency</td>\n",
       "      <td>0.342857</td>\n",
       "      <td>0.582278</td>\n",
       "    </tr>\n",
       "    <tr>\n",
       "      <th>0</th>\n",
       "      <td>their achievement remains one of the greatest in recent history</td>\n",
       "      <td>this is the of of of of of of</td>\n",
       "      <td>0.210526</td>\n",
       "      <td>0.363636</td>\n",
       "    </tr>\n",
       "  </tbody>\n",
       "</table>\n",
       "<p>100 rows × 4 columns</p>\n",
       "</div>"
      ],
      "text/plain": [
       "                                                                       actual  ...   F_score\n",
       "0     a bill to curb sexual and gender-based violence is also in the pipeline  ...  0.481752\n",
       "0                                           but our work is far from finished  ...  0.550459\n",
       "0                                        nevertheless the future looks bright  ...  0.423729\n",
       "0                          among the acu’s key areas of work is gender equity  ...  0.526316\n",
       "0                                       a zero-carbon economy is within reach  ...  0.441989\n",
       "..                                                                        ...  ...       ...\n",
       "0   until now populism has been the missing note in african political culture  ...  0.767123\n",
       "0             dismissing complaints zuma insists “there’s no cloud around me”  ...  0.506536\n",
       "0                                          the stakes for africa are enormous  ...  0.445104\n",
       "0                                    zuma senses the urgency of the situation  ...  0.582278\n",
       "0             their achievement remains one of the greatest in recent history  ...  0.363636\n",
       "\n",
       "[100 rows x 4 columns]"
      ]
     },
     "execution_count": 122,
     "metadata": {
      "tags": []
     },
     "output_type": "execute_result"
    }
   ],
   "source": [
    "german_GRU_result_df"
   ]
  },
  {
   "cell_type": "code",
   "execution_count": 105,
   "metadata": {
    "colab": {
     "base_uri": "https://localhost:8080/"
    },
    "id": "x3O_H5s8eH9G",
    "outputId": "0498d058-ba72-4a74-8a55-f31b50c2dc26"
   },
   "outputs": [
    {
     "name": "stdout",
     "output_type": "stream",
     "text": [
      "Mean BLEU-1 score:  0.23717072295532915\n",
      "Mean character F-score:  0.49427236027878524\n"
     ]
    }
   ],
   "source": [
    "print('Mean BLEU-1 score: ', german_GRU_result_df['bleu_score'].mean())\n",
    "print('Mean character F-score: ', german_GRU_result_df['F_score'].mean())"
   ]
  },
  {
   "cell_type": "markdown",
   "metadata": {
    "id": "HtioVYAXen07"
   },
   "source": [
    "<h1> Chinese GRU Model Training <h1>"
   ]
  },
  {
   "cell_type": "markdown",
   "metadata": {},
   "source": [
    "Same hyperparameters as the other models"
   ]
  },
  {
   "cell_type": "code",
   "execution_count": 106,
   "metadata": {
    "id": "0hLnkaZ2eqwB"
   },
   "outputs": [],
   "source": [
    "#define model architecture\n",
    "chinese_GRU_model = Sequential()\n",
    "chinese_GRU_model.add(Embedding(10000, 64, input_length=chinese_encoder_size, mask_zero=True))\n",
    "chinese_GRU_model.add(GRU(64, dropout=0.5))\n",
    "chinese_GRU_model.add(RepeatVector(chinese_english_size))\n",
    "chinese_GRU_model.add(GRU(64, return_sequences=True))\n",
    "chinese_GRU_model.add(TimeDistributed(Dense(10000, activation='softmax')))"
   ]
  },
  {
   "cell_type": "code",
   "execution_count": 107,
   "metadata": {
    "id": "nEuMARIpe60A"
   },
   "outputs": [],
   "source": [
    "#define optimizer, loss function, and metric\n",
    "adam = Adam(lr=0.001)\n",
    "chinese_GRU_model.compile(optimizer=adam, loss='sparse_categorical_crossentropy', metrics=['accuracy'])"
   ]
  },
  {
   "cell_type": "code",
   "execution_count": 108,
   "metadata": {
    "colab": {
     "base_uri": "https://localhost:8080/"
    },
    "id": "4NOG4hQSe_by",
    "outputId": "baeb1e48-f404-472d-aa8a-4cb428806df6"
   },
   "outputs": [
    {
     "name": "stdout",
     "output_type": "stream",
     "text": [
      "Epoch 1/150\n",
      "351/351 [==============================] - 17s 37ms/step - loss: 5.0603 - accuracy: 0.6178 - val_loss: 2.6700 - val_accuracy: 0.6413\n",
      "Epoch 2/150\n",
      "351/351 [==============================] - 12s 34ms/step - loss: 2.6802 - accuracy: 0.6443 - val_loss: 2.6039 - val_accuracy: 0.6580\n",
      "Epoch 3/150\n",
      "351/351 [==============================] - 12s 34ms/step - loss: 2.6350 - accuracy: 0.6526 - val_loss: 2.5701 - val_accuracy: 0.6586\n",
      "Epoch 4/150\n",
      "351/351 [==============================] - 12s 34ms/step - loss: 2.6004 - accuracy: 0.6530 - val_loss: 2.5620 - val_accuracy: 0.6604\n",
      "Epoch 5/150\n",
      "351/351 [==============================] - 12s 34ms/step - loss: 2.5751 - accuracy: 0.6559 - val_loss: 2.5544 - val_accuracy: 0.6621\n",
      "Epoch 6/150\n",
      "351/351 [==============================] - 12s 34ms/step - loss: 2.5713 - accuracy: 0.6559 - val_loss: 2.5491 - val_accuracy: 0.6628\n",
      "Epoch 7/150\n",
      "351/351 [==============================] - 12s 34ms/step - loss: 2.5572 - accuracy: 0.6568 - val_loss: 2.5361 - val_accuracy: 0.6629\n",
      "Epoch 8/150\n",
      "351/351 [==============================] - 12s 34ms/step - loss: 2.5256 - accuracy: 0.6590 - val_loss: 2.5276 - val_accuracy: 0.6629\n",
      "Epoch 9/150\n",
      "351/351 [==============================] - 12s 34ms/step - loss: 2.5119 - accuracy: 0.6589 - val_loss: 2.5227 - val_accuracy: 0.6629\n",
      "Epoch 10/150\n",
      "351/351 [==============================] - 12s 34ms/step - loss: 2.4994 - accuracy: 0.6587 - val_loss: 2.5214 - val_accuracy: 0.6626\n",
      "Epoch 11/150\n",
      "351/351 [==============================] - 12s 34ms/step - loss: 2.4974 - accuracy: 0.6586 - val_loss: 2.5195 - val_accuracy: 0.6630\n",
      "Epoch 12/150\n",
      "351/351 [==============================] - 12s 34ms/step - loss: 2.4790 - accuracy: 0.6593 - val_loss: 2.5151 - val_accuracy: 0.6635\n",
      "Epoch 13/150\n",
      "351/351 [==============================] - 12s 34ms/step - loss: 2.4647 - accuracy: 0.6611 - val_loss: 2.5018 - val_accuracy: 0.6658\n",
      "Epoch 14/150\n",
      "351/351 [==============================] - 12s 34ms/step - loss: 2.4567 - accuracy: 0.6628 - val_loss: 2.4958 - val_accuracy: 0.6673\n",
      "Epoch 15/150\n",
      "351/351 [==============================] - 12s 34ms/step - loss: 2.4489 - accuracy: 0.6631 - val_loss: 2.4840 - val_accuracy: 0.6685\n",
      "Epoch 16/150\n",
      "351/351 [==============================] - 12s 34ms/step - loss: 2.4318 - accuracy: 0.6631 - val_loss: 2.4796 - val_accuracy: 0.6687\n",
      "Epoch 17/150\n",
      "351/351 [==============================] - 12s 34ms/step - loss: 2.4216 - accuracy: 0.6637 - val_loss: 2.4773 - val_accuracy: 0.6691\n",
      "Epoch 18/150\n",
      "351/351 [==============================] - 12s 34ms/step - loss: 2.4006 - accuracy: 0.6655 - val_loss: 2.4731 - val_accuracy: 0.6691\n",
      "Epoch 19/150\n",
      "351/351 [==============================] - 12s 34ms/step - loss: 2.4111 - accuracy: 0.6633 - val_loss: 2.4773 - val_accuracy: 0.6689\n",
      "Epoch 20/150\n",
      "351/351 [==============================] - 12s 34ms/step - loss: 2.3928 - accuracy: 0.6648 - val_loss: 2.4701 - val_accuracy: 0.6691\n",
      "Epoch 21/150\n",
      "351/351 [==============================] - 12s 34ms/step - loss: 2.3791 - accuracy: 0.6658 - val_loss: 2.4683 - val_accuracy: 0.6697\n",
      "Epoch 22/150\n",
      "351/351 [==============================] - 12s 34ms/step - loss: 2.3619 - accuracy: 0.6663 - val_loss: 2.4645 - val_accuracy: 0.6696\n",
      "Epoch 23/150\n",
      "351/351 [==============================] - 12s 34ms/step - loss: 2.3572 - accuracy: 0.6666 - val_loss: 2.4661 - val_accuracy: 0.6687\n",
      "Epoch 24/150\n",
      "351/351 [==============================] - 12s 34ms/step - loss: 2.3607 - accuracy: 0.6651 - val_loss: 2.4587 - val_accuracy: 0.6698\n",
      "Epoch 25/150\n",
      "351/351 [==============================] - 12s 34ms/step - loss: 2.3466 - accuracy: 0.6660 - val_loss: 2.4563 - val_accuracy: 0.6698\n",
      "Epoch 26/150\n",
      "351/351 [==============================] - 12s 34ms/step - loss: 2.3306 - accuracy: 0.6672 - val_loss: 2.4538 - val_accuracy: 0.6702\n",
      "Epoch 27/150\n",
      "351/351 [==============================] - 12s 34ms/step - loss: 2.3225 - accuracy: 0.6676 - val_loss: 2.4515 - val_accuracy: 0.6702\n",
      "Epoch 28/150\n",
      "351/351 [==============================] - 12s 34ms/step - loss: 2.3011 - accuracy: 0.6696 - val_loss: 2.4526 - val_accuracy: 0.6704\n",
      "Epoch 29/150\n",
      "351/351 [==============================] - 12s 34ms/step - loss: 2.2978 - accuracy: 0.6690 - val_loss: 2.4517 - val_accuracy: 0.6697\n",
      "Epoch 30/150\n",
      "351/351 [==============================] - 12s 34ms/step - loss: 2.2973 - accuracy: 0.6681 - val_loss: 2.4486 - val_accuracy: 0.6706\n",
      "Epoch 31/150\n",
      "351/351 [==============================] - 12s 34ms/step - loss: 2.2905 - accuracy: 0.6678 - val_loss: 2.4475 - val_accuracy: 0.6708\n",
      "Epoch 32/150\n",
      "351/351 [==============================] - 12s 34ms/step - loss: 2.2737 - accuracy: 0.6693 - val_loss: 2.4466 - val_accuracy: 0.6705\n",
      "Epoch 33/150\n",
      "351/351 [==============================] - 12s 34ms/step - loss: 2.2666 - accuracy: 0.6697 - val_loss: 2.4435 - val_accuracy: 0.6706\n",
      "Epoch 34/150\n",
      "351/351 [==============================] - 12s 34ms/step - loss: 2.2569 - accuracy: 0.6696 - val_loss: 2.4403 - val_accuracy: 0.6716\n",
      "Epoch 35/150\n",
      "351/351 [==============================] - 12s 34ms/step - loss: 2.2449 - accuracy: 0.6711 - val_loss: 2.4347 - val_accuracy: 0.6720\n",
      "Epoch 36/150\n",
      "351/351 [==============================] - 12s 34ms/step - loss: 2.2432 - accuracy: 0.6702 - val_loss: 2.4350 - val_accuracy: 0.6726\n",
      "Epoch 37/150\n",
      "351/351 [==============================] - 12s 34ms/step - loss: 2.2297 - accuracy: 0.6710 - val_loss: 2.4347 - val_accuracy: 0.6721\n",
      "Epoch 38/150\n",
      "351/351 [==============================] - 12s 34ms/step - loss: 2.2169 - accuracy: 0.6718 - val_loss: 2.4317 - val_accuracy: 0.6719\n",
      "Epoch 39/150\n",
      "351/351 [==============================] - 12s 34ms/step - loss: 2.2002 - accuracy: 0.6730 - val_loss: 2.4311 - val_accuracy: 0.6713\n",
      "Epoch 40/150\n",
      "351/351 [==============================] - 12s 34ms/step - loss: 2.2082 - accuracy: 0.6709 - val_loss: 2.4267 - val_accuracy: 0.6727\n",
      "Epoch 41/150\n",
      "351/351 [==============================] - 12s 34ms/step - loss: 2.1938 - accuracy: 0.6720 - val_loss: 2.4240 - val_accuracy: 0.6722\n",
      "Epoch 42/150\n",
      "351/351 [==============================] - 12s 34ms/step - loss: 2.1841 - accuracy: 0.6718 - val_loss: 2.4195 - val_accuracy: 0.6745\n",
      "Epoch 43/150\n",
      "351/351 [==============================] - 12s 34ms/step - loss: 2.1853 - accuracy: 0.6714 - val_loss: 2.4197 - val_accuracy: 0.6737\n",
      "Epoch 44/150\n",
      "351/351 [==============================] - 12s 34ms/step - loss: 2.1687 - accuracy: 0.6723 - val_loss: 2.4138 - val_accuracy: 0.6744\n",
      "Epoch 45/150\n",
      "351/351 [==============================] - 12s 34ms/step - loss: 2.1582 - accuracy: 0.6725 - val_loss: 2.4157 - val_accuracy: 0.6742\n",
      "Epoch 46/150\n",
      "351/351 [==============================] - 12s 34ms/step - loss: 2.1331 - accuracy: 0.6748 - val_loss: 2.4126 - val_accuracy: 0.6744\n",
      "Epoch 47/150\n",
      "351/351 [==============================] - 12s 34ms/step - loss: 2.1380 - accuracy: 0.6732 - val_loss: 2.4111 - val_accuracy: 0.6741\n",
      "Epoch 48/150\n",
      "351/351 [==============================] - 12s 34ms/step - loss: 2.1317 - accuracy: 0.6731 - val_loss: 2.4129 - val_accuracy: 0.6754\n",
      "Epoch 49/150\n",
      "351/351 [==============================] - 12s 34ms/step - loss: 2.1196 - accuracy: 0.6743 - val_loss: 2.4098 - val_accuracy: 0.6735\n",
      "Epoch 50/150\n",
      "351/351 [==============================] - 12s 34ms/step - loss: 2.1169 - accuracy: 0.6738 - val_loss: 2.4084 - val_accuracy: 0.6739\n",
      "Epoch 51/150\n",
      "351/351 [==============================] - 12s 34ms/step - loss: 2.1049 - accuracy: 0.6737 - val_loss: 2.4066 - val_accuracy: 0.6747\n",
      "Epoch 52/150\n",
      "351/351 [==============================] - 12s 34ms/step - loss: 2.0969 - accuracy: 0.6743 - val_loss: 2.4035 - val_accuracy: 0.6751\n",
      "Epoch 53/150\n",
      "351/351 [==============================] - 12s 34ms/step - loss: 2.0938 - accuracy: 0.6738 - val_loss: 2.4031 - val_accuracy: 0.6744\n",
      "Epoch 54/150\n",
      "351/351 [==============================] - 12s 34ms/step - loss: 2.0855 - accuracy: 0.6749 - val_loss: 2.4045 - val_accuracy: 0.6741\n",
      "Epoch 55/150\n",
      "351/351 [==============================] - 12s 34ms/step - loss: 2.0838 - accuracy: 0.6734 - val_loss: 2.4018 - val_accuracy: 0.6749\n",
      "Epoch 56/150\n",
      "351/351 [==============================] - 12s 34ms/step - loss: 2.0644 - accuracy: 0.6759 - val_loss: 2.4044 - val_accuracy: 0.6741\n",
      "Epoch 57/150\n",
      "351/351 [==============================] - 12s 34ms/step - loss: 2.0569 - accuracy: 0.6759 - val_loss: 2.4010 - val_accuracy: 0.6749\n",
      "Epoch 58/150\n",
      "351/351 [==============================] - 12s 34ms/step - loss: 2.0503 - accuracy: 0.6763 - val_loss: 2.4066 - val_accuracy: 0.6754\n",
      "Epoch 59/150\n",
      "351/351 [==============================] - 12s 34ms/step - loss: 2.0498 - accuracy: 0.6750 - val_loss: 2.4017 - val_accuracy: 0.6741\n",
      "Epoch 60/150\n",
      "351/351 [==============================] - 12s 34ms/step - loss: 2.0321 - accuracy: 0.6766 - val_loss: 2.3999 - val_accuracy: 0.6752\n",
      "Epoch 61/150\n",
      "351/351 [==============================] - 12s 34ms/step - loss: 2.0283 - accuracy: 0.6766 - val_loss: 2.4003 - val_accuracy: 0.6754\n",
      "Epoch 62/150\n",
      "351/351 [==============================] - 12s 34ms/step - loss: 2.0232 - accuracy: 0.6772 - val_loss: 2.4003 - val_accuracy: 0.6739\n",
      "Epoch 63/150\n",
      "351/351 [==============================] - 12s 34ms/step - loss: 2.0280 - accuracy: 0.6753 - val_loss: 2.4026 - val_accuracy: 0.6755\n",
      "Epoch 64/150\n",
      "351/351 [==============================] - 12s 34ms/step - loss: 2.0135 - accuracy: 0.6769 - val_loss: 2.3979 - val_accuracy: 0.6755\n",
      "Epoch 65/150\n",
      "351/351 [==============================] - 12s 34ms/step - loss: 2.0129 - accuracy: 0.6761 - val_loss: 2.4017 - val_accuracy: 0.6763\n",
      "Epoch 66/150\n",
      "351/351 [==============================] - 12s 34ms/step - loss: 2.0042 - accuracy: 0.6765 - val_loss: 2.3999 - val_accuracy: 0.6749\n",
      "Epoch 67/150\n",
      "351/351 [==============================] - 12s 34ms/step - loss: 1.9854 - accuracy: 0.6786 - val_loss: 2.3973 - val_accuracy: 0.6751\n",
      "Epoch 68/150\n",
      "351/351 [==============================] - 12s 34ms/step - loss: 1.9873 - accuracy: 0.6776 - val_loss: 2.3941 - val_accuracy: 0.6752\n",
      "Epoch 69/150\n",
      "351/351 [==============================] - 12s 34ms/step - loss: 1.9770 - accuracy: 0.6791 - val_loss: 2.3947 - val_accuracy: 0.6760\n",
      "Epoch 70/150\n",
      "351/351 [==============================] - 12s 34ms/step - loss: 1.9729 - accuracy: 0.6789 - val_loss: 2.3933 - val_accuracy: 0.6746\n",
      "Epoch 71/150\n",
      "351/351 [==============================] - 12s 34ms/step - loss: 1.9761 - accuracy: 0.6779 - val_loss: 2.3972 - val_accuracy: 0.6742\n",
      "Epoch 72/150\n",
      "351/351 [==============================] - 12s 34ms/step - loss: 1.9793 - accuracy: 0.6771 - val_loss: 2.3922 - val_accuracy: 0.6748\n",
      "Epoch 73/150\n",
      "351/351 [==============================] - 12s 34ms/step - loss: 1.9598 - accuracy: 0.6785 - val_loss: 2.3921 - val_accuracy: 0.6754\n",
      "Epoch 74/150\n",
      "351/351 [==============================] - 12s 34ms/step - loss: 1.9590 - accuracy: 0.6777 - val_loss: 2.3936 - val_accuracy: 0.6751\n",
      "Epoch 75/150\n",
      "351/351 [==============================] - 12s 34ms/step - loss: 1.9447 - accuracy: 0.6798 - val_loss: 2.3945 - val_accuracy: 0.6743\n",
      "Epoch 76/150\n",
      "351/351 [==============================] - 12s 34ms/step - loss: 1.9476 - accuracy: 0.6788 - val_loss: 2.3927 - val_accuracy: 0.6755\n",
      "Epoch 77/150\n",
      "351/351 [==============================] - 12s 34ms/step - loss: 1.9418 - accuracy: 0.6790 - val_loss: 2.3920 - val_accuracy: 0.6759\n",
      "Epoch 78/150\n",
      "351/351 [==============================] - 12s 34ms/step - loss: 1.9332 - accuracy: 0.6793 - val_loss: 2.3841 - val_accuracy: 0.6766\n",
      "Epoch 79/150\n",
      "351/351 [==============================] - 12s 34ms/step - loss: 1.9326 - accuracy: 0.6791 - val_loss: 2.3906 - val_accuracy: 0.6742\n",
      "Epoch 80/150\n",
      "351/351 [==============================] - 12s 34ms/step - loss: 1.9263 - accuracy: 0.6792 - val_loss: 2.3865 - val_accuracy: 0.6762\n",
      "Epoch 81/150\n",
      "351/351 [==============================] - 12s 34ms/step - loss: 1.9159 - accuracy: 0.6802 - val_loss: 2.3875 - val_accuracy: 0.6758\n",
      "Epoch 82/150\n",
      "351/351 [==============================] - 12s 34ms/step - loss: 1.9184 - accuracy: 0.6796 - val_loss: 2.3858 - val_accuracy: 0.6770\n",
      "Epoch 83/150\n",
      "351/351 [==============================] - 12s 34ms/step - loss: 1.9019 - accuracy: 0.6807 - val_loss: 2.3865 - val_accuracy: 0.6766\n",
      "Epoch 84/150\n",
      "351/351 [==============================] - 12s 34ms/step - loss: 1.8937 - accuracy: 0.6819 - val_loss: 2.3849 - val_accuracy: 0.6772\n",
      "Epoch 85/150\n",
      "351/351 [==============================] - 12s 34ms/step - loss: 1.8803 - accuracy: 0.6835 - val_loss: 2.3843 - val_accuracy: 0.6753\n",
      "Epoch 86/150\n",
      "351/351 [==============================] - 12s 34ms/step - loss: 1.8845 - accuracy: 0.6823 - val_loss: 2.3851 - val_accuracy: 0.6766\n",
      "Epoch 87/150\n",
      "351/351 [==============================] - 12s 34ms/step - loss: 1.8702 - accuracy: 0.6837 - val_loss: 2.3838 - val_accuracy: 0.6758\n",
      "Epoch 88/150\n",
      "351/351 [==============================] - 12s 34ms/step - loss: 1.8808 - accuracy: 0.6818 - val_loss: 2.3828 - val_accuracy: 0.6763\n",
      "Epoch 89/150\n",
      "351/351 [==============================] - 12s 34ms/step - loss: 1.8753 - accuracy: 0.6818 - val_loss: 2.3830 - val_accuracy: 0.6765\n",
      "Epoch 90/150\n",
      "351/351 [==============================] - 12s 34ms/step - loss: 1.8673 - accuracy: 0.6832 - val_loss: 2.3878 - val_accuracy: 0.6762\n",
      "Epoch 91/150\n",
      "351/351 [==============================] - 12s 34ms/step - loss: 1.8667 - accuracy: 0.6820 - val_loss: 2.3814 - val_accuracy: 0.6758\n",
      "Epoch 92/150\n",
      "351/351 [==============================] - 12s 34ms/step - loss: 1.8623 - accuracy: 0.6827 - val_loss: 2.3831 - val_accuracy: 0.6758\n",
      "Epoch 93/150\n",
      "351/351 [==============================] - 12s 34ms/step - loss: 1.8683 - accuracy: 0.6813 - val_loss: 2.3788 - val_accuracy: 0.6762\n",
      "Epoch 94/150\n",
      "351/351 [==============================] - 12s 34ms/step - loss: 1.8485 - accuracy: 0.6835 - val_loss: 2.3796 - val_accuracy: 0.6757\n",
      "Epoch 95/150\n",
      "351/351 [==============================] - 12s 34ms/step - loss: 1.8498 - accuracy: 0.6823 - val_loss: 2.3837 - val_accuracy: 0.6759\n",
      "Epoch 96/150\n",
      "351/351 [==============================] - 12s 34ms/step - loss: 1.8384 - accuracy: 0.6844 - val_loss: 2.3802 - val_accuracy: 0.6770\n",
      "Epoch 97/150\n",
      "351/351 [==============================] - 12s 34ms/step - loss: 1.8450 - accuracy: 0.6826 - val_loss: 2.3798 - val_accuracy: 0.6765\n",
      "Epoch 98/150\n",
      "351/351 [==============================] - 12s 34ms/step - loss: 1.8282 - accuracy: 0.6840 - val_loss: 2.3810 - val_accuracy: 0.6757\n",
      "Epoch 99/150\n",
      "351/351 [==============================] - 12s 34ms/step - loss: 1.8347 - accuracy: 0.6838 - val_loss: 2.3773 - val_accuracy: 0.6770\n",
      "Epoch 100/150\n",
      "351/351 [==============================] - 12s 34ms/step - loss: 1.8332 - accuracy: 0.6827 - val_loss: 2.3792 - val_accuracy: 0.6773\n",
      "Epoch 101/150\n",
      "351/351 [==============================] - 12s 34ms/step - loss: 1.8278 - accuracy: 0.6839 - val_loss: 2.3785 - val_accuracy: 0.6763\n",
      "Epoch 102/150\n",
      "351/351 [==============================] - 12s 34ms/step - loss: 1.8194 - accuracy: 0.6844 - val_loss: 2.3773 - val_accuracy: 0.6773\n",
      "Epoch 103/150\n",
      "351/351 [==============================] - 12s 34ms/step - loss: 1.8094 - accuracy: 0.6859 - val_loss: 2.3804 - val_accuracy: 0.6758\n",
      "Epoch 104/150\n",
      "351/351 [==============================] - 12s 34ms/step - loss: 1.8132 - accuracy: 0.6840 - val_loss: 2.3768 - val_accuracy: 0.6769\n",
      "Epoch 105/150\n",
      "351/351 [==============================] - 12s 34ms/step - loss: 1.8098 - accuracy: 0.6853 - val_loss: 2.3771 - val_accuracy: 0.6760\n",
      "Epoch 106/150\n",
      "351/351 [==============================] - 12s 35ms/step - loss: 1.8044 - accuracy: 0.6849 - val_loss: 2.3763 - val_accuracy: 0.6771\n",
      "Epoch 107/150\n",
      "351/351 [==============================] - 12s 34ms/step - loss: 1.7969 - accuracy: 0.6858 - val_loss: 2.3764 - val_accuracy: 0.6760\n",
      "Epoch 108/150\n",
      "351/351 [==============================] - 12s 34ms/step - loss: 1.7977 - accuracy: 0.6857 - val_loss: 2.3749 - val_accuracy: 0.6777\n",
      "Epoch 109/150\n",
      "351/351 [==============================] - 12s 34ms/step - loss: 1.8023 - accuracy: 0.6846 - val_loss: 2.3763 - val_accuracy: 0.6771\n",
      "Epoch 110/150\n",
      "351/351 [==============================] - 12s 34ms/step - loss: 1.7955 - accuracy: 0.6850 - val_loss: 2.3740 - val_accuracy: 0.6777\n",
      "Epoch 111/150\n",
      "351/351 [==============================] - 12s 34ms/step - loss: 1.7846 - accuracy: 0.6863 - val_loss: 2.3737 - val_accuracy: 0.6771\n",
      "Epoch 112/150\n",
      "351/351 [==============================] - 12s 34ms/step - loss: 1.7829 - accuracy: 0.6864 - val_loss: 2.3789 - val_accuracy: 0.6764\n",
      "Epoch 113/150\n",
      "351/351 [==============================] - 12s 34ms/step - loss: 1.7725 - accuracy: 0.6877 - val_loss: 2.3735 - val_accuracy: 0.6775\n",
      "Epoch 114/150\n",
      "351/351 [==============================] - 12s 34ms/step - loss: 1.7800 - accuracy: 0.6862 - val_loss: 2.3734 - val_accuracy: 0.6774\n",
      "Epoch 115/150\n",
      "351/351 [==============================] - 12s 34ms/step - loss: 1.7680 - accuracy: 0.6886 - val_loss: 2.3714 - val_accuracy: 0.6788\n",
      "Epoch 116/150\n",
      "351/351 [==============================] - 12s 34ms/step - loss: 1.7566 - accuracy: 0.6889 - val_loss: 2.3755 - val_accuracy: 0.6777\n",
      "Epoch 117/150\n",
      "351/351 [==============================] - 12s 34ms/step - loss: 1.7539 - accuracy: 0.6890 - val_loss: 2.3710 - val_accuracy: 0.6778\n",
      "Epoch 118/150\n",
      "351/351 [==============================] - 12s 34ms/step - loss: 1.7574 - accuracy: 0.6884 - val_loss: 2.3721 - val_accuracy: 0.6773\n",
      "Epoch 119/150\n",
      "351/351 [==============================] - 12s 34ms/step - loss: 1.7486 - accuracy: 0.6897 - val_loss: 2.3701 - val_accuracy: 0.6780\n",
      "Epoch 120/150\n",
      "351/351 [==============================] - 12s 34ms/step - loss: 1.7562 - accuracy: 0.6878 - val_loss: 2.3681 - val_accuracy: 0.6769\n",
      "Epoch 121/150\n",
      "351/351 [==============================] - 12s 34ms/step - loss: 1.7464 - accuracy: 0.6898 - val_loss: 2.3727 - val_accuracy: 0.6773\n",
      "Epoch 122/150\n",
      "351/351 [==============================] - 12s 34ms/step - loss: 1.7338 - accuracy: 0.6914 - val_loss: 2.3700 - val_accuracy: 0.6775\n",
      "Epoch 123/150\n",
      "351/351 [==============================] - 12s 34ms/step - loss: 1.7351 - accuracy: 0.6907 - val_loss: 2.3701 - val_accuracy: 0.6777\n",
      "Epoch 124/150\n",
      "351/351 [==============================] - 12s 34ms/step - loss: 1.7374 - accuracy: 0.6901 - val_loss: 2.3693 - val_accuracy: 0.6774\n",
      "Epoch 125/150\n",
      "351/351 [==============================] - 12s 34ms/step - loss: 1.7428 - accuracy: 0.6894 - val_loss: 2.3736 - val_accuracy: 0.6767\n",
      "Epoch 126/150\n",
      "351/351 [==============================] - 12s 34ms/step - loss: 1.7349 - accuracy: 0.6896 - val_loss: 2.3713 - val_accuracy: 0.6779\n",
      "Epoch 127/150\n",
      "351/351 [==============================] - 12s 34ms/step - loss: 1.7282 - accuracy: 0.6913 - val_loss: 2.3745 - val_accuracy: 0.6774\n",
      "Epoch 128/150\n",
      "351/351 [==============================] - 12s 34ms/step - loss: 1.7270 - accuracy: 0.6903 - val_loss: 2.3693 - val_accuracy: 0.6782\n",
      "Epoch 129/150\n",
      "351/351 [==============================] - 12s 34ms/step - loss: 1.7251 - accuracy: 0.6908 - val_loss: 2.3637 - val_accuracy: 0.6780\n",
      "Epoch 130/150\n",
      "351/351 [==============================] - 12s 34ms/step - loss: 1.7184 - accuracy: 0.6917 - val_loss: 2.3702 - val_accuracy: 0.6780\n",
      "Epoch 131/150\n",
      "351/351 [==============================] - 12s 34ms/step - loss: 1.7221 - accuracy: 0.6910 - val_loss: 2.3715 - val_accuracy: 0.6778\n",
      "Epoch 132/150\n",
      "351/351 [==============================] - 12s 34ms/step - loss: 1.7039 - accuracy: 0.6932 - val_loss: 2.3715 - val_accuracy: 0.6789\n",
      "Epoch 133/150\n",
      "351/351 [==============================] - 12s 34ms/step - loss: 1.7106 - accuracy: 0.6920 - val_loss: 2.3728 - val_accuracy: 0.6771\n",
      "Epoch 134/150\n",
      "351/351 [==============================] - 12s 34ms/step - loss: 1.7052 - accuracy: 0.6926 - val_loss: 2.3672 - val_accuracy: 0.6792\n",
      "Epoch 135/150\n",
      "351/351 [==============================] - 12s 34ms/step - loss: 1.7022 - accuracy: 0.6924 - val_loss: 2.3748 - val_accuracy: 0.6777\n",
      "Epoch 136/150\n",
      "351/351 [==============================] - 12s 34ms/step - loss: 1.7009 - accuracy: 0.6941 - val_loss: 2.3707 - val_accuracy: 0.6778\n",
      "Epoch 137/150\n",
      "351/351 [==============================] - 12s 34ms/step - loss: 1.6952 - accuracy: 0.6936 - val_loss: 2.3706 - val_accuracy: 0.6774\n",
      "Epoch 138/150\n",
      "351/351 [==============================] - 12s 34ms/step - loss: 1.7012 - accuracy: 0.6929 - val_loss: 2.3714 - val_accuracy: 0.6776\n",
      "Epoch 139/150\n",
      "351/351 [==============================] - 12s 34ms/step - loss: 1.6836 - accuracy: 0.6958 - val_loss: 2.3718 - val_accuracy: 0.6787\n",
      "Epoch 140/150\n",
      "351/351 [==============================] - 12s 34ms/step - loss: 1.6931 - accuracy: 0.6933 - val_loss: 2.3714 - val_accuracy: 0.6782\n",
      "Epoch 141/150\n",
      "351/351 [==============================] - 12s 34ms/step - loss: 1.6976 - accuracy: 0.6932 - val_loss: 2.3685 - val_accuracy: 0.6782\n",
      "Epoch 142/150\n",
      "351/351 [==============================] - 12s 34ms/step - loss: 1.6729 - accuracy: 0.6964 - val_loss: 2.3698 - val_accuracy: 0.6776\n",
      "Epoch 143/150\n",
      "351/351 [==============================] - 12s 34ms/step - loss: 1.6793 - accuracy: 0.6953 - val_loss: 2.3687 - val_accuracy: 0.6786\n",
      "Epoch 144/150\n",
      "351/351 [==============================] - 12s 34ms/step - loss: 1.6750 - accuracy: 0.6957 - val_loss: 2.3736 - val_accuracy: 0.6772\n",
      "Epoch 145/150\n",
      "351/351 [==============================] - 12s 34ms/step - loss: 1.6837 - accuracy: 0.6938 - val_loss: 2.3702 - val_accuracy: 0.6779\n",
      "Epoch 146/150\n",
      "351/351 [==============================] - 12s 34ms/step - loss: 1.6839 - accuracy: 0.6936 - val_loss: 2.3691 - val_accuracy: 0.6782\n",
      "Epoch 147/150\n",
      "351/351 [==============================] - 12s 34ms/step - loss: 1.6772 - accuracy: 0.6952 - val_loss: 2.3700 - val_accuracy: 0.6781\n",
      "Epoch 148/150\n",
      "351/351 [==============================] - 12s 34ms/step - loss: 1.6770 - accuracy: 0.6951 - val_loss: 2.3662 - val_accuracy: 0.6782\n",
      "Epoch 149/150\n",
      "351/351 [==============================] - 12s 34ms/step - loss: 1.6691 - accuracy: 0.6959 - val_loss: 2.3715 - val_accuracy: 0.6775\n",
      "Epoch 150/150\n",
      "351/351 [==============================] - 12s 34ms/step - loss: 1.6657 - accuracy: 0.6972 - val_loss: 2.3715 - val_accuracy: 0.6767\n"
     ]
    }
   ],
   "source": [
    "#train model\n",
    "chinese_GRU_history = chinese_GRU_model.fit(chinese_encoder_sequences_padded, chinese_english_sequences_padded, epochs=150, batch_size=64, validation_split=0.2)"
   ]
  },
  {
   "cell_type": "code",
   "execution_count": 109,
   "metadata": {
    "id": "32e5J_n5h0Ad"
   },
   "outputs": [],
   "source": [
    "# chinese_GRU_model.save('/chinese_GRU_model.h5')"
   ]
  },
  {
   "cell_type": "code",
   "execution_count": 110,
   "metadata": {
    "colab": {
     "base_uri": "https://localhost:8080/",
     "height": 265
    },
    "id": "TfVHW0p9fFLs",
    "outputId": "0a109011-eef0-4870-b9c2-25b3cf4d0388"
   },
   "outputs": [
    {
     "data": {
      "image/png": "[encoded data removed]",
      "text/plain": [
       "<Figure size 432x288 with 1 Axes>"
      ]
     },
     "metadata": {
      "needs_background": "light",
      "tags": []
     },
     "output_type": "display_data"
    }
   ],
   "source": [
    "#plot losses by epoch\n",
    "plt.plot(chinese_GRU_history.history['loss'])\n",
    "plt.plot(chinese_GRU_history.history['val_loss'])\n",
    "plt.legend(['train', 'validation'])\n",
    "plt.show()"
   ]
  },
  {
   "cell_type": "code",
   "execution_count": 111,
   "metadata": {
    "colab": {
     "base_uri": "https://localhost:8080/",
     "height": 265
    },
    "id": "2E4Qu_3_fI_H",
    "outputId": "93604035-a9c6-4f5a-e6c7-229975d85501"
   },
   "outputs": [
    {
     "data": {
      "image/png": "[encoded data removed]",
      "text/plain": [
       "<Figure size 432x288 with 1 Axes>"
      ]
     },
     "metadata": {
      "needs_background": "light",
      "tags": []
     },
     "output_type": "display_data"
    }
   ],
   "source": [
    "#plot accuracy by epoch\n",
    "plt.plot(chinese_GRU_history.history['accuracy'])\n",
    "plt.plot(chinese_GRU_history.history['val_accuracy'])\n",
    "plt.legend(['train', 'validation'])\n",
    "plt.show()"
   ]
  },
  {
   "cell_type": "markdown",
   "metadata": {
    "id": "ctr6LzoYfN3z"
   },
   "source": [
    "<h1> Chinese GRU Model Evaluation <h1>"
   ]
  },
  {
   "cell_type": "code",
   "execution_count": 112,
   "metadata": {
    "id": "WNrAmViVfQR1"
   },
   "outputs": [],
   "source": [
    "#iterate through test sequences and append predicted vs actual\n",
    "chinese_GRU_predicted, chinese_actual = [], []\n",
    "\n",
    "index = 0\n",
    "while index < len(chinese_test_seq_pad):\n",
    "  result = logits_to_sentence(chinese_GRU_model.predict(chinese_test_seq_pad[index:index+1])[0], chinese_english_vocab)\n",
    "  chinese_GRU_predicted.append(result)\n",
    "  chinese_actual.append(chinese_english_test[index])\n",
    "  index += 1"
   ]
  },
  {
   "cell_type": "code",
   "execution_count": null,
   "metadata": {
    "id": "azBd91dKfihD"
   },
   "outputs": [],
   "source": [
    "#score each prediction using evaluation metrics\n",
    "chinese_GRU_result_df = pd.DataFrame(columns=['actual', 'prediction', 'bleu_score', 'F_score'])\n",
    "\n",
    "for i in range(len(chinese_GRU_predicted)):\n",
    "  comparison = sentence_bleu(chinese_actual[i], chinese_GRU_predicted[i], weights=(1, 0, 0, 0))\n",
    "  chrF_comparison = sentence_chrf(chinese_actual[i], chinese_GRU_predicted[i], max_len=1)\n",
    "  temp_df = pd.DataFrame({'actual':chinese_actual[i], 'prediction':chinese_GRU_predicted[i], 'bleu_score':comparison, 'F_score':chrF_comparison}, index=[0])\n",
    "  chinese_GRU_result_df = chinese_GRU_result_df.append(temp_df)"
   ]
  },
  {
   "cell_type": "code",
   "execution_count": 116,
   "metadata": {
    "colab": {
     "base_uri": "https://localhost:8080/",
     "height": 419
    },
    "id": "XIPYf6FOftJu",
    "outputId": "1b02004b-27ab-414b-b1bd-fd528023deb0"
   },
   "outputs": [
    {
     "data": {
      "text/html": [
       "<div>\n",
       "<style scoped>\n",
       "    .dataframe tbody tr th:only-of-type {\n",
       "        vertical-align: middle;\n",
       "    }\n",
       "\n",
       "    .dataframe tbody tr th {\n",
       "        vertical-align: top;\n",
       "    }\n",
       "\n",
       "    .dataframe thead th {\n",
       "        text-align: right;\n",
       "    }\n",
       "</style>\n",
       "<table border=\"1\" class=\"dataframe\">\n",
       "  <thead>\n",
       "    <tr style=\"text-align: right;\">\n",
       "      <th></th>\n",
       "      <th>actual</th>\n",
       "      <th>prediction</th>\n",
       "      <th>bleu_score</th>\n",
       "      <th>F_score</th>\n",
       "    </tr>\n",
       "  </thead>\n",
       "  <tbody>\n",
       "    <tr>\n",
       "      <th>0</th>\n",
       "      <td>china and the us need to talk</td>\n",
       "      <td>china is needs us to</td>\n",
       "      <td>0.375000</td>\n",
       "      <td>0.648464</td>\n",
       "    </tr>\n",
       "    <tr>\n",
       "      <th>0</th>\n",
       "      <td>asia-pacific leaders must shake off their complacency</td>\n",
       "      <td>the is must to to to</td>\n",
       "      <td>0.290323</td>\n",
       "      <td>0.334646</td>\n",
       "    </tr>\n",
       "    <tr>\n",
       "      <th>0</th>\n",
       "      <td>the politics of young and old</td>\n",
       "      <td>the war of of war cold</td>\n",
       "      <td>0.303030</td>\n",
       "      <td>0.544218</td>\n",
       "    </tr>\n",
       "    <tr>\n",
       "      <th>0</th>\n",
       "      <td>fifty years ago people spoke often and loudly of a “generation gap”</td>\n",
       "      <td>the are have the have to the of</td>\n",
       "      <td>0.175000</td>\n",
       "      <td>0.419907</td>\n",
       "    </tr>\n",
       "    <tr>\n",
       "      <th>0</th>\n",
       "      <td>start with climate change</td>\n",
       "      <td>the is change change</td>\n",
       "      <td>0.303030</td>\n",
       "      <td>0.620155</td>\n",
       "    </tr>\n",
       "    <tr>\n",
       "      <th>...</th>\n",
       "      <td>...</td>\n",
       "      <td>...</td>\n",
       "      <td>...</td>\n",
       "      <td>...</td>\n",
       "    </tr>\n",
       "    <tr>\n",
       "      <th>0</th>\n",
       "      <td>in any case let’s wish him luck</td>\n",
       "      <td>so they they he he</td>\n",
       "      <td>0.200000</td>\n",
       "      <td>0.420712</td>\n",
       "    </tr>\n",
       "    <tr>\n",
       "      <th>0</th>\n",
       "      <td>zuma rising</td>\n",
       "      <td>obama’s isolation</td>\n",
       "      <td>0.187500</td>\n",
       "      <td>0.534351</td>\n",
       "    </tr>\n",
       "    <tr>\n",
       "      <th>0</th>\n",
       "      <td>the stakes for africa are enormous</td>\n",
       "      <td>this is not not the of the the the the the</td>\n",
       "      <td>0.187500</td>\n",
       "      <td>0.564972</td>\n",
       "    </tr>\n",
       "    <tr>\n",
       "      <th>0</th>\n",
       "      <td>zuma senses the urgency of the situation</td>\n",
       "      <td>the is is is is</td>\n",
       "      <td>0.222222</td>\n",
       "      <td>0.387597</td>\n",
       "    </tr>\n",
       "    <tr>\n",
       "      <th>0</th>\n",
       "      <td>“we can’t waste time” he says</td>\n",
       "      <td>they are not they</td>\n",
       "      <td>0.233333</td>\n",
       "      <td>0.515464</td>\n",
       "    </tr>\n",
       "  </tbody>\n",
       "</table>\n",
       "<p>100 rows × 4 columns</p>\n",
       "</div>"
      ],
      "text/plain": [
       "                                                                 actual  ...   F_score\n",
       "0                                         china and the us need to talk  ...  0.648464\n",
       "0                 asia-pacific leaders must shake off their complacency  ...  0.334646\n",
       "0                                         the politics of young and old  ...  0.544218\n",
       "0   fifty years ago people spoke often and loudly of a “generation gap”  ...  0.419907\n",
       "0                                             start with climate change  ...  0.620155\n",
       "..                                                                  ...  ...       ...\n",
       "0                                       in any case let’s wish him luck  ...  0.420712\n",
       "0                                                           zuma rising  ...  0.534351\n",
       "0                                    the stakes for africa are enormous  ...  0.564972\n",
       "0                              zuma senses the urgency of the situation  ...  0.387597\n",
       "0                                         “we can’t waste time” he says  ...  0.515464\n",
       "\n",
       "[100 rows x 4 columns]"
      ]
     },
     "execution_count": 116,
     "metadata": {
      "tags": []
     },
     "output_type": "execute_result"
    }
   ],
   "source": [
    "chinese_GRU_result_df"
   ]
  },
  {
   "cell_type": "code",
   "execution_count": 115,
   "metadata": {
    "colab": {
     "base_uri": "https://localhost:8080/"
    },
    "id": "OQ5c-3x7fwkJ",
    "outputId": "b608589e-2a78-47c6-915b-b16aa11b7042"
   },
   "outputs": [
    {
     "name": "stdout",
     "output_type": "stream",
     "text": [
      "Mean BLEU-1 score:  0.25150578299463544\n",
      "Mean character F-score:  0.47360206848708736\n"
     ]
    }
   ],
   "source": [
    "print('Mean BLEU-1 score: ', chinese_GRU_result_df['bleu_score'].mean())\n",
    "print('Mean character F-score: ', chinese_GRU_result_df['F_score'].mean())"
   ]
  },
  {
   "cell_type": "markdown",
   "metadata": {
    "id": "aFalOkXBwyoc"
   },
   "source": [
    "<h1> Discussion <h1>"
   ]
  },
  {
   "cell_type": "markdown",
   "metadata": {},
   "source": [
    "Well, the good news is that these models performed better than the baseline models. The baseline models were only capable of predicting the word \"the\". So we'll call this a success. The main issue was the extensive padding that was applied. The average sentence length was ranged from 20-30 words. Some of the longest sentences were over 100 words. So the short phrases were being padded with dozens of 0's, causing the gradients to dissipate and thus overfitting. After limiting the max length for the data we saw much better results. However, the translation was still rather poor even after trying every kind of hyperparameter combination. Perhaps it is not a sufficient model architecture or more complex layers are needed to accurately model this data. "
   ]
  }
 ],
 "metadata": {
  "accelerator": "GPU",
  "colab": {
   "collapsed_sections": [],
   "machine_shape": "hm",
   "name": "NMT_Final.ipynb",
   "provenance": [],
   "toc_visible": true
  },
  "kernelspec": {
   "display_name": "Python 3",
   "language": "python",
   "name": "python3"
  },
  "language_info": {
   "codemirror_mode": {
    "name": "ipython",
    "version": 3
   },
   "file_extension": ".py",
   "mimetype": "text/x-python",
   "name": "python",
   "nbconvert_exporter": "python",
   "pygments_lexer": "ipython3",
   "version": "3.7.6"
  }
 },
 "nbformat": 4,
 "nbformat_minor": 4
}
