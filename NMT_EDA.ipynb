{
 "cells": [
  {
   "cell_type": "code",
   "execution_count": 69,
   "metadata": {},
   "outputs": [],
   "source": [
    "import tensorflow as tf\n",
    "import pandas as pd\n",
    "import numpy as np\n",
    "import string\n",
    "import re\n",
    "import itertools\n",
    "from matplotlib import pyplot as plt\n",
    "from nltk.tokenize import word_tokenize\n",
    "from nltk.tokenize import RegexpTokenizer"
   ]
  },
  {
   "cell_type": "code",
   "execution_count": 70,
   "metadata": {},
   "outputs": [],
   "source": [
    "df_german = pd.read_csv('C:/Users/joshu/Documents/UNCC_Material/Spring_2021/Applied_Machine_Learning/Group_Project/German/news-commentary-v15.de-en.tsv', sep='\\t', error_bad_lines=False, header=None, warn_bad_lines=False)\n",
    "df_chinese = pd.read_csv('C:/Users/joshu/Documents/UNCC_Material/Spring_2021/Applied_Machine_Learning/Group_Project/Chinese/news-commentary-v15.en-zh.tsv', sep='\\t', error_bad_lines=False, header=None, warn_bad_lines=False)"
   ]
  },
  {
   "cell_type": "code",
   "execution_count": 71,
   "metadata": {},
   "outputs": [],
   "source": [
    "pd.set_option('display.max_colwidth', None)"
   ]
  },
  {
   "cell_type": "code",
   "execution_count": 107,
   "metadata": {},
   "outputs": [
    {
     "data": {
      "text/html": [
       "<div>\n",
       "<style scoped>\n",
       "    .dataframe tbody tr th:only-of-type {\n",
       "        vertical-align: middle;\n",
       "    }\n",
       "\n",
       "    .dataframe tbody tr th {\n",
       "        vertical-align: top;\n",
       "    }\n",
       "\n",
       "    .dataframe thead th {\n",
       "        text-align: right;\n",
       "    }\n",
       "</style>\n",
       "<table border=\"1\" class=\"dataframe\">\n",
       "  <thead>\n",
       "    <tr style=\"text-align: right;\">\n",
       "      <th></th>\n",
       "      <th>German</th>\n",
       "      <th>English</th>\n",
       "    </tr>\n",
       "  </thead>\n",
       "  <tbody>\n",
       "    <tr>\n",
       "      <th>0</th>\n",
       "      <td>Steigt Gold auf 10.000 Dollar?</td>\n",
       "      <td>$10,000 Gold?</td>\n",
       "    </tr>\n",
       "    <tr>\n",
       "      <th>1</th>\n",
       "      <td>SAN FRANCISCO – Es war noch nie leicht, ein rationales Gespräch über den Wert von Gold zu führen.</td>\n",
       "      <td>SAN FRANCISCO – It has never been easy to have a rational conversation about the value of gold.</td>\n",
       "    </tr>\n",
       "    <tr>\n",
       "      <th>2</th>\n",
       "      <td>In letzter Zeit allerdings ist dies schwieriger denn je, ist doch der Goldpreis im letzten Jahrzehnt um über 300 Prozent angestiegen.</td>\n",
       "      <td>Lately, with gold prices up more than 300% over the last decade, it is harder than ever.</td>\n",
       "    </tr>\n",
       "    <tr>\n",
       "      <th>3</th>\n",
       "      <td>Erst letzten Dezember verfassten meine Kollegen Martin Feldstein und Nouriel Roubini Kommentare, in denen sie mutig die vorherrschende optimistische Marktstimmung hinterfragten und sehr überlegt auf die Risiken des Goldes hinwiesen.</td>\n",
       "      <td>Just last December, fellow economists Martin Feldstein and Nouriel Roubini each penned op-eds bravely questioning bullish market sentiment, sensibly pointing out gold’s risks.</td>\n",
       "    </tr>\n",
       "    <tr>\n",
       "      <th>4</th>\n",
       "      <td>Und es kam, wie es kommen musste.</td>\n",
       "      <td>Wouldn’t you know it?</td>\n",
       "    </tr>\n",
       "  </tbody>\n",
       "</table>\n",
       "</div>"
      ],
      "text/plain": [
       "                                                                                                                                                                                                                                     German  \\\n",
       "0                                                                                                                                                                                                            Steigt Gold auf 10.000 Dollar?   \n",
       "1                                                                                                                                         SAN FRANCISCO – Es war noch nie leicht, ein rationales Gespräch über den Wert von Gold zu führen.   \n",
       "2                                                                                                     In letzter Zeit allerdings ist dies schwieriger denn je, ist doch der Goldpreis im letzten Jahrzehnt um über 300 Prozent angestiegen.   \n",
       "3  Erst letzten Dezember verfassten meine Kollegen Martin Feldstein und Nouriel Roubini Kommentare, in denen sie mutig die vorherrschende optimistische Marktstimmung hinterfragten und sehr überlegt auf die Risiken des Goldes hinwiesen.   \n",
       "4                                                                                                                                                                                                         Und es kam, wie es kommen musste.   \n",
       "\n",
       "                                                                                                                                                                           English  \n",
       "0                                                                                                                                                                    $10,000 Gold?  \n",
       "1                                                                                  SAN FRANCISCO – It has never been easy to have a rational conversation about the value of gold.  \n",
       "2                                                                                         Lately, with gold prices up more than 300% over the last decade, it is harder than ever.  \n",
       "3  Just last December, fellow economists Martin Feldstein and Nouriel Roubini each penned op-eds bravely questioning bullish market sentiment, sensibly pointing out gold’s risks.  \n",
       "4                                                                                                                                                            Wouldn’t you know it?  "
      ]
     },
     "execution_count": 107,
     "metadata": {},
     "output_type": "execute_result"
    }
   ],
   "source": [
    "df_german = df_german.rename(columns={0:'German', 1:'English'})\n",
    "df_german.head()"
   ]
  },
  {
   "cell_type": "code",
   "execution_count": 73,
   "metadata": {},
   "outputs": [
    {
     "data": {
      "text/html": [
       "<div>\n",
       "<style scoped>\n",
       "    .dataframe tbody tr th:only-of-type {\n",
       "        vertical-align: middle;\n",
       "    }\n",
       "\n",
       "    .dataframe tbody tr th {\n",
       "        vertical-align: top;\n",
       "    }\n",
       "\n",
       "    .dataframe thead th {\n",
       "        text-align: right;\n",
       "    }\n",
       "</style>\n",
       "<table border=\"1\" class=\"dataframe\">\n",
       "  <thead>\n",
       "    <tr style=\"text-align: right;\">\n",
       "      <th></th>\n",
       "      <th>English</th>\n",
       "      <th>Chinese</th>\n",
       "    </tr>\n",
       "  </thead>\n",
       "  <tbody>\n",
       "    <tr>\n",
       "      <th>0</th>\n",
       "      <td>1929 or 1989?</td>\n",
       "      <td>1929年还是1989年?</td>\n",
       "    </tr>\n",
       "    <tr>\n",
       "      <th>1</th>\n",
       "      <td>PARIS – As the economic crisis deepens and widens, the world has been searching for historical analogies to help us understand what has been happening.</td>\n",
       "      <td>巴黎-随着经济危机不断加深和蔓延，整个世界一直在寻找历史上的类似事件希望有助于我们了解目前正在发生的情况。</td>\n",
       "    </tr>\n",
       "    <tr>\n",
       "      <th>2</th>\n",
       "      <td>At the start of the crisis, many people likened it to 1982 or 1973, which was reassuring, because both dates refer to classical cyclical downturns.</td>\n",
       "      <td>一开始，很多人把这次危机比作1982年或1973年所发生的情况，这样得类比是令人宽心的，因为这两段时期意味着典型的周期性衰退。</td>\n",
       "    </tr>\n",
       "    <tr>\n",
       "      <th>3</th>\n",
       "      <td>Today, the mood is much grimmer, with references to 1929 and 1931 beginning to abound, even if some governments continue to behave as if the crisis was more classical than exceptional.</td>\n",
       "      <td>如今人们的心情却是沉重多了，许多人开始把这次危机与1929年和1931年相比，即使一些国家政府的表现仍然似乎把视目前的情况为是典型的而看见的衰退。</td>\n",
       "    </tr>\n",
       "    <tr>\n",
       "      <th>4</th>\n",
       "      <td>The tendency is either excessive restraint (Europe) or a diffusion of the effort (the United States).</td>\n",
       "      <td>目前的趋势是，要么是过度的克制（欧洲 ） ， 要么是努力的扩展（美国 ） 。</td>\n",
       "    </tr>\n",
       "  </tbody>\n",
       "</table>\n",
       "</div>"
      ],
      "text/plain": [
       "                                                                                                                                                                                    English  \\\n",
       "0                                                                                                                                                                             1929 or 1989?   \n",
       "1                                   PARIS – As the economic crisis deepens and widens, the world has been searching for historical analogies to help us understand what has been happening.   \n",
       "2                                       At the start of the crisis, many people likened it to 1982 or 1973, which was reassuring, because both dates refer to classical cyclical downturns.   \n",
       "3  Today, the mood is much grimmer, with references to 1929 and 1931 beginning to abound, even if some governments continue to behave as if the crisis was more classical than exceptional.   \n",
       "4                                                                                     The tendency is either excessive restraint (Europe) or a diffusion of the effort (the United States).   \n",
       "\n",
       "                                                                     Chinese  \n",
       "0                                                              1929年还是1989年?  \n",
       "1                      巴黎-随着经济危机不断加深和蔓延，整个世界一直在寻找历史上的类似事件希望有助于我们了解目前正在发生的情况。  \n",
       "2            一开始，很多人把这次危机比作1982年或1973年所发生的情况，这样得类比是令人宽心的，因为这两段时期意味着典型的周期性衰退。  \n",
       "3  如今人们的心情却是沉重多了，许多人开始把这次危机与1929年和1931年相比，即使一些国家政府的表现仍然似乎把视目前的情况为是典型的而看见的衰退。  \n",
       "4                                     目前的趋势是，要么是过度的克制（欧洲 ） ， 要么是努力的扩展（美国 ） 。  "
      ]
     },
     "execution_count": 73,
     "metadata": {},
     "output_type": "execute_result"
    }
   ],
   "source": [
    "df_chinese = df_chinese.rename(columns={0:'English', 1:'Chinese'})\n",
    "df_chinese.head()"
   ]
  },
  {
   "cell_type": "code",
   "execution_count": 108,
   "metadata": {},
   "outputs": [
    {
     "data": {
      "text/plain": [
       "German     9453\n",
       "English    9400\n",
       "dtype: int64"
      ]
     },
     "execution_count": 108,
     "metadata": {},
     "output_type": "execute_result"
    }
   ],
   "source": [
    "df_german.isnull().sum()"
   ]
  },
  {
   "cell_type": "code",
   "execution_count": 75,
   "metadata": {},
   "outputs": [
    {
     "data": {
      "text/plain": [
       "English    8224\n",
       "Chinese    8168\n",
       "dtype: int64"
      ]
     },
     "execution_count": 75,
     "metadata": {},
     "output_type": "execute_result"
    }
   ],
   "source": [
    "df_chinese.isnull().sum()"
   ]
  },
  {
   "cell_type": "code",
   "execution_count": 76,
   "metadata": {},
   "outputs": [
    {
     "data": {
      "text/html": [
       "<div>\n",
       "<style scoped>\n",
       "    .dataframe tbody tr th:only-of-type {\n",
       "        vertical-align: middle;\n",
       "    }\n",
       "\n",
       "    .dataframe tbody tr th {\n",
       "        vertical-align: top;\n",
       "    }\n",
       "\n",
       "    .dataframe thead th {\n",
       "        text-align: right;\n",
       "    }\n",
       "</style>\n",
       "<table border=\"1\" class=\"dataframe\">\n",
       "  <thead>\n",
       "    <tr style=\"text-align: right;\">\n",
       "      <th></th>\n",
       "      <th>German</th>\n",
       "      <th>English</th>\n",
       "    </tr>\n",
       "  </thead>\n",
       "  <tbody>\n",
       "    <tr>\n",
       "      <th>46</th>\n",
       "      <td>NaN</td>\n",
       "      <td>NaN</td>\n",
       "    </tr>\n",
       "    <tr>\n",
       "      <th>77</th>\n",
       "      <td>NaN</td>\n",
       "      <td>NaN</td>\n",
       "    </tr>\n",
       "    <tr>\n",
       "      <th>117</th>\n",
       "      <td>Der Neoliberalismus füllte dieses Vakuum.</td>\n",
       "      <td>NaN</td>\n",
       "    </tr>\n",
       "    <tr>\n",
       "      <th>127</th>\n",
       "      <td>NaN</td>\n",
       "      <td>NaN</td>\n",
       "    </tr>\n",
       "    <tr>\n",
       "      <th>167</th>\n",
       "      <td>NaN</td>\n",
       "      <td>NaN</td>\n",
       "    </tr>\n",
       "    <tr>\n",
       "      <th>...</th>\n",
       "      <td>...</td>\n",
       "      <td>...</td>\n",
       "    </tr>\n",
       "    <tr>\n",
       "      <th>369595</th>\n",
       "      <td>NaN</td>\n",
       "      <td>NaN</td>\n",
       "    </tr>\n",
       "    <tr>\n",
       "      <th>369627</th>\n",
       "      <td>NaN</td>\n",
       "      <td>NaN</td>\n",
       "    </tr>\n",
       "    <tr>\n",
       "      <th>369658</th>\n",
       "      <td>NaN</td>\n",
       "      <td>NaN</td>\n",
       "    </tr>\n",
       "    <tr>\n",
       "      <th>369696</th>\n",
       "      <td>NaN</td>\n",
       "      <td>NaN</td>\n",
       "    </tr>\n",
       "    <tr>\n",
       "      <th>369728</th>\n",
       "      <td>NaN</td>\n",
       "      <td>NaN</td>\n",
       "    </tr>\n",
       "  </tbody>\n",
       "</table>\n",
       "<p>9742 rows × 2 columns</p>\n",
       "</div>"
      ],
      "text/plain": [
       "                                           German English\n",
       "46                                            NaN     NaN\n",
       "77                                            NaN     NaN\n",
       "117     Der Neoliberalismus füllte dieses Vakuum.     NaN\n",
       "127                                           NaN     NaN\n",
       "167                                           NaN     NaN\n",
       "...                                           ...     ...\n",
       "369595                                        NaN     NaN\n",
       "369627                                        NaN     NaN\n",
       "369658                                        NaN     NaN\n",
       "369696                                        NaN     NaN\n",
       "369728                                        NaN     NaN\n",
       "\n",
       "[9742 rows x 2 columns]"
      ]
     },
     "execution_count": 76,
     "metadata": {},
     "output_type": "execute_result"
    }
   ],
   "source": [
    "df_german[df_german.isnull().any(axis=1)]"
   ]
  },
  {
   "cell_type": "code",
   "execution_count": 77,
   "metadata": {},
   "outputs": [
    {
     "data": {
      "text/html": [
       "<div>\n",
       "<style scoped>\n",
       "    .dataframe tbody tr th:only-of-type {\n",
       "        vertical-align: middle;\n",
       "    }\n",
       "\n",
       "    .dataframe tbody tr th {\n",
       "        vertical-align: top;\n",
       "    }\n",
       "\n",
       "    .dataframe thead th {\n",
       "        text-align: right;\n",
       "    }\n",
       "</style>\n",
       "<table border=\"1\" class=\"dataframe\">\n",
       "  <thead>\n",
       "    <tr style=\"text-align: right;\">\n",
       "      <th></th>\n",
       "      <th>English</th>\n",
       "      <th>Chinese</th>\n",
       "    </tr>\n",
       "  </thead>\n",
       "  <tbody>\n",
       "    <tr>\n",
       "      <th>30</th>\n",
       "      <td>NaN</td>\n",
       "      <td>NaN</td>\n",
       "    </tr>\n",
       "    <tr>\n",
       "      <th>65</th>\n",
       "      <td>NaN</td>\n",
       "      <td>NaN</td>\n",
       "    </tr>\n",
       "    <tr>\n",
       "      <th>97</th>\n",
       "      <td>NaN</td>\n",
       "      <td>NaN</td>\n",
       "    </tr>\n",
       "    <tr>\n",
       "      <th>136</th>\n",
       "      <td>NaN</td>\n",
       "      <td>NaN</td>\n",
       "    </tr>\n",
       "    <tr>\n",
       "      <th>172</th>\n",
       "      <td>NaN</td>\n",
       "      <td>NaN</td>\n",
       "    </tr>\n",
       "    <tr>\n",
       "      <th>...</th>\n",
       "      <td>...</td>\n",
       "      <td>...</td>\n",
       "    </tr>\n",
       "    <tr>\n",
       "      <th>320604</th>\n",
       "      <td>NaN</td>\n",
       "      <td>NaN</td>\n",
       "    </tr>\n",
       "    <tr>\n",
       "      <th>320637</th>\n",
       "      <td>NaN</td>\n",
       "      <td>NaN</td>\n",
       "    </tr>\n",
       "    <tr>\n",
       "      <th>320676</th>\n",
       "      <td>NaN</td>\n",
       "      <td>NaN</td>\n",
       "    </tr>\n",
       "    <tr>\n",
       "      <th>320682</th>\n",
       "      <td>Zuma is legendary for his ability to connect with ordinary people.</td>\n",
       "      <td>NaN</td>\n",
       "    </tr>\n",
       "    <tr>\n",
       "      <th>320712</th>\n",
       "      <td>NaN</td>\n",
       "      <td>NaN</td>\n",
       "    </tr>\n",
       "  </tbody>\n",
       "</table>\n",
       "<p>8445 rows × 2 columns</p>\n",
       "</div>"
      ],
      "text/plain": [
       "                                                                   English  \\\n",
       "30                                                                     NaN   \n",
       "65                                                                     NaN   \n",
       "97                                                                     NaN   \n",
       "136                                                                    NaN   \n",
       "172                                                                    NaN   \n",
       "...                                                                    ...   \n",
       "320604                                                                 NaN   \n",
       "320637                                                                 NaN   \n",
       "320676                                                                 NaN   \n",
       "320682  Zuma is legendary for his ability to connect with ordinary people.   \n",
       "320712                                                                 NaN   \n",
       "\n",
       "       Chinese  \n",
       "30         NaN  \n",
       "65         NaN  \n",
       "97         NaN  \n",
       "136        NaN  \n",
       "172        NaN  \n",
       "...        ...  \n",
       "320604     NaN  \n",
       "320637     NaN  \n",
       "320676     NaN  \n",
       "320682     NaN  \n",
       "320712     NaN  \n",
       "\n",
       "[8445 rows x 2 columns]"
      ]
     },
     "execution_count": 77,
     "metadata": {},
     "output_type": "execute_result"
    }
   ],
   "source": [
    "df_chinese[df_chinese.isnull().any(axis=1)]"
   ]
  },
  {
   "cell_type": "code",
   "execution_count": 109,
   "metadata": {},
   "outputs": [
    {
     "data": {
      "text/plain": [
       "German     0\n",
       "English    0\n",
       "dtype: int64"
      ]
     },
     "execution_count": 109,
     "metadata": {},
     "output_type": "execute_result"
    }
   ],
   "source": [
    "df_german = df_german.dropna()\n",
    "df_german.isnull().sum()"
   ]
  },
  {
   "cell_type": "code",
   "execution_count": 79,
   "metadata": {},
   "outputs": [
    {
     "data": {
      "text/plain": [
       "English    0\n",
       "Chinese    0\n",
       "dtype: int64"
      ]
     },
     "execution_count": 79,
     "metadata": {},
     "output_type": "execute_result"
    }
   ],
   "source": [
    "df_chinese = df_chinese.dropna()\n",
    "df_chinese.isnull().sum()"
   ]
  },
  {
   "cell_type": "code",
   "execution_count": 110,
   "metadata": {},
   "outputs": [],
   "source": [
    "#convert everything to lower case\n",
    "df_german['German'] = df_german['German'].apply(lambda x:x.lower())\n",
    "df_german['English'] = df_german['English'].apply(lambda x:x.lower())\n",
    "\n",
    "df_chinese['Chinese'] = df_chinese['Chinese'].apply(lambda x:x.lower())\n",
    "df_chinese['English'] = df_chinese['English'].apply(lambda x:x.lower())"
   ]
  },
  {
   "cell_type": "code",
   "execution_count": 81,
   "metadata": {},
   "outputs": [
    {
     "data": {
      "text/html": [
       "<div>\n",
       "<style scoped>\n",
       "    .dataframe tbody tr th:only-of-type {\n",
       "        vertical-align: middle;\n",
       "    }\n",
       "\n",
       "    .dataframe tbody tr th {\n",
       "        vertical-align: top;\n",
       "    }\n",
       "\n",
       "    .dataframe thead th {\n",
       "        text-align: right;\n",
       "    }\n",
       "</style>\n",
       "<table border=\"1\" class=\"dataframe\">\n",
       "  <thead>\n",
       "    <tr style=\"text-align: right;\">\n",
       "      <th></th>\n",
       "      <th>English</th>\n",
       "      <th>Chinese</th>\n",
       "    </tr>\n",
       "  </thead>\n",
       "  <tbody>\n",
       "    <tr>\n",
       "      <th>0</th>\n",
       "      <td>1929 or 1989?</td>\n",
       "      <td>1929年还是1989年?</td>\n",
       "    </tr>\n",
       "    <tr>\n",
       "      <th>1</th>\n",
       "      <td>paris – as the economic crisis deepens and widens, the world has been searching for historical analogies to help us understand what has been happening.</td>\n",
       "      <td>巴黎-随着经济危机不断加深和蔓延，整个世界一直在寻找历史上的类似事件希望有助于我们了解目前正在发生的情况。</td>\n",
       "    </tr>\n",
       "    <tr>\n",
       "      <th>2</th>\n",
       "      <td>at the start of the crisis, many people likened it to 1982 or 1973, which was reassuring, because both dates refer to classical cyclical downturns.</td>\n",
       "      <td>一开始，很多人把这次危机比作1982年或1973年所发生的情况，这样得类比是令人宽心的，因为这两段时期意味着典型的周期性衰退。</td>\n",
       "    </tr>\n",
       "    <tr>\n",
       "      <th>3</th>\n",
       "      <td>today, the mood is much grimmer, with references to 1929 and 1931 beginning to abound, even if some governments continue to behave as if the crisis was more classical than exceptional.</td>\n",
       "      <td>如今人们的心情却是沉重多了，许多人开始把这次危机与1929年和1931年相比，即使一些国家政府的表现仍然似乎把视目前的情况为是典型的而看见的衰退。</td>\n",
       "    </tr>\n",
       "    <tr>\n",
       "      <th>4</th>\n",
       "      <td>the tendency is either excessive restraint (europe) or a diffusion of the effort (the united states).</td>\n",
       "      <td>目前的趋势是，要么是过度的克制（欧洲 ） ， 要么是努力的扩展（美国 ） 。</td>\n",
       "    </tr>\n",
       "  </tbody>\n",
       "</table>\n",
       "</div>"
      ],
      "text/plain": [
       "                                                                                                                                                                                    English  \\\n",
       "0                                                                                                                                                                             1929 or 1989?   \n",
       "1                                   paris – as the economic crisis deepens and widens, the world has been searching for historical analogies to help us understand what has been happening.   \n",
       "2                                       at the start of the crisis, many people likened it to 1982 or 1973, which was reassuring, because both dates refer to classical cyclical downturns.   \n",
       "3  today, the mood is much grimmer, with references to 1929 and 1931 beginning to abound, even if some governments continue to behave as if the crisis was more classical than exceptional.   \n",
       "4                                                                                     the tendency is either excessive restraint (europe) or a diffusion of the effort (the united states).   \n",
       "\n",
       "                                                                     Chinese  \n",
       "0                                                              1929年还是1989年?  \n",
       "1                      巴黎-随着经济危机不断加深和蔓延，整个世界一直在寻找历史上的类似事件希望有助于我们了解目前正在发生的情况。  \n",
       "2            一开始，很多人把这次危机比作1982年或1973年所发生的情况，这样得类比是令人宽心的，因为这两段时期意味着典型的周期性衰退。  \n",
       "3  如今人们的心情却是沉重多了，许多人开始把这次危机与1929年和1931年相比，即使一些国家政府的表现仍然似乎把视目前的情况为是典型的而看见的衰退。  \n",
       "4                                     目前的趋势是，要么是过度的克制（欧洲 ） ， 要么是努力的扩展（美国 ） 。  "
      ]
     },
     "execution_count": 81,
     "metadata": {},
     "output_type": "execute_result"
    }
   ],
   "source": [
    "df_chinese.head()"
   ]
  },
  {
   "cell_type": "code",
   "execution_count": 111,
   "metadata": {},
   "outputs": [
    {
     "data": {
      "text/html": [
       "<div>\n",
       "<style scoped>\n",
       "    .dataframe tbody tr th:only-of-type {\n",
       "        vertical-align: middle;\n",
       "    }\n",
       "\n",
       "    .dataframe tbody tr th {\n",
       "        vertical-align: top;\n",
       "    }\n",
       "\n",
       "    .dataframe thead th {\n",
       "        text-align: right;\n",
       "    }\n",
       "</style>\n",
       "<table border=\"1\" class=\"dataframe\">\n",
       "  <thead>\n",
       "    <tr style=\"text-align: right;\">\n",
       "      <th></th>\n",
       "      <th>German</th>\n",
       "      <th>English</th>\n",
       "    </tr>\n",
       "  </thead>\n",
       "  <tbody>\n",
       "    <tr>\n",
       "      <th>0</th>\n",
       "      <td>steigt gold auf 10000 dollar</td>\n",
       "      <td>10000 gold</td>\n",
       "    </tr>\n",
       "    <tr>\n",
       "      <th>1</th>\n",
       "      <td>san francisco – es war noch nie leicht ein rationales gespräch über den wert von gold zu führen</td>\n",
       "      <td>san francisco – it has never been easy to have a rational conversation about the value of gold</td>\n",
       "    </tr>\n",
       "    <tr>\n",
       "      <th>2</th>\n",
       "      <td>in letzter zeit allerdings ist dies schwieriger denn je ist doch der goldpreis im letzten jahrzehnt um über 300 prozent angestiegen</td>\n",
       "      <td>lately with gold prices up more than 300 over the last decade it is harder than ever</td>\n",
       "    </tr>\n",
       "    <tr>\n",
       "      <th>3</th>\n",
       "      <td>erst letzten dezember verfassten meine kollegen martin feldstein und nouriel roubini kommentare in denen sie mutig die vorherrschende optimistische marktstimmung hinterfragten und sehr überlegt auf die risiken des goldes hinwiesen</td>\n",
       "      <td>just last december fellow economists martin feldstein and nouriel roubini each penned op-eds bravely questioning bullish market sentiment sensibly pointing out gold’s risks</td>\n",
       "    </tr>\n",
       "    <tr>\n",
       "      <th>4</th>\n",
       "      <td>und es kam wie es kommen musste</td>\n",
       "      <td>wouldn’t you know it</td>\n",
       "    </tr>\n",
       "  </tbody>\n",
       "</table>\n",
       "</div>"
      ],
      "text/plain": [
       "                                                                                                                                                                                                                                   German  \\\n",
       "0                                                                                                                                                                                                            steigt gold auf 10000 dollar   \n",
       "1                                                                                                                                         san francisco – es war noch nie leicht ein rationales gespräch über den wert von gold zu führen   \n",
       "2                                                                                                     in letzter zeit allerdings ist dies schwieriger denn je ist doch der goldpreis im letzten jahrzehnt um über 300 prozent angestiegen   \n",
       "3  erst letzten dezember verfassten meine kollegen martin feldstein und nouriel roubini kommentare in denen sie mutig die vorherrschende optimistische marktstimmung hinterfragten und sehr überlegt auf die risiken des goldes hinwiesen   \n",
       "4                                                                                                                                                                                                         und es kam wie es kommen musste   \n",
       "\n",
       "                                                                                                                                                                        English  \n",
       "0                                                                                                                                                                    10000 gold  \n",
       "1                                                                                san francisco – it has never been easy to have a rational conversation about the value of gold  \n",
       "2                                                                                          lately with gold prices up more than 300 over the last decade it is harder than ever  \n",
       "3  just last december fellow economists martin feldstein and nouriel roubini each penned op-eds bravely questioning bullish market sentiment sensibly pointing out gold’s risks  \n",
       "4                                                                                                                                                          wouldn’t you know it  "
      ]
     },
     "execution_count": 111,
     "metadata": {},
     "output_type": "execute_result"
    }
   ],
   "source": [
    "#remove special characters\n",
    "df_german['German'] = df_german['German'].map(lambda x: re.sub(r\"[$%-()\\\"#/@;:<>{}`+=~|.!?,]\", \"\", x))\n",
    "df_german['English'] = df_german['English'].map(lambda x: re.sub(r\"[$%-()\\\"#/@;:<>{}`+=~|.!?,]\", \"\", x))\n",
    "\n",
    "df_german.head()"
   ]
  },
  {
   "cell_type": "code",
   "execution_count": 83,
   "metadata": {},
   "outputs": [
    {
     "data": {
      "text/html": [
       "<div>\n",
       "<style scoped>\n",
       "    .dataframe tbody tr th:only-of-type {\n",
       "        vertical-align: middle;\n",
       "    }\n",
       "\n",
       "    .dataframe tbody tr th {\n",
       "        vertical-align: top;\n",
       "    }\n",
       "\n",
       "    .dataframe thead th {\n",
       "        text-align: right;\n",
       "    }\n",
       "</style>\n",
       "<table border=\"1\" class=\"dataframe\">\n",
       "  <thead>\n",
       "    <tr style=\"text-align: right;\">\n",
       "      <th></th>\n",
       "      <th>English</th>\n",
       "      <th>Chinese</th>\n",
       "    </tr>\n",
       "  </thead>\n",
       "  <tbody>\n",
       "    <tr>\n",
       "      <th>0</th>\n",
       "      <td>1929 or 1989</td>\n",
       "      <td>1929年还是1989年</td>\n",
       "    </tr>\n",
       "    <tr>\n",
       "      <th>1</th>\n",
       "      <td>paris – as the economic crisis deepens and widens the world has been searching for historical analogies to help us understand what has been happening</td>\n",
       "      <td>巴黎-随着经济危机不断加深和蔓延，整个世界一直在寻找历史上的类似事件希望有助于我们了解目前正在发生的情况。</td>\n",
       "    </tr>\n",
       "    <tr>\n",
       "      <th>2</th>\n",
       "      <td>at the start of the crisis many people likened it to 1982 or 1973 which was reassuring because both dates refer to classical cyclical downturns</td>\n",
       "      <td>一开始，很多人把这次危机比作1982年或1973年所发生的情况，这样得类比是令人宽心的，因为这两段时期意味着典型的周期性衰退。</td>\n",
       "    </tr>\n",
       "    <tr>\n",
       "      <th>3</th>\n",
       "      <td>today the mood is much grimmer with references to 1929 and 1931 beginning to abound even if some governments continue to behave as if the crisis was more classical than exceptional</td>\n",
       "      <td>如今人们的心情却是沉重多了，许多人开始把这次危机与1929年和1931年相比，即使一些国家政府的表现仍然似乎把视目前的情况为是典型的而看见的衰退。</td>\n",
       "    </tr>\n",
       "    <tr>\n",
       "      <th>4</th>\n",
       "      <td>the tendency is either excessive restraint europe or a diffusion of the effort the united states</td>\n",
       "      <td>目前的趋势是，要么是过度的克制（欧洲 ） ， 要么是努力的扩展（美国 ） 。</td>\n",
       "    </tr>\n",
       "  </tbody>\n",
       "</table>\n",
       "</div>"
      ],
      "text/plain": [
       "                                                                                                                                                                                English  \\\n",
       "0                                                                                                                                                                          1929 or 1989   \n",
       "1                                 paris – as the economic crisis deepens and widens the world has been searching for historical analogies to help us understand what has been happening   \n",
       "2                                       at the start of the crisis many people likened it to 1982 or 1973 which was reassuring because both dates refer to classical cyclical downturns   \n",
       "3  today the mood is much grimmer with references to 1929 and 1931 beginning to abound even if some governments continue to behave as if the crisis was more classical than exceptional   \n",
       "4                                                                                      the tendency is either excessive restraint europe or a diffusion of the effort the united states   \n",
       "\n",
       "                                                                     Chinese  \n",
       "0                                                               1929年还是1989年  \n",
       "1                      巴黎-随着经济危机不断加深和蔓延，整个世界一直在寻找历史上的类似事件希望有助于我们了解目前正在发生的情况。  \n",
       "2            一开始，很多人把这次危机比作1982年或1973年所发生的情况，这样得类比是令人宽心的，因为这两段时期意味着典型的周期性衰退。  \n",
       "3  如今人们的心情却是沉重多了，许多人开始把这次危机与1929年和1931年相比，即使一些国家政府的表现仍然似乎把视目前的情况为是典型的而看见的衰退。  \n",
       "4                                     目前的趋势是，要么是过度的克制（欧洲 ） ， 要么是努力的扩展（美国 ） 。  "
      ]
     },
     "execution_count": 83,
     "metadata": {},
     "output_type": "execute_result"
    }
   ],
   "source": [
    "df_chinese['Chinese'] = df_chinese['Chinese'].map(lambda x: re.sub(r\"[$%-()\\\"#/@;:<>{}`+=~|.!?,]\", \"\", x))\n",
    "df_chinese['English'] = df_chinese['English'].map(lambda x: re.sub(r\"[$%-()\\\"#/@;:<>{}`+=~|.!?,]\", \"\", x))\n",
    "\n",
    "df_chinese.head()"
   ]
  },
  {
   "cell_type": "code",
   "execution_count": 112,
   "metadata": {},
   "outputs": [
    {
     "data": {
      "text/html": [
       "<div>\n",
       "<style scoped>\n",
       "    .dataframe tbody tr th:only-of-type {\n",
       "        vertical-align: middle;\n",
       "    }\n",
       "\n",
       "    .dataframe tbody tr th {\n",
       "        vertical-align: top;\n",
       "    }\n",
       "\n",
       "    .dataframe thead th {\n",
       "        text-align: right;\n",
       "    }\n",
       "</style>\n",
       "<table border=\"1\" class=\"dataframe\">\n",
       "  <thead>\n",
       "    <tr style=\"text-align: right;\">\n",
       "      <th></th>\n",
       "      <th>German</th>\n",
       "      <th>English</th>\n",
       "    </tr>\n",
       "  </thead>\n",
       "  <tbody>\n",
       "    <tr>\n",
       "      <th>1</th>\n",
       "      <td>san francisco – es war noch nie leicht ein rationales gespräch über den wert von gold zu führen</td>\n",
       "      <td>san francisco – it has never been easy to have a rational conversation about the value of gold</td>\n",
       "    </tr>\n",
       "    <tr>\n",
       "      <th>3</th>\n",
       "      <td>erst letzten dezember verfassten meine kollegen martin feldstein und nouriel roubini kommentare in denen sie mutig die vorherrschende optimistische marktstimmung hinterfragten und sehr überlegt auf die risiken des goldes hinwiesen</td>\n",
       "      <td>just last december fellow economists martin feldstein and nouriel roubini each penned op-eds bravely questioning bullish market sentiment sensibly pointing out gold’s risks</td>\n",
       "    </tr>\n",
       "    <tr>\n",
       "      <th>4</th>\n",
       "      <td>und es kam wie es kommen musste</td>\n",
       "      <td>wouldn’t you know it</td>\n",
       "    </tr>\n",
       "    <tr>\n",
       "      <th>5</th>\n",
       "      <td>seit der veröffentlichung ihrer artikel ist der goldpreis noch weiter gestiegen</td>\n",
       "      <td>since their articles appeared the price of gold has moved up still further</td>\n",
       "    </tr>\n",
       "    <tr>\n",
       "      <th>8</th>\n",
       "      <td>beflügelt aufgrund des anhaltenden aufwärtstrends meint man nun mancherorts dass gold sogar noch höher steigen könnte</td>\n",
       "      <td>now emboldened by continuing appreciation some are suggesting that gold could be headed even higher than that</td>\n",
       "    </tr>\n",
       "  </tbody>\n",
       "</table>\n",
       "</div>"
      ],
      "text/plain": [
       "                                                                                                                                                                                                                                   German  \\\n",
       "1                                                                                                                                         san francisco – es war noch nie leicht ein rationales gespräch über den wert von gold zu führen   \n",
       "3  erst letzten dezember verfassten meine kollegen martin feldstein und nouriel roubini kommentare in denen sie mutig die vorherrschende optimistische marktstimmung hinterfragten und sehr überlegt auf die risiken des goldes hinwiesen   \n",
       "4                                                                                                                                                                                                         und es kam wie es kommen musste   \n",
       "5                                                                                                                                                         seit der veröffentlichung ihrer artikel ist der goldpreis noch weiter gestiegen   \n",
       "8                                                                                                                   beflügelt aufgrund des anhaltenden aufwärtstrends meint man nun mancherorts dass gold sogar noch höher steigen könnte   \n",
       "\n",
       "                                                                                                                                                                        English  \n",
       "1                                                                                san francisco – it has never been easy to have a rational conversation about the value of gold  \n",
       "3  just last december fellow economists martin feldstein and nouriel roubini each penned op-eds bravely questioning bullish market sentiment sensibly pointing out gold’s risks  \n",
       "4                                                                                                                                                          wouldn’t you know it  \n",
       "5                                                                                                    since their articles appeared the price of gold has moved up still further  \n",
       "8                                                                 now emboldened by continuing appreciation some are suggesting that gold could be headed even higher than that  "
      ]
     },
     "execution_count": 112,
     "metadata": {},
     "output_type": "execute_result"
    }
   ],
   "source": [
    "# remove rows that contain numbers\n",
    "df_german = df_german[~df_german.German.str.contains(r'[0-9]')]\n",
    "df_german.head()"
   ]
  },
  {
   "cell_type": "code",
   "execution_count": 85,
   "metadata": {},
   "outputs": [
    {
     "data": {
      "text/html": [
       "<div>\n",
       "<style scoped>\n",
       "    .dataframe tbody tr th:only-of-type {\n",
       "        vertical-align: middle;\n",
       "    }\n",
       "\n",
       "    .dataframe tbody tr th {\n",
       "        vertical-align: top;\n",
       "    }\n",
       "\n",
       "    .dataframe thead th {\n",
       "        text-align: right;\n",
       "    }\n",
       "</style>\n",
       "<table border=\"1\" class=\"dataframe\">\n",
       "  <thead>\n",
       "    <tr style=\"text-align: right;\">\n",
       "      <th></th>\n",
       "      <th>English</th>\n",
       "      <th>Chinese</th>\n",
       "    </tr>\n",
       "  </thead>\n",
       "  <tbody>\n",
       "    <tr>\n",
       "      <th>1</th>\n",
       "      <td>paris – as the economic crisis deepens and widens the world has been searching for historical analogies to help us understand what has been happening</td>\n",
       "      <td>巴黎-随着经济危机不断加深和蔓延，整个世界一直在寻找历史上的类似事件希望有助于我们了解目前正在发生的情况。</td>\n",
       "    </tr>\n",
       "    <tr>\n",
       "      <th>4</th>\n",
       "      <td>the tendency is either excessive restraint europe or a diffusion of the effort the united states</td>\n",
       "      <td>目前的趋势是，要么是过度的克制（欧洲 ） ， 要么是努力的扩展（美国 ） 。</td>\n",
       "    </tr>\n",
       "    <tr>\n",
       "      <th>5</th>\n",
       "      <td>europe is being cautious in the name of avoiding debt and defending the euro whereas the us has moved on many fronts in order not to waste an ideal opportunity to implement badly needed structural reforms</td>\n",
       "      <td>欧洲在避免债务和捍卫欧元的名义下正变得谨慎，而美国已经在许多方面行动起来，以利用这一理想的时机来实行急需的结构性改革。</td>\n",
       "    </tr>\n",
       "    <tr>\n",
       "      <th>7</th>\n",
       "      <td>of course the fall of the house of lehman brothers has nothing to do with the fall of the berlin wall</td>\n",
       "      <td>当然，雷曼兄弟公司的倒闭和柏林墙的倒塌没有任何关系。</td>\n",
       "    </tr>\n",
       "    <tr>\n",
       "      <th>8</th>\n",
       "      <td>indeed on the surface it seems to be its perfect antithesis the collapse of a wall symbolizing oppression and artificial divisions versus the collapse of a seemingly indestructible and reassuring institution of financial capitalism</td>\n",
       "      <td>事实上，从表面上看，两者似乎是完全是相反的：一个是象征着压抑和人为分裂的柏林墙的倒塌，而另一个是看似坚不可摧的并令人安心的金融资本主义机构的倒塌。</td>\n",
       "    </tr>\n",
       "  </tbody>\n",
       "</table>\n",
       "</div>"
      ],
      "text/plain": [
       "                                                                                                                                                                                                                                   English  \\\n",
       "1                                                                                    paris – as the economic crisis deepens and widens the world has been searching for historical analogies to help us understand what has been happening   \n",
       "4                                                                                                                                         the tendency is either excessive restraint europe or a diffusion of the effort the united states   \n",
       "5                             europe is being cautious in the name of avoiding debt and defending the euro whereas the us has moved on many fronts in order not to waste an ideal opportunity to implement badly needed structural reforms   \n",
       "7                                                                                                                                    of course the fall of the house of lehman brothers has nothing to do with the fall of the berlin wall   \n",
       "8  indeed on the surface it seems to be its perfect antithesis the collapse of a wall symbolizing oppression and artificial divisions versus the collapse of a seemingly indestructible and reassuring institution of financial capitalism   \n",
       "\n",
       "                                                                     Chinese  \n",
       "1                      巴黎-随着经济危机不断加深和蔓延，整个世界一直在寻找历史上的类似事件希望有助于我们了解目前正在发生的情况。  \n",
       "4                                     目前的趋势是，要么是过度的克制（欧洲 ） ， 要么是努力的扩展（美国 ） 。  \n",
       "5                欧洲在避免债务和捍卫欧元的名义下正变得谨慎，而美国已经在许多方面行动起来，以利用这一理想的时机来实行急需的结构性改革。  \n",
       "7                                                 当然，雷曼兄弟公司的倒闭和柏林墙的倒塌没有任何关系。  \n",
       "8  事实上，从表面上看，两者似乎是完全是相反的：一个是象征着压抑和人为分裂的柏林墙的倒塌，而另一个是看似坚不可摧的并令人安心的金融资本主义机构的倒塌。  "
      ]
     },
     "execution_count": 85,
     "metadata": {},
     "output_type": "execute_result"
    }
   ],
   "source": [
    "# remove rows that contain numbers\n",
    "df_chinese = df_chinese[~df_chinese.Chinese.str.contains(r'[0-9]')]\n",
    "df_chinese.head()"
   ]
  },
  {
   "cell_type": "code",
   "execution_count": 113,
   "metadata": {},
   "outputs": [],
   "source": [
    "german_tokenizer = RegexpTokenizer(r'\\w+')\n",
    "df_german['tokenized_german'] = df_german['German'].apply(nltk_tokenizer.tokenize)\n",
    "df_german['tokenized_english'] = df_german['English'].apply(nltk_tokenizer.tokenize)"
   ]
  },
  {
   "cell_type": "code",
   "execution_count": 114,
   "metadata": {},
   "outputs": [
    {
     "data": {
      "text/html": [
       "<div>\n",
       "<style scoped>\n",
       "    .dataframe tbody tr th:only-of-type {\n",
       "        vertical-align: middle;\n",
       "    }\n",
       "\n",
       "    .dataframe tbody tr th {\n",
       "        vertical-align: top;\n",
       "    }\n",
       "\n",
       "    .dataframe thead th {\n",
       "        text-align: right;\n",
       "    }\n",
       "</style>\n",
       "<table border=\"1\" class=\"dataframe\">\n",
       "  <thead>\n",
       "    <tr style=\"text-align: right;\">\n",
       "      <th></th>\n",
       "      <th>German</th>\n",
       "      <th>English</th>\n",
       "      <th>tokenized_german</th>\n",
       "      <th>tokenized_english</th>\n",
       "    </tr>\n",
       "  </thead>\n",
       "  <tbody>\n",
       "    <tr>\n",
       "      <th>1</th>\n",
       "      <td>san francisco – es war noch nie leicht ein rationales gespräch über den wert von gold zu führen</td>\n",
       "      <td>san francisco – it has never been easy to have a rational conversation about the value of gold</td>\n",
       "      <td>[san, francisco, es, war, noch, nie, leicht, ein, rationales, gespräch, über, den, wert, von, gold, zu, führen]</td>\n",
       "      <td>[san, francisco, it, has, never, been, easy, to, have, a, rational, conversation, about, the, value, of, gold]</td>\n",
       "    </tr>\n",
       "    <tr>\n",
       "      <th>3</th>\n",
       "      <td>erst letzten dezember verfassten meine kollegen martin feldstein und nouriel roubini kommentare in denen sie mutig die vorherrschende optimistische marktstimmung hinterfragten und sehr überlegt auf die risiken des goldes hinwiesen</td>\n",
       "      <td>just last december fellow economists martin feldstein and nouriel roubini each penned op-eds bravely questioning bullish market sentiment sensibly pointing out gold’s risks</td>\n",
       "      <td>[erst, letzten, dezember, verfassten, meine, kollegen, martin, feldstein, und, nouriel, roubini, kommentare, in, denen, sie, mutig, die, vorherrschende, optimistische, marktstimmung, hinterfragten, und, sehr, überlegt, auf, die, risiken, des, goldes, hinwiesen]</td>\n",
       "      <td>[just, last, december, fellow, economists, martin, feldstein, and, nouriel, roubini, each, penned, op, eds, bravely, questioning, bullish, market, sentiment, sensibly, pointing, out, gold, s, risks]</td>\n",
       "    </tr>\n",
       "    <tr>\n",
       "      <th>4</th>\n",
       "      <td>und es kam wie es kommen musste</td>\n",
       "      <td>wouldn’t you know it</td>\n",
       "      <td>[und, es, kam, wie, es, kommen, musste]</td>\n",
       "      <td>[wouldn, t, you, know, it]</td>\n",
       "    </tr>\n",
       "    <tr>\n",
       "      <th>5</th>\n",
       "      <td>seit der veröffentlichung ihrer artikel ist der goldpreis noch weiter gestiegen</td>\n",
       "      <td>since their articles appeared the price of gold has moved up still further</td>\n",
       "      <td>[seit, der, veröffentlichung, ihrer, artikel, ist, der, goldpreis, noch, weiter, gestiegen]</td>\n",
       "      <td>[since, their, articles, appeared, the, price, of, gold, has, moved, up, still, further]</td>\n",
       "    </tr>\n",
       "    <tr>\n",
       "      <th>8</th>\n",
       "      <td>beflügelt aufgrund des anhaltenden aufwärtstrends meint man nun mancherorts dass gold sogar noch höher steigen könnte</td>\n",
       "      <td>now emboldened by continuing appreciation some are suggesting that gold could be headed even higher than that</td>\n",
       "      <td>[beflügelt, aufgrund, des, anhaltenden, aufwärtstrends, meint, man, nun, mancherorts, dass, gold, sogar, noch, höher, steigen, könnte]</td>\n",
       "      <td>[now, emboldened, by, continuing, appreciation, some, are, suggesting, that, gold, could, be, headed, even, higher, than, that]</td>\n",
       "    </tr>\n",
       "  </tbody>\n",
       "</table>\n",
       "</div>"
      ],
      "text/plain": [
       "                                                                                                                                                                                                                                   German  \\\n",
       "1                                                                                                                                         san francisco – es war noch nie leicht ein rationales gespräch über den wert von gold zu führen   \n",
       "3  erst letzten dezember verfassten meine kollegen martin feldstein und nouriel roubini kommentare in denen sie mutig die vorherrschende optimistische marktstimmung hinterfragten und sehr überlegt auf die risiken des goldes hinwiesen   \n",
       "4                                                                                                                                                                                                         und es kam wie es kommen musste   \n",
       "5                                                                                                                                                         seit der veröffentlichung ihrer artikel ist der goldpreis noch weiter gestiegen   \n",
       "8                                                                                                                   beflügelt aufgrund des anhaltenden aufwärtstrends meint man nun mancherorts dass gold sogar noch höher steigen könnte   \n",
       "\n",
       "                                                                                                                                                                        English  \\\n",
       "1                                                                                san francisco – it has never been easy to have a rational conversation about the value of gold   \n",
       "3  just last december fellow economists martin feldstein and nouriel roubini each penned op-eds bravely questioning bullish market sentiment sensibly pointing out gold’s risks   \n",
       "4                                                                                                                                                          wouldn’t you know it   \n",
       "5                                                                                                    since their articles appeared the price of gold has moved up still further   \n",
       "8                                                                 now emboldened by continuing appreciation some are suggesting that gold could be headed even higher than that   \n",
       "\n",
       "                                                                                                                                                                                                                                                        tokenized_german  \\\n",
       "1                                                                                                                                                        [san, francisco, es, war, noch, nie, leicht, ein, rationales, gespräch, über, den, wert, von, gold, zu, führen]   \n",
       "3  [erst, letzten, dezember, verfassten, meine, kollegen, martin, feldstein, und, nouriel, roubini, kommentare, in, denen, sie, mutig, die, vorherrschende, optimistische, marktstimmung, hinterfragten, und, sehr, überlegt, auf, die, risiken, des, goldes, hinwiesen]   \n",
       "4                                                                                                                                                                                                                                [und, es, kam, wie, es, kommen, musste]   \n",
       "5                                                                                                                                                                            [seit, der, veröffentlichung, ihrer, artikel, ist, der, goldpreis, noch, weiter, gestiegen]   \n",
       "8                                                                                                                                 [beflügelt, aufgrund, des, anhaltenden, aufwärtstrends, meint, man, nun, mancherorts, dass, gold, sogar, noch, höher, steigen, könnte]   \n",
       "\n",
       "                                                                                                                                                                                        tokenized_english  \n",
       "1                                                                                          [san, francisco, it, has, never, been, easy, to, have, a, rational, conversation, about, the, value, of, gold]  \n",
       "3  [just, last, december, fellow, economists, martin, feldstein, and, nouriel, roubini, each, penned, op, eds, bravely, questioning, bullish, market, sentiment, sensibly, pointing, out, gold, s, risks]  \n",
       "4                                                                                                                                                                              [wouldn, t, you, know, it]  \n",
       "5                                                                                                                [since, their, articles, appeared, the, price, of, gold, has, moved, up, still, further]  \n",
       "8                                                                         [now, emboldened, by, continuing, appreciation, some, are, suggesting, that, gold, could, be, headed, even, higher, than, that]  "
      ]
     },
     "execution_count": 114,
     "metadata": {},
     "output_type": "execute_result"
    }
   ],
   "source": [
    "df_german.head()"
   ]
  },
  {
   "cell_type": "code",
   "execution_count": 88,
   "metadata": {},
   "outputs": [],
   "source": [
    "#chinese characters aren't separated by spaces so need to do additional regexp\n",
    "chinese_tokenizer = RegexpTokenizer(u'[\\u2E00-\\u9fff]|[0-9]+|[a-zA-Z]+|[%s]'% re.escape(string.punctuation))\n",
    "\n",
    "df_chinese['tokenized_english'] = df_chinese['English'].apply(chinese_tokenizer.tokenize)\n",
    "df_chinese['tokenized_chinese'] = df_chinese['Chinese'].apply(chinese_tokenizer.tokenize)"
   ]
  },
  {
   "cell_type": "code",
   "execution_count": 89,
   "metadata": {},
   "outputs": [
    {
     "data": {
      "text/html": [
       "<div>\n",
       "<style scoped>\n",
       "    .dataframe tbody tr th:only-of-type {\n",
       "        vertical-align: middle;\n",
       "    }\n",
       "\n",
       "    .dataframe tbody tr th {\n",
       "        vertical-align: top;\n",
       "    }\n",
       "\n",
       "    .dataframe thead th {\n",
       "        text-align: right;\n",
       "    }\n",
       "</style>\n",
       "<table border=\"1\" class=\"dataframe\">\n",
       "  <thead>\n",
       "    <tr style=\"text-align: right;\">\n",
       "      <th></th>\n",
       "      <th>English</th>\n",
       "      <th>Chinese</th>\n",
       "      <th>tokenized_english</th>\n",
       "      <th>tokenized_chinese</th>\n",
       "    </tr>\n",
       "  </thead>\n",
       "  <tbody>\n",
       "    <tr>\n",
       "      <th>1</th>\n",
       "      <td>paris – as the economic crisis deepens and widens the world has been searching for historical analogies to help us understand what has been happening</td>\n",
       "      <td>巴黎-随着经济危机不断加深和蔓延，整个世界一直在寻找历史上的类似事件希望有助于我们了解目前正在发生的情况。</td>\n",
       "      <td>[paris, as, the, economic, crisis, deepens, and, widens, the, world, has, been, searching, for, historical, analogies, to, help, us, understand, what, has, been, happening]</td>\n",
       "      <td>[巴, 黎, -, 随, 着, 经, 济, 危, 机, 不, 断, 加, 深, 和, 蔓, 延, 整, 个, 世, 界, 一, 直, 在, 寻, 找, 历, 史, 上, 的, 类, 似, 事, 件, 希, 望, 有, 助, 于, 我, 们, 了, 解, 目, 前, 正, 在, 发, 生, 的, 情, 况, 。]</td>\n",
       "    </tr>\n",
       "    <tr>\n",
       "      <th>4</th>\n",
       "      <td>the tendency is either excessive restraint europe or a diffusion of the effort the united states</td>\n",
       "      <td>目前的趋势是，要么是过度的克制（欧洲 ） ， 要么是努力的扩展（美国 ） 。</td>\n",
       "      <td>[the, tendency, is, either, excessive, restraint, europe, or, a, diffusion, of, the, effort, the, united, states]</td>\n",
       "      <td>[目, 前, 的, 趋, 势, 是, 要, 么, 是, 过, 度, 的, 克, 制, 欧, 洲, 要, 么, 是, 努, 力, 的, 扩, 展, 美, 国, 。]</td>\n",
       "    </tr>\n",
       "    <tr>\n",
       "      <th>5</th>\n",
       "      <td>europe is being cautious in the name of avoiding debt and defending the euro whereas the us has moved on many fronts in order not to waste an ideal opportunity to implement badly needed structural reforms</td>\n",
       "      <td>欧洲在避免债务和捍卫欧元的名义下正变得谨慎，而美国已经在许多方面行动起来，以利用这一理想的时机来实行急需的结构性改革。</td>\n",
       "      <td>[europe, is, being, cautious, in, the, name, of, avoiding, debt, and, defending, the, euro, whereas, the, us, has, moved, on, many, fronts, in, order, not, to, waste, an, ideal, opportunity, to, implement, badly, needed, structural, reforms]</td>\n",
       "      <td>[欧, 洲, 在, 避, 免, 债, 务, 和, 捍, 卫, 欧, 元, 的, 名, 义, 下, 正, 变, 得, 谨, 慎, 而, 美, 国, 已, 经, 在, 许, 多, 方, 面, 行, 动, 起, 来, 以, 利, 用, 这, 一, 理, 想, 的, 时, 机, 来, 实, 行, 急, 需, 的, 结, 构, 性, 改, 革, 。]</td>\n",
       "    </tr>\n",
       "    <tr>\n",
       "      <th>7</th>\n",
       "      <td>of course the fall of the house of lehman brothers has nothing to do with the fall of the berlin wall</td>\n",
       "      <td>当然，雷曼兄弟公司的倒闭和柏林墙的倒塌没有任何关系。</td>\n",
       "      <td>[of, course, the, fall, of, the, house, of, lehman, brothers, has, nothing, to, do, with, the, fall, of, the, berlin, wall]</td>\n",
       "      <td>[当, 然, 雷, 曼, 兄, 弟, 公, 司, 的, 倒, 闭, 和, 柏, 林, 墙, 的, 倒, 塌, 没, 有, 任, 何, 关, 系, 。]</td>\n",
       "    </tr>\n",
       "    <tr>\n",
       "      <th>8</th>\n",
       "      <td>indeed on the surface it seems to be its perfect antithesis the collapse of a wall symbolizing oppression and artificial divisions versus the collapse of a seemingly indestructible and reassuring institution of financial capitalism</td>\n",
       "      <td>事实上，从表面上看，两者似乎是完全是相反的：一个是象征着压抑和人为分裂的柏林墙的倒塌，而另一个是看似坚不可摧的并令人安心的金融资本主义机构的倒塌。</td>\n",
       "      <td>[indeed, on, the, surface, it, seems, to, be, its, perfect, antithesis, the, collapse, of, a, wall, symbolizing, oppression, and, artificial, divisions, versus, the, collapse, of, a, seemingly, indestructible, and, reassuring, institution, of, financial, capitalism]</td>\n",
       "      <td>[事, 实, 上, 从, 表, 面, 上, 看, 两, 者, 似, 乎, 是, 完, 全, 是, 相, 反, 的, 一, 个, 是, 象, 征, 着, 压, 抑, 和, 人, 为, 分, 裂, 的, 柏, 林, 墙, 的, 倒, 塌, 而, 另, 一, 个, 是, 看, 似, 坚, 不, 可, 摧, 的, 并, 令, 人, 安, 心, 的, 金, 融, 资, 本, 主, 义, 机, 构, 的, 倒, 塌, 。]</td>\n",
       "    </tr>\n",
       "  </tbody>\n",
       "</table>\n",
       "</div>"
      ],
      "text/plain": [
       "                                                                                                                                                                                                                                   English  \\\n",
       "1                                                                                    paris – as the economic crisis deepens and widens the world has been searching for historical analogies to help us understand what has been happening   \n",
       "4                                                                                                                                         the tendency is either excessive restraint europe or a diffusion of the effort the united states   \n",
       "5                             europe is being cautious in the name of avoiding debt and defending the euro whereas the us has moved on many fronts in order not to waste an ideal opportunity to implement badly needed structural reforms   \n",
       "7                                                                                                                                    of course the fall of the house of lehman brothers has nothing to do with the fall of the berlin wall   \n",
       "8  indeed on the surface it seems to be its perfect antithesis the collapse of a wall symbolizing oppression and artificial divisions versus the collapse of a seemingly indestructible and reassuring institution of financial capitalism   \n",
       "\n",
       "                                                                     Chinese  \\\n",
       "1                      巴黎-随着经济危机不断加深和蔓延，整个世界一直在寻找历史上的类似事件希望有助于我们了解目前正在发生的情况。   \n",
       "4                                     目前的趋势是，要么是过度的克制（欧洲 ） ， 要么是努力的扩展（美国 ） 。   \n",
       "5                欧洲在避免债务和捍卫欧元的名义下正变得谨慎，而美国已经在许多方面行动起来，以利用这一理想的时机来实行急需的结构性改革。   \n",
       "7                                                 当然，雷曼兄弟公司的倒闭和柏林墙的倒塌没有任何关系。   \n",
       "8  事实上，从表面上看，两者似乎是完全是相反的：一个是象征着压抑和人为分裂的柏林墙的倒塌，而另一个是看似坚不可摧的并令人安心的金融资本主义机构的倒塌。   \n",
       "\n",
       "                                                                                                                                                                                                                                                            tokenized_english  \\\n",
       "1                                                                                                [paris, as, the, economic, crisis, deepens, and, widens, the, world, has, been, searching, for, historical, analogies, to, help, us, understand, what, has, been, happening]   \n",
       "4                                                                                                                                                           [the, tendency, is, either, excessive, restraint, europe, or, a, diffusion, of, the, effort, the, united, states]   \n",
       "5                           [europe, is, being, cautious, in, the, name, of, avoiding, debt, and, defending, the, euro, whereas, the, us, has, moved, on, many, fronts, in, order, not, to, waste, an, ideal, opportunity, to, implement, badly, needed, structural, reforms]   \n",
       "7                                                                                                                                                 [of, course, the, fall, of, the, house, of, lehman, brothers, has, nothing, to, do, with, the, fall, of, the, berlin, wall]   \n",
       "8  [indeed, on, the, surface, it, seems, to, be, its, perfect, antithesis, the, collapse, of, a, wall, symbolizing, oppression, and, artificial, divisions, versus, the, collapse, of, a, seemingly, indestructible, and, reassuring, institution, of, financial, capitalism]   \n",
       "\n",
       "                                                                                                                                                                                                 tokenized_chinese  \n",
       "1                                                     [巴, 黎, -, 随, 着, 经, 济, 危, 机, 不, 断, 加, 深, 和, 蔓, 延, 整, 个, 世, 界, 一, 直, 在, 寻, 找, 历, 史, 上, 的, 类, 似, 事, 件, 希, 望, 有, 助, 于, 我, 们, 了, 解, 目, 前, 正, 在, 发, 生, 的, 情, 况, 。]  \n",
       "4                                                                                                                                [目, 前, 的, 趋, 势, 是, 要, 么, 是, 过, 度, 的, 克, 制, 欧, 洲, 要, 么, 是, 努, 力, 的, 扩, 展, 美, 国, 。]  \n",
       "5                                      [欧, 洲, 在, 避, 免, 债, 务, 和, 捍, 卫, 欧, 元, 的, 名, 义, 下, 正, 变, 得, 谨, 慎, 而, 美, 国, 已, 经, 在, 许, 多, 方, 面, 行, 动, 起, 来, 以, 利, 用, 这, 一, 理, 想, 的, 时, 机, 来, 实, 行, 急, 需, 的, 结, 构, 性, 改, 革, 。]  \n",
       "7                                                                                                                                      [当, 然, 雷, 曼, 兄, 弟, 公, 司, 的, 倒, 闭, 和, 柏, 林, 墙, 的, 倒, 塌, 没, 有, 任, 何, 关, 系, 。]  \n",
       "8  [事, 实, 上, 从, 表, 面, 上, 看, 两, 者, 似, 乎, 是, 完, 全, 是, 相, 反, 的, 一, 个, 是, 象, 征, 着, 压, 抑, 和, 人, 为, 分, 裂, 的, 柏, 林, 墙, 的, 倒, 塌, 而, 另, 一, 个, 是, 看, 似, 坚, 不, 可, 摧, 的, 并, 令, 人, 安, 心, 的, 金, 融, 资, 本, 主, 义, 机, 构, 的, 倒, 塌, 。]  "
      ]
     },
     "execution_count": 89,
     "metadata": {},
     "output_type": "execute_result"
    }
   ],
   "source": [
    "df_chinese.head()"
   ]
  },
  {
   "cell_type": "code",
   "execution_count": 90,
   "metadata": {},
   "outputs": [
    {
     "data": {
      "text/plain": [
       "English                                                 indeed on the surface it seems to be its perfect antithesis the collapse of a wall symbolizing oppression and artificial divisions versus the collapse of a seemingly indestructible and reassuring institution of financial capitalism\n",
       "Chinese                                                                                                                                                                                                               事实上，从表面上看，两者似乎是完全是相反的：一个是象征着压抑和人为分裂的柏林墙的倒塌，而另一个是看似坚不可摧的并令人安心的金融资本主义机构的倒塌。\n",
       "tokenized_english    [indeed, on, the, surface, it, seems, to, be, its, perfect, antithesis, the, collapse, of, a, wall, symbolizing, oppression, and, artificial, divisions, versus, the, collapse, of, a, seemingly, indestructible, and, reassuring, institution, of, financial, capitalism]\n",
       "tokenized_chinese                                                               [事, 实, 上, 从, 表, 面, 上, 看, 两, 者, 似, 乎, 是, 完, 全, 是, 相, 反, 的, 一, 个, 是, 象, 征, 着, 压, 抑, 和, 人, 为, 分, 裂, 的, 柏, 林, 墙, 的, 倒, 塌, 而, 另, 一, 个, 是, 看, 似, 坚, 不, 可, 摧, 的, 并, 令, 人, 安, 心, 的, 金, 融, 资, 本, 主, 义, 机, 构, 的, 倒, 塌, 。]\n",
       "Name: 8, dtype: object"
      ]
     },
     "execution_count": 90,
     "metadata": {},
     "output_type": "execute_result"
    }
   ],
   "source": [
    "df_chinese.iloc[4]"
   ]
  },
  {
   "cell_type": "code",
   "execution_count": 115,
   "metadata": {},
   "outputs": [],
   "source": [
    "df_german['num_german_tokens'] = df_german['tokenized_german'].apply(len)\n",
    "df_german['num_english_tokens'] = df_german['tokenized_english'].apply(len)\n",
    "\n",
    "df_chinese['num_english_tokens'] = df_chinese['tokenized_english'].apply(len)\n",
    "df_chinese['num_chinese_tokens'] = df_chinese['tokenized_chinese'].apply(len)"
   ]
  },
  {
   "cell_type": "code",
   "execution_count": 116,
   "metadata": {},
   "outputs": [
    {
     "data": {
      "text/html": [
       "<div>\n",
       "<style scoped>\n",
       "    .dataframe tbody tr th:only-of-type {\n",
       "        vertical-align: middle;\n",
       "    }\n",
       "\n",
       "    .dataframe tbody tr th {\n",
       "        vertical-align: top;\n",
       "    }\n",
       "\n",
       "    .dataframe thead th {\n",
       "        text-align: right;\n",
       "    }\n",
       "</style>\n",
       "<table border=\"1\" class=\"dataframe\">\n",
       "  <thead>\n",
       "    <tr style=\"text-align: right;\">\n",
       "      <th></th>\n",
       "      <th>German</th>\n",
       "      <th>English</th>\n",
       "      <th>tokenized_german</th>\n",
       "      <th>tokenized_english</th>\n",
       "      <th>num_german_tokens</th>\n",
       "      <th>num_english_tokens</th>\n",
       "    </tr>\n",
       "  </thead>\n",
       "  <tbody>\n",
       "    <tr>\n",
       "      <th>1</th>\n",
       "      <td>san francisco – es war noch nie leicht ein rationales gespräch über den wert von gold zu führen</td>\n",
       "      <td>san francisco – it has never been easy to have a rational conversation about the value of gold</td>\n",
       "      <td>[san, francisco, es, war, noch, nie, leicht, ein, rationales, gespräch, über, den, wert, von, gold, zu, führen]</td>\n",
       "      <td>[san, francisco, it, has, never, been, easy, to, have, a, rational, conversation, about, the, value, of, gold]</td>\n",
       "      <td>17</td>\n",
       "      <td>17</td>\n",
       "    </tr>\n",
       "    <tr>\n",
       "      <th>3</th>\n",
       "      <td>erst letzten dezember verfassten meine kollegen martin feldstein und nouriel roubini kommentare in denen sie mutig die vorherrschende optimistische marktstimmung hinterfragten und sehr überlegt auf die risiken des goldes hinwiesen</td>\n",
       "      <td>just last december fellow economists martin feldstein and nouriel roubini each penned op-eds bravely questioning bullish market sentiment sensibly pointing out gold’s risks</td>\n",
       "      <td>[erst, letzten, dezember, verfassten, meine, kollegen, martin, feldstein, und, nouriel, roubini, kommentare, in, denen, sie, mutig, die, vorherrschende, optimistische, marktstimmung, hinterfragten, und, sehr, überlegt, auf, die, risiken, des, goldes, hinwiesen]</td>\n",
       "      <td>[just, last, december, fellow, economists, martin, feldstein, and, nouriel, roubini, each, penned, op, eds, bravely, questioning, bullish, market, sentiment, sensibly, pointing, out, gold, s, risks]</td>\n",
       "      <td>30</td>\n",
       "      <td>25</td>\n",
       "    </tr>\n",
       "    <tr>\n",
       "      <th>4</th>\n",
       "      <td>und es kam wie es kommen musste</td>\n",
       "      <td>wouldn’t you know it</td>\n",
       "      <td>[und, es, kam, wie, es, kommen, musste]</td>\n",
       "      <td>[wouldn, t, you, know, it]</td>\n",
       "      <td>7</td>\n",
       "      <td>5</td>\n",
       "    </tr>\n",
       "    <tr>\n",
       "      <th>5</th>\n",
       "      <td>seit der veröffentlichung ihrer artikel ist der goldpreis noch weiter gestiegen</td>\n",
       "      <td>since their articles appeared the price of gold has moved up still further</td>\n",
       "      <td>[seit, der, veröffentlichung, ihrer, artikel, ist, der, goldpreis, noch, weiter, gestiegen]</td>\n",
       "      <td>[since, their, articles, appeared, the, price, of, gold, has, moved, up, still, further]</td>\n",
       "      <td>11</td>\n",
       "      <td>13</td>\n",
       "    </tr>\n",
       "    <tr>\n",
       "      <th>8</th>\n",
       "      <td>beflügelt aufgrund des anhaltenden aufwärtstrends meint man nun mancherorts dass gold sogar noch höher steigen könnte</td>\n",
       "      <td>now emboldened by continuing appreciation some are suggesting that gold could be headed even higher than that</td>\n",
       "      <td>[beflügelt, aufgrund, des, anhaltenden, aufwärtstrends, meint, man, nun, mancherorts, dass, gold, sogar, noch, höher, steigen, könnte]</td>\n",
       "      <td>[now, emboldened, by, continuing, appreciation, some, are, suggesting, that, gold, could, be, headed, even, higher, than, that]</td>\n",
       "      <td>16</td>\n",
       "      <td>17</td>\n",
       "    </tr>\n",
       "  </tbody>\n",
       "</table>\n",
       "</div>"
      ],
      "text/plain": [
       "                                                                                                                                                                                                                                   German  \\\n",
       "1                                                                                                                                         san francisco – es war noch nie leicht ein rationales gespräch über den wert von gold zu führen   \n",
       "3  erst letzten dezember verfassten meine kollegen martin feldstein und nouriel roubini kommentare in denen sie mutig die vorherrschende optimistische marktstimmung hinterfragten und sehr überlegt auf die risiken des goldes hinwiesen   \n",
       "4                                                                                                                                                                                                         und es kam wie es kommen musste   \n",
       "5                                                                                                                                                         seit der veröffentlichung ihrer artikel ist der goldpreis noch weiter gestiegen   \n",
       "8                                                                                                                   beflügelt aufgrund des anhaltenden aufwärtstrends meint man nun mancherorts dass gold sogar noch höher steigen könnte   \n",
       "\n",
       "                                                                                                                                                                        English  \\\n",
       "1                                                                                san francisco – it has never been easy to have a rational conversation about the value of gold   \n",
       "3  just last december fellow economists martin feldstein and nouriel roubini each penned op-eds bravely questioning bullish market sentiment sensibly pointing out gold’s risks   \n",
       "4                                                                                                                                                          wouldn’t you know it   \n",
       "5                                                                                                    since their articles appeared the price of gold has moved up still further   \n",
       "8                                                                 now emboldened by continuing appreciation some are suggesting that gold could be headed even higher than that   \n",
       "\n",
       "                                                                                                                                                                                                                                                        tokenized_german  \\\n",
       "1                                                                                                                                                        [san, francisco, es, war, noch, nie, leicht, ein, rationales, gespräch, über, den, wert, von, gold, zu, führen]   \n",
       "3  [erst, letzten, dezember, verfassten, meine, kollegen, martin, feldstein, und, nouriel, roubini, kommentare, in, denen, sie, mutig, die, vorherrschende, optimistische, marktstimmung, hinterfragten, und, sehr, überlegt, auf, die, risiken, des, goldes, hinwiesen]   \n",
       "4                                                                                                                                                                                                                                [und, es, kam, wie, es, kommen, musste]   \n",
       "5                                                                                                                                                                            [seit, der, veröffentlichung, ihrer, artikel, ist, der, goldpreis, noch, weiter, gestiegen]   \n",
       "8                                                                                                                                 [beflügelt, aufgrund, des, anhaltenden, aufwärtstrends, meint, man, nun, mancherorts, dass, gold, sogar, noch, höher, steigen, könnte]   \n",
       "\n",
       "                                                                                                                                                                                        tokenized_english  \\\n",
       "1                                                                                          [san, francisco, it, has, never, been, easy, to, have, a, rational, conversation, about, the, value, of, gold]   \n",
       "3  [just, last, december, fellow, economists, martin, feldstein, and, nouriel, roubini, each, penned, op, eds, bravely, questioning, bullish, market, sentiment, sensibly, pointing, out, gold, s, risks]   \n",
       "4                                                                                                                                                                              [wouldn, t, you, know, it]   \n",
       "5                                                                                                                [since, their, articles, appeared, the, price, of, gold, has, moved, up, still, further]   \n",
       "8                                                                         [now, emboldened, by, continuing, appreciation, some, are, suggesting, that, gold, could, be, headed, even, higher, than, that]   \n",
       "\n",
       "   num_german_tokens  num_english_tokens  \n",
       "1                 17                  17  \n",
       "3                 30                  25  \n",
       "4                  7                   5  \n",
       "5                 11                  13  \n",
       "8                 16                  17  "
      ]
     },
     "execution_count": 116,
     "metadata": {},
     "output_type": "execute_result"
    }
   ],
   "source": [
    "df_german.head()"
   ]
  },
  {
   "cell_type": "code",
   "execution_count": 93,
   "metadata": {},
   "outputs": [
    {
     "data": {
      "text/html": [
       "<div>\n",
       "<style scoped>\n",
       "    .dataframe tbody tr th:only-of-type {\n",
       "        vertical-align: middle;\n",
       "    }\n",
       "\n",
       "    .dataframe tbody tr th {\n",
       "        vertical-align: top;\n",
       "    }\n",
       "\n",
       "    .dataframe thead th {\n",
       "        text-align: right;\n",
       "    }\n",
       "</style>\n",
       "<table border=\"1\" class=\"dataframe\">\n",
       "  <thead>\n",
       "    <tr style=\"text-align: right;\">\n",
       "      <th></th>\n",
       "      <th>English</th>\n",
       "      <th>Chinese</th>\n",
       "      <th>tokenized_english</th>\n",
       "      <th>tokenized_chinese</th>\n",
       "      <th>num_english_tokens</th>\n",
       "      <th>num_chinese_tokens</th>\n",
       "    </tr>\n",
       "  </thead>\n",
       "  <tbody>\n",
       "    <tr>\n",
       "      <th>1</th>\n",
       "      <td>paris – as the economic crisis deepens and widens the world has been searching for historical analogies to help us understand what has been happening</td>\n",
       "      <td>巴黎-随着经济危机不断加深和蔓延，整个世界一直在寻找历史上的类似事件希望有助于我们了解目前正在发生的情况。</td>\n",
       "      <td>[paris, as, the, economic, crisis, deepens, and, widens, the, world, has, been, searching, for, historical, analogies, to, help, us, understand, what, has, been, happening]</td>\n",
       "      <td>[巴, 黎, -, 随, 着, 经, 济, 危, 机, 不, 断, 加, 深, 和, 蔓, 延, 整, 个, 世, 界, 一, 直, 在, 寻, 找, 历, 史, 上, 的, 类, 似, 事, 件, 希, 望, 有, 助, 于, 我, 们, 了, 解, 目, 前, 正, 在, 发, 生, 的, 情, 况, 。]</td>\n",
       "      <td>24</td>\n",
       "      <td>52</td>\n",
       "    </tr>\n",
       "    <tr>\n",
       "      <th>4</th>\n",
       "      <td>the tendency is either excessive restraint europe or a diffusion of the effort the united states</td>\n",
       "      <td>目前的趋势是，要么是过度的克制（欧洲 ） ， 要么是努力的扩展（美国 ） 。</td>\n",
       "      <td>[the, tendency, is, either, excessive, restraint, europe, or, a, diffusion, of, the, effort, the, united, states]</td>\n",
       "      <td>[目, 前, 的, 趋, 势, 是, 要, 么, 是, 过, 度, 的, 克, 制, 欧, 洲, 要, 么, 是, 努, 力, 的, 扩, 展, 美, 国, 。]</td>\n",
       "      <td>16</td>\n",
       "      <td>27</td>\n",
       "    </tr>\n",
       "    <tr>\n",
       "      <th>5</th>\n",
       "      <td>europe is being cautious in the name of avoiding debt and defending the euro whereas the us has moved on many fronts in order not to waste an ideal opportunity to implement badly needed structural reforms</td>\n",
       "      <td>欧洲在避免债务和捍卫欧元的名义下正变得谨慎，而美国已经在许多方面行动起来，以利用这一理想的时机来实行急需的结构性改革。</td>\n",
       "      <td>[europe, is, being, cautious, in, the, name, of, avoiding, debt, and, defending, the, euro, whereas, the, us, has, moved, on, many, fronts, in, order, not, to, waste, an, ideal, opportunity, to, implement, badly, needed, structural, reforms]</td>\n",
       "      <td>[欧, 洲, 在, 避, 免, 债, 务, 和, 捍, 卫, 欧, 元, 的, 名, 义, 下, 正, 变, 得, 谨, 慎, 而, 美, 国, 已, 经, 在, 许, 多, 方, 面, 行, 动, 起, 来, 以, 利, 用, 这, 一, 理, 想, 的, 时, 机, 来, 实, 行, 急, 需, 的, 结, 构, 性, 改, 革, 。]</td>\n",
       "      <td>36</td>\n",
       "      <td>57</td>\n",
       "    </tr>\n",
       "    <tr>\n",
       "      <th>7</th>\n",
       "      <td>of course the fall of the house of lehman brothers has nothing to do with the fall of the berlin wall</td>\n",
       "      <td>当然，雷曼兄弟公司的倒闭和柏林墙的倒塌没有任何关系。</td>\n",
       "      <td>[of, course, the, fall, of, the, house, of, lehman, brothers, has, nothing, to, do, with, the, fall, of, the, berlin, wall]</td>\n",
       "      <td>[当, 然, 雷, 曼, 兄, 弟, 公, 司, 的, 倒, 闭, 和, 柏, 林, 墙, 的, 倒, 塌, 没, 有, 任, 何, 关, 系, 。]</td>\n",
       "      <td>21</td>\n",
       "      <td>25</td>\n",
       "    </tr>\n",
       "    <tr>\n",
       "      <th>8</th>\n",
       "      <td>indeed on the surface it seems to be its perfect antithesis the collapse of a wall symbolizing oppression and artificial divisions versus the collapse of a seemingly indestructible and reassuring institution of financial capitalism</td>\n",
       "      <td>事实上，从表面上看，两者似乎是完全是相反的：一个是象征着压抑和人为分裂的柏林墙的倒塌，而另一个是看似坚不可摧的并令人安心的金融资本主义机构的倒塌。</td>\n",
       "      <td>[indeed, on, the, surface, it, seems, to, be, its, perfect, antithesis, the, collapse, of, a, wall, symbolizing, oppression, and, artificial, divisions, versus, the, collapse, of, a, seemingly, indestructible, and, reassuring, institution, of, financial, capitalism]</td>\n",
       "      <td>[事, 实, 上, 从, 表, 面, 上, 看, 两, 者, 似, 乎, 是, 完, 全, 是, 相, 反, 的, 一, 个, 是, 象, 征, 着, 压, 抑, 和, 人, 为, 分, 裂, 的, 柏, 林, 墙, 的, 倒, 塌, 而, 另, 一, 个, 是, 看, 似, 坚, 不, 可, 摧, 的, 并, 令, 人, 安, 心, 的, 金, 融, 资, 本, 主, 义, 机, 构, 的, 倒, 塌, 。]</td>\n",
       "      <td>34</td>\n",
       "      <td>69</td>\n",
       "    </tr>\n",
       "  </tbody>\n",
       "</table>\n",
       "</div>"
      ],
      "text/plain": [
       "                                                                                                                                                                                                                                   English  \\\n",
       "1                                                                                    paris – as the economic crisis deepens and widens the world has been searching for historical analogies to help us understand what has been happening   \n",
       "4                                                                                                                                         the tendency is either excessive restraint europe or a diffusion of the effort the united states   \n",
       "5                             europe is being cautious in the name of avoiding debt and defending the euro whereas the us has moved on many fronts in order not to waste an ideal opportunity to implement badly needed structural reforms   \n",
       "7                                                                                                                                    of course the fall of the house of lehman brothers has nothing to do with the fall of the berlin wall   \n",
       "8  indeed on the surface it seems to be its perfect antithesis the collapse of a wall symbolizing oppression and artificial divisions versus the collapse of a seemingly indestructible and reassuring institution of financial capitalism   \n",
       "\n",
       "                                                                     Chinese  \\\n",
       "1                      巴黎-随着经济危机不断加深和蔓延，整个世界一直在寻找历史上的类似事件希望有助于我们了解目前正在发生的情况。   \n",
       "4                                     目前的趋势是，要么是过度的克制（欧洲 ） ， 要么是努力的扩展（美国 ） 。   \n",
       "5                欧洲在避免债务和捍卫欧元的名义下正变得谨慎，而美国已经在许多方面行动起来，以利用这一理想的时机来实行急需的结构性改革。   \n",
       "7                                                 当然，雷曼兄弟公司的倒闭和柏林墙的倒塌没有任何关系。   \n",
       "8  事实上，从表面上看，两者似乎是完全是相反的：一个是象征着压抑和人为分裂的柏林墙的倒塌，而另一个是看似坚不可摧的并令人安心的金融资本主义机构的倒塌。   \n",
       "\n",
       "                                                                                                                                                                                                                                                            tokenized_english  \\\n",
       "1                                                                                                [paris, as, the, economic, crisis, deepens, and, widens, the, world, has, been, searching, for, historical, analogies, to, help, us, understand, what, has, been, happening]   \n",
       "4                                                                                                                                                           [the, tendency, is, either, excessive, restraint, europe, or, a, diffusion, of, the, effort, the, united, states]   \n",
       "5                           [europe, is, being, cautious, in, the, name, of, avoiding, debt, and, defending, the, euro, whereas, the, us, has, moved, on, many, fronts, in, order, not, to, waste, an, ideal, opportunity, to, implement, badly, needed, structural, reforms]   \n",
       "7                                                                                                                                                 [of, course, the, fall, of, the, house, of, lehman, brothers, has, nothing, to, do, with, the, fall, of, the, berlin, wall]   \n",
       "8  [indeed, on, the, surface, it, seems, to, be, its, perfect, antithesis, the, collapse, of, a, wall, symbolizing, oppression, and, artificial, divisions, versus, the, collapse, of, a, seemingly, indestructible, and, reassuring, institution, of, financial, capitalism]   \n",
       "\n",
       "                                                                                                                                                                                                 tokenized_chinese  \\\n",
       "1                                                     [巴, 黎, -, 随, 着, 经, 济, 危, 机, 不, 断, 加, 深, 和, 蔓, 延, 整, 个, 世, 界, 一, 直, 在, 寻, 找, 历, 史, 上, 的, 类, 似, 事, 件, 希, 望, 有, 助, 于, 我, 们, 了, 解, 目, 前, 正, 在, 发, 生, 的, 情, 况, 。]   \n",
       "4                                                                                                                                [目, 前, 的, 趋, 势, 是, 要, 么, 是, 过, 度, 的, 克, 制, 欧, 洲, 要, 么, 是, 努, 力, 的, 扩, 展, 美, 国, 。]   \n",
       "5                                      [欧, 洲, 在, 避, 免, 债, 务, 和, 捍, 卫, 欧, 元, 的, 名, 义, 下, 正, 变, 得, 谨, 慎, 而, 美, 国, 已, 经, 在, 许, 多, 方, 面, 行, 动, 起, 来, 以, 利, 用, 这, 一, 理, 想, 的, 时, 机, 来, 实, 行, 急, 需, 的, 结, 构, 性, 改, 革, 。]   \n",
       "7                                                                                                                                      [当, 然, 雷, 曼, 兄, 弟, 公, 司, 的, 倒, 闭, 和, 柏, 林, 墙, 的, 倒, 塌, 没, 有, 任, 何, 关, 系, 。]   \n",
       "8  [事, 实, 上, 从, 表, 面, 上, 看, 两, 者, 似, 乎, 是, 完, 全, 是, 相, 反, 的, 一, 个, 是, 象, 征, 着, 压, 抑, 和, 人, 为, 分, 裂, 的, 柏, 林, 墙, 的, 倒, 塌, 而, 另, 一, 个, 是, 看, 似, 坚, 不, 可, 摧, 的, 并, 令, 人, 安, 心, 的, 金, 融, 资, 本, 主, 义, 机, 构, 的, 倒, 塌, 。]   \n",
       "\n",
       "   num_english_tokens  num_chinese_tokens  \n",
       "1                  24                  52  \n",
       "4                  16                  27  \n",
       "5                  36                  57  \n",
       "7                  21                  25  \n",
       "8                  34                  69  "
      ]
     },
     "execution_count": 93,
     "metadata": {},
     "output_type": "execute_result"
    }
   ],
   "source": [
    "df_chinese.head()"
   ]
  },
  {
   "cell_type": "code",
   "execution_count": 94,
   "metadata": {},
   "outputs": [
    {
     "name": "stdout",
     "output_type": "stream",
     "text": [
      "Number of paired german-english sentences:  306456\n",
      "Average german sentence length:  21.50793262328034\n",
      "Average english sentence length:  21.33810073876837\n",
      "\n",
      "Number of paired chinese-english sentences:  263872\n",
      "Average chinese sentence length:  37.08221410380791\n",
      "Average english sentence length:  21.71863630851322\n"
     ]
    }
   ],
   "source": [
    "print('Number of paired german-english sentences: ', df_german.shape[0])\n",
    "print('Average german sentence length: ', df_german['num_german_tokens'].mean())\n",
    "print('Average english sentence length: ', df_german['num_english_tokens'].mean())\n",
    "print('')\n",
    "print('Number of paired chinese-english sentences: ', df_chinese.shape[0])\n",
    "print('Average chinese sentence length: ', df_chinese['num_chinese_tokens'].mean())\n",
    "print('Average english sentence length: ', df_chinese['num_english_tokens'].mean())"
   ]
  },
  {
   "cell_type": "code",
   "execution_count": 95,
   "metadata": {},
   "outputs": [
    {
     "data": {
      "text/plain": [
       "<matplotlib.legend.Legend at 0x11934de6cc8>"
      ]
     },
     "execution_count": 95,
     "metadata": {},
     "output_type": "execute_result"
    },
    {
     "data": {
      "image/png": "[encoded data removed]",
      "text/plain": [
       "<Figure size 432x288 with 1 Axes>"
      ]
     },
     "metadata": {
      "needs_background": "light"
     },
     "output_type": "display_data"
    }
   ],
   "source": [
    "plt.hist([df_german['num_german_tokens'],df_german['num_english_tokens']],bins=20, label=['german tokens', 'english tokens'])\n",
    "plt.legend(loc='upper right')"
   ]
  },
  {
   "cell_type": "code",
   "execution_count": 96,
   "metadata": {},
   "outputs": [
    {
     "data": {
      "text/plain": [
       "<matplotlib.legend.Legend at 0x1198534d508>"
      ]
     },
     "execution_count": 96,
     "metadata": {},
     "output_type": "execute_result"
    },
    {
     "data": {
      "image/png": "[encoded data removed]",
      "text/plain": [
       "<Figure size 432x288 with 1 Axes>"
      ]
     },
     "metadata": {
      "needs_background": "light"
     },
     "output_type": "display_data"
    }
   ],
   "source": [
    "plt.hist([df_chinese['num_chinese_tokens'],df_chinese['num_english_tokens']],bins=20, label=['chinese tokens', 'english tokens'])\n",
    "plt.legend(loc='upper right')"
   ]
  },
  {
   "cell_type": "code",
   "execution_count": 124,
   "metadata": {},
   "outputs": [
    {
     "name": "stdout",
     "output_type": "stream",
     "text": [
      "Number of unique german words: 163396\n",
      "Number of unique english words:  55798\n"
     ]
    }
   ],
   "source": [
    "german_vocab = len(set(itertools.chain.from_iterable(df_german.tokenized_german)))\n",
    "english_german_vocab = len(set(itertools.chain.from_iterable(df_german.tokenized_english)))\n",
    "\n",
    "print('Number of unique german words:', german_vocab)\n",
    "print('Number of unique english words: ', english_german_vocab)"
   ]
  },
  {
   "cell_type": "code",
   "execution_count": 125,
   "metadata": {},
   "outputs": [
    {
     "name": "stdout",
     "output_type": "stream",
     "text": [
      "Number of unique chinese words: 15673\n",
      "Number of unique english words:  51618\n"
     ]
    }
   ],
   "source": [
    "chinese_vocab = len(set(itertools.chain.from_iterable(df_chinese.tokenized_chinese)))\n",
    "english_chinese_vocab = len(set(itertools.chain.from_iterable(df_chinese.tokenized_english)))\n",
    "\n",
    "print('Number of unique chinese words:', chinese_vocab)\n",
    "print('Number of unique english words: ', english_chinese_vocab)"
   ]
  }
 ],
 "metadata": {
  "kernelspec": {
   "display_name": "Python 3",
   "language": "python",
   "name": "python3"
  },
  "language_info": {
   "codemirror_mode": {
    "name": "ipython",
    "version": 3
   },
   "file_extension": ".py",
   "mimetype": "text/x-python",
   "name": "python",
   "nbconvert_exporter": "python",
   "pygments_lexer": "ipython3",
   "version": "3.7.6"
  }
 },
 "nbformat": 4,
 "nbformat_minor": 4
}
